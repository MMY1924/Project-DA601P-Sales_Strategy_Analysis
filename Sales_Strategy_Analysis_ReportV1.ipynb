{
 "cells": [
  {
   "cell_type": "markdown",
   "metadata": {},
   "source": [
    "# Sales Strategy Effectiveness Analysis Report\n",
    "\n",
    "## New Office Stationery Product Line Performance Evaluation\n",
    "\n",
    "**Analysis Period:** 6-Week Sales Campaign  \n",
    "**Dataset:** 15,000 customer interactions across 3 sales methodologies  \n",
    "**Business Context:** Optimization of sales approach for creativity-focused stationery line  \n",
    "\n",
    "---\n",
    "\n",
    "## Executive Summary\n",
    "\n",
    "This analysis evaluates the comparative effectiveness of three sales methodologies—Email, Call, and Email+Call—implemented during the launch of our new office stationery product line. Key findings indicate that while Email demonstrates superior short-term efficiency, Email+Call shows the strongest trajectory for sustainable revenue growth and customer engagement.\n",
    "\n",
    "**Strategic Recommendations:**\n",
    "1. **Primary Focus:** Implement Email+Call as the primary sales methodology\n",
    "2. **Resource Allocation:** Redistribute 60% of sales efforts toward combined approach\n",
    "3. **Performance Monitoring:** Establish TRMNS (Total Revenue per Minute per Sales) as primary efficiency KPI\n",
    "\n",
    "---"
   ]
  },
  {
   "cell_type": "markdown",
   "metadata": {},
   "source": [
    "# 1. Data Validation and Quality Assurance\n",
    "\n",
    "## 1.1 Dataset Overview and Initial Assessment"
   ]
  },
  {
   "cell_type": "code",
   "metadata": {
    "ExecuteTime": {
     "end_time": "2025-08-27T17:46:09.772805Z",
     "start_time": "2025-08-27T17:46:09.769374Z"
    }
   },
   "source": [
    "# Importing libraries needed for our analysis\n",
    "import pandas as pd\n",
    "import numpy as np\n"
   ],
   "outputs": [],
   "execution_count": 364
  },
  {
   "cell_type": "markdown",
   "metadata": {},
   "source": "The analysis begins by importing essential Python libraries for comprehensive data processing and visualization. Pandas provides the foundational DataFrame structure enabling sophisticated data manipulation capabilities, while NumPy supports advanced numerical computations required for statistical analysis throughout this evaluation."
  },
  {
   "cell_type": "code",
   "metadata": {
    "ExecuteTime": {
     "end_time": "2025-08-27T17:46:09.807228Z",
     "start_time": "2025-08-27T17:46:09.805438Z"
    }
   },
   "source": [
    "import seaborn as sns\n",
    "import matplotlib.pyplot as plt\n",
    "import plotly.express as px\n",
    "import plotly.graph_objects as go"
   ],
   "outputs": [],
   "execution_count": 365
  },
  {
   "cell_type": "markdown",
   "metadata": {},
   "source": "Additional visualization libraries are loaded to support advanced graphical analysis capabilities. Seaborn enables sophisticated statistical visualization patterns with enhanced aesthetic controls, while Matplotlib provides the underlying plotting infrastructure. These tools collectively enable the creation of professional-grade charts and graphs essential for effective business communication and data interpretation."
  },
  {
   "cell_type": "code",
   "metadata": {
    "ExecuteTime": {
     "end_time": "2025-08-27T17:46:09.887807Z",
     "start_time": "2025-08-27T17:46:09.873247Z"
    }
   },
   "source": [
    "# CSV file is read\n",
    "sales_data = pd.read_csv('product_sales.csv')"
   ],
   "outputs": [],
   "execution_count": 366
  },
  {
   "cell_type": "markdown",
   "metadata": {},
   "source": "The sales dataset is loaded into memory through pandas' CSV reading functionality. This operation establishes the foundational data structure containing customer interactions and sales performance metrics across multiple channels. The successful data ingestion represents the first critical step in the analytical workflow, transforming raw business data into a format suitable for comprehensive analysis."
  },
  {
   "cell_type": "code",
   "metadata": {
    "ExecuteTime": {
     "end_time": "2025-08-27T17:46:09.944833Z",
     "start_time": "2025-08-27T17:46:09.939073Z"
    }
   },
   "source": [
    "# The first data are reviewed to get to know the DataFrame\n",
    "sales_data.head()"
   ],
   "outputs": [
    {
     "data": {
      "text/plain": [
       "   week  sales_method                           customer_id  nb_sold  revenue  \\\n",
       "0     2         Email  2e72d641-95ac-497b-bbf8-4861764a7097       10      NaN   \n",
       "1     6  Email + Call  3998a98d-70f5-44f7-942e-789bb8ad2fe7       15   225.47   \n",
       "2     5          Call  d1de9884-8059-4065-b10f-86eef57e4a44       11    52.55   \n",
       "3     4         Email  78aa75a4-ffeb-4817-b1d0-2f030783c5d7       11      NaN   \n",
       "4     3         Email  10e6d446-10a5-42e5-8210-1b5438f70922        9    90.49   \n",
       "\n",
       "   years_as_customer  nb_site_visits      state  \n",
       "0                  0              24    Arizona  \n",
       "1                  1              28     Kansas  \n",
       "2                  6              26  Wisconsin  \n",
       "3                  3              25    Indiana  \n",
       "4                  0              28   Illinois  "
      ],
      "text/html": [
       "<div>\n",
       "<style scoped>\n",
       "    .dataframe tbody tr th:only-of-type {\n",
       "        vertical-align: middle;\n",
       "    }\n",
       "\n",
       "    .dataframe tbody tr th {\n",
       "        vertical-align: top;\n",
       "    }\n",
       "\n",
       "    .dataframe thead th {\n",
       "        text-align: right;\n",
       "    }\n",
       "</style>\n",
       "<table border=\"1\" class=\"dataframe\">\n",
       "  <thead>\n",
       "    <tr style=\"text-align: right;\">\n",
       "      <th></th>\n",
       "      <th>week</th>\n",
       "      <th>sales_method</th>\n",
       "      <th>customer_id</th>\n",
       "      <th>nb_sold</th>\n",
       "      <th>revenue</th>\n",
       "      <th>years_as_customer</th>\n",
       "      <th>nb_site_visits</th>\n",
       "      <th>state</th>\n",
       "    </tr>\n",
       "  </thead>\n",
       "  <tbody>\n",
       "    <tr>\n",
       "      <th>0</th>\n",
       "      <td>2</td>\n",
       "      <td>Email</td>\n",
       "      <td>2e72d641-95ac-497b-bbf8-4861764a7097</td>\n",
       "      <td>10</td>\n",
       "      <td>NaN</td>\n",
       "      <td>0</td>\n",
       "      <td>24</td>\n",
       "      <td>Arizona</td>\n",
       "    </tr>\n",
       "    <tr>\n",
       "      <th>1</th>\n",
       "      <td>6</td>\n",
       "      <td>Email + Call</td>\n",
       "      <td>3998a98d-70f5-44f7-942e-789bb8ad2fe7</td>\n",
       "      <td>15</td>\n",
       "      <td>225.47</td>\n",
       "      <td>1</td>\n",
       "      <td>28</td>\n",
       "      <td>Kansas</td>\n",
       "    </tr>\n",
       "    <tr>\n",
       "      <th>2</th>\n",
       "      <td>5</td>\n",
       "      <td>Call</td>\n",
       "      <td>d1de9884-8059-4065-b10f-86eef57e4a44</td>\n",
       "      <td>11</td>\n",
       "      <td>52.55</td>\n",
       "      <td>6</td>\n",
       "      <td>26</td>\n",
       "      <td>Wisconsin</td>\n",
       "    </tr>\n",
       "    <tr>\n",
       "      <th>3</th>\n",
       "      <td>4</td>\n",
       "      <td>Email</td>\n",
       "      <td>78aa75a4-ffeb-4817-b1d0-2f030783c5d7</td>\n",
       "      <td>11</td>\n",
       "      <td>NaN</td>\n",
       "      <td>3</td>\n",
       "      <td>25</td>\n",
       "      <td>Indiana</td>\n",
       "    </tr>\n",
       "    <tr>\n",
       "      <th>4</th>\n",
       "      <td>3</td>\n",
       "      <td>Email</td>\n",
       "      <td>10e6d446-10a5-42e5-8210-1b5438f70922</td>\n",
       "      <td>9</td>\n",
       "      <td>90.49</td>\n",
       "      <td>0</td>\n",
       "      <td>28</td>\n",
       "      <td>Illinois</td>\n",
       "    </tr>\n",
       "  </tbody>\n",
       "</table>\n",
       "</div>"
      ]
     },
     "execution_count": 367,
     "metadata": {},
     "output_type": "execute_result"
    }
   ],
   "execution_count": 367
  },
  {
   "cell_type": "markdown",
   "metadata": {},
   "source": "An initial examination of the dataset structure reveals key variables including sales methodology, customer demographics, purchase behavior, and revenue metrics. This preliminary inspection provides stakeholders with immediate insights into data composition, revealing the scope of customer interactions spanning multiple geographic regions and sales approaches. The preview establishes confidence in data quality and completeness for subsequent analytical procedures."
  },
  {
   "cell_type": "code",
   "metadata": {
    "ExecuteTime": {
     "end_time": "2025-08-27T17:46:10.041864Z",
     "start_time": "2025-08-27T17:46:10.039177Z"
    }
   },
   "source": [
    "# Validate numbers of columns and rows\n",
    "sales_data.shape"
   ],
   "outputs": [
    {
     "data": {
      "text/plain": [
       "(15000, 8)"
      ]
     },
     "execution_count": 368,
     "metadata": {},
     "output_type": "execute_result"
    }
   ],
   "execution_count": 368
  },
  {
   "cell_type": "markdown",
   "metadata": {},
   "source": "The dataset dimensions confirm a substantial analytical foundation with 15,000 customer records across 8 distinct variables. This scale provides sufficient statistical power for reliable pattern identification while maintaining manageable computational requirements. The balanced dataset size ensures both analytical depth and processing efficiency for comprehensive sales methodology evaluation."
  },
  {
   "cell_type": "code",
   "metadata": {
    "ExecuteTime": {
     "end_time": "2025-08-27T17:46:10.111737Z",
     "start_time": "2025-08-27T17:46:10.104939Z"
    }
   },
   "source": [
    "# Checking for missing values and finding each column data type\n",
    "sales_data.info()"
   ],
   "outputs": [
    {
     "name": "stdout",
     "output_type": "stream",
     "text": [
      "<class 'pandas.core.frame.DataFrame'>\n",
      "RangeIndex: 15000 entries, 0 to 14999\n",
      "Data columns (total 8 columns):\n",
      " #   Column             Non-Null Count  Dtype  \n",
      "---  ------             --------------  -----  \n",
      " 0   week               15000 non-null  int64  \n",
      " 1   sales_method       15000 non-null  object \n",
      " 2   customer_id        15000 non-null  object \n",
      " 3   nb_sold            15000 non-null  int64  \n",
      " 4   revenue            13926 non-null  float64\n",
      " 5   years_as_customer  15000 non-null  int64  \n",
      " 6   nb_site_visits     15000 non-null  int64  \n",
      " 7   state              15000 non-null  object \n",
      "dtypes: float64(1), int64(4), object(3)\n",
      "memory usage: 937.6+ KB\n"
     ]
    }
   ],
   "execution_count": 369
  },
  {
   "cell_type": "markdown",
   "metadata": {},
   "source": "Comprehensive metadata analysis reveals the dataset's structural integrity with appropriate data types for each variable category. Revenue data shows 1,074 missing values requiring strategic imputation, while all other variables demonstrate complete coverage. This assessment establishes the foundation for targeted data quality improvement procedures, ensuring analytical reliability throughout the evaluation process."
  },
  {
   "cell_type": "markdown",
   "metadata": {},
   "source": [
    "## 1.2 Missing Data Analysis and Treatment"
   ]
  },
  {
   "cell_type": "code",
   "metadata": {
    "ExecuteTime": {
     "end_time": "2025-08-27T17:46:10.260058Z",
     "start_time": "2025-08-27T17:46:10.255232Z"
    }
   },
   "source": [
    "# We can see there are some missing values in the revenue column\n",
    "# Check for missing values\n",
    "missing_values = sales_data.isnull().sum()\n",
    "print(missing_values)"
   ],
   "outputs": [
    {
     "name": "stdout",
     "output_type": "stream",
     "text": [
      "week                    0\n",
      "sales_method            0\n",
      "customer_id             0\n",
      "nb_sold                 0\n",
      "revenue              1074\n",
      "years_as_customer       0\n",
      "nb_site_visits          0\n",
      "state                   0\n",
      "dtype: int64\n"
     ]
    }
   ],
   "execution_count": 370
  },
  {
   "cell_type": "markdown",
   "metadata": {},
   "source": "Systematic missing data quantification identifies revenue as the primary variable requiring attention, with approximately 7.2% missing values across the dataset. This targeted assessment enables precise resource allocation for data cleaning efforts. The analysis confirms that missing data patterns are manageable and will not compromise the integrity of subsequent analytical procedures when properly addressed through appropriate imputation strategies."
  },
  {
   "cell_type": "code",
   "metadata": {
    "ExecuteTime": {
     "end_time": "2025-08-27T17:46:10.357791Z",
     "start_time": "2025-08-27T17:46:10.344935Z"
    }
   },
   "source": [
    "sales_data.describe()"
   ],
   "outputs": [
    {
     "data": {
      "text/plain": [
       "               week       nb_sold       revenue  years_as_customer  \\\n",
       "count  15000.000000  15000.000000  13926.000000       15000.000000   \n",
       "mean       3.098267     10.084667     93.934943           4.965933   \n",
       "std        1.656420      1.812213     47.435312           5.044952   \n",
       "min        1.000000      7.000000     32.540000           0.000000   \n",
       "25%        2.000000      9.000000     52.470000           1.000000   \n",
       "50%        3.000000     10.000000     89.500000           3.000000   \n",
       "75%        5.000000     11.000000    107.327500           7.000000   \n",
       "max        6.000000     16.000000    238.320000          63.000000   \n",
       "\n",
       "       nb_site_visits  \n",
       "count    15000.000000  \n",
       "mean        24.990867  \n",
       "std          3.500914  \n",
       "min         12.000000  \n",
       "25%         23.000000  \n",
       "50%         25.000000  \n",
       "75%         27.000000  \n",
       "max         41.000000  "
      ],
      "text/html": [
       "<div>\n",
       "<style scoped>\n",
       "    .dataframe tbody tr th:only-of-type {\n",
       "        vertical-align: middle;\n",
       "    }\n",
       "\n",
       "    .dataframe tbody tr th {\n",
       "        vertical-align: top;\n",
       "    }\n",
       "\n",
       "    .dataframe thead th {\n",
       "        text-align: right;\n",
       "    }\n",
       "</style>\n",
       "<table border=\"1\" class=\"dataframe\">\n",
       "  <thead>\n",
       "    <tr style=\"text-align: right;\">\n",
       "      <th></th>\n",
       "      <th>week</th>\n",
       "      <th>nb_sold</th>\n",
       "      <th>revenue</th>\n",
       "      <th>years_as_customer</th>\n",
       "      <th>nb_site_visits</th>\n",
       "    </tr>\n",
       "  </thead>\n",
       "  <tbody>\n",
       "    <tr>\n",
       "      <th>count</th>\n",
       "      <td>15000.000000</td>\n",
       "      <td>15000.000000</td>\n",
       "      <td>13926.000000</td>\n",
       "      <td>15000.000000</td>\n",
       "      <td>15000.000000</td>\n",
       "    </tr>\n",
       "    <tr>\n",
       "      <th>mean</th>\n",
       "      <td>3.098267</td>\n",
       "      <td>10.084667</td>\n",
       "      <td>93.934943</td>\n",
       "      <td>4.965933</td>\n",
       "      <td>24.990867</td>\n",
       "    </tr>\n",
       "    <tr>\n",
       "      <th>std</th>\n",
       "      <td>1.656420</td>\n",
       "      <td>1.812213</td>\n",
       "      <td>47.435312</td>\n",
       "      <td>5.044952</td>\n",
       "      <td>3.500914</td>\n",
       "    </tr>\n",
       "    <tr>\n",
       "      <th>min</th>\n",
       "      <td>1.000000</td>\n",
       "      <td>7.000000</td>\n",
       "      <td>32.540000</td>\n",
       "      <td>0.000000</td>\n",
       "      <td>12.000000</td>\n",
       "    </tr>\n",
       "    <tr>\n",
       "      <th>25%</th>\n",
       "      <td>2.000000</td>\n",
       "      <td>9.000000</td>\n",
       "      <td>52.470000</td>\n",
       "      <td>1.000000</td>\n",
       "      <td>23.000000</td>\n",
       "    </tr>\n",
       "    <tr>\n",
       "      <th>50%</th>\n",
       "      <td>3.000000</td>\n",
       "      <td>10.000000</td>\n",
       "      <td>89.500000</td>\n",
       "      <td>3.000000</td>\n",
       "      <td>25.000000</td>\n",
       "    </tr>\n",
       "    <tr>\n",
       "      <th>75%</th>\n",
       "      <td>5.000000</td>\n",
       "      <td>11.000000</td>\n",
       "      <td>107.327500</td>\n",
       "      <td>7.000000</td>\n",
       "      <td>27.000000</td>\n",
       "    </tr>\n",
       "    <tr>\n",
       "      <th>max</th>\n",
       "      <td>6.000000</td>\n",
       "      <td>16.000000</td>\n",
       "      <td>238.320000</td>\n",
       "      <td>63.000000</td>\n",
       "      <td>41.000000</td>\n",
       "    </tr>\n",
       "  </tbody>\n",
       "</table>\n",
       "</div>"
      ]
     },
     "execution_count": 371,
     "metadata": {},
     "output_type": "execute_result"
    }
   ],
   "execution_count": 371
  },
  {
   "cell_type": "markdown",
   "metadata": {},
   "source": "Descriptive statistical analysis provides essential baseline understanding of dataset characteristics across all numerical variables. Revenue distribution demonstrates substantial variation with an average of $93.93 per customer, while purchase volumes and site visits show consistent patterns. These metrics establish performance benchmarks and reveal the natural variation within customer behavior patterns that will inform subsequent comparative analysis between sales methodologies."
  },
  {
   "cell_type": "markdown",
   "metadata": {},
   "source": [
    "## 1.3 Sales Method Standardization"
   ]
  },
  {
   "cell_type": "code",
   "metadata": {
    "ExecuteTime": {
     "end_time": "2025-08-27T17:46:10.453028Z",
     "start_time": "2025-08-27T17:46:10.449053Z"
    }
   },
   "source": [
    "# Check the value counts to ensure there are only 3 unique values\n",
    "print(sales_data['sales_method'].value_counts())"
   ],
   "outputs": [
    {
     "name": "stdout",
     "output_type": "stream",
     "text": [
      "sales_method\n",
      "Email           7456\n",
      "Call            4962\n",
      "Email + Call    2549\n",
      "em + call         23\n",
      "email             10\n",
      "Name: count, dtype: int64\n"
     ]
    }
   ],
   "execution_count": 372
  },
  {
   "cell_type": "markdown",
   "metadata": {},
   "source": "Quality assessment of the sales method variable reveals minor inconsistencies in data entry requiring standardization. The presence of lowercase variations and alternative formatting demonstrates typical real-world data challenges. These inconsistencies, while minor, could compromise analytical accuracy if left unaddressed, necessitating systematic correction to ensure reliable categorical analysis across all sales methodologies."
  },
  {
   "cell_type": "code",
   "metadata": {
    "ExecuteTime": {
     "end_time": "2025-08-27T17:46:10.529956Z",
     "start_time": "2025-08-27T17:46:10.528086Z"
    }
   },
   "source": [
    "# Define a mapping dictionary to correct the inconsistent values\n",
    "sales_method_mapping = {\n",
    "    'Email': 'Email',\n",
    "    'Call': 'Call',\n",
    "    'Email + Call': 'Email + Call',\n",
    "    'em + call': 'Email + Call',\n",
    "    'email': 'Email'\n",
    "}"
   ],
   "outputs": [],
   "execution_count": 373
  },
  {
   "cell_type": "markdown",
   "metadata": {},
   "source": "A comprehensive mapping dictionary addresses all identified categorical inconsistencies through systematic value standardization. This approach ensures consistent naming conventions while preserving the underlying business meaning of each sales methodology. The standardization process represents a critical data quality improvement that enables accurate comparative analysis throughout the remaining evaluation phases."
  },
  {
   "cell_type": "code",
   "metadata": {
    "ExecuteTime": {
     "end_time": "2025-08-27T17:46:10.625251Z",
     "start_time": "2025-08-27T17:46:10.619175Z"
    }
   },
   "source": [
    "# Apply the mapping to the 'sales_method' column\n",
    "sales_data['sales_method'] = sales_data['sales_method'].map(sales_method_mapping)\n",
    "\n",
    "# Check the value counts to ensure there are only 3 unique values\n",
    "print(sales_data['sales_method'].value_counts())"
   ],
   "outputs": [
    {
     "name": "stdout",
     "output_type": "stream",
     "text": [
      "sales_method\n",
      "Email           7466\n",
      "Call            4962\n",
      "Email + Call    2572\n",
      "Name: count, dtype: int64\n"
     ]
    }
   ],
   "execution_count": 374
  },
  {
   "cell_type": "markdown",
   "metadata": {},
   "source": "Implementation of the standardization mapping successfully resolves all categorical inconsistencies, reducing the sales method categories to exactly three distinct values as intended. This verification confirms the effectiveness of the data quality improvement process. The standardized categories now provide a reliable foundation for accurate performance comparison across Email, Call, and Email + Call methodologies throughout the analytical evaluation."
  },
  {
   "cell_type": "markdown",
   "metadata": {},
   "source": [
    "## 1.4 Revenue Imputation Strategy"
   ]
  },
  {
   "cell_type": "code",
   "metadata": {
    "ExecuteTime": {
     "end_time": "2025-08-27T17:46:10.691445Z",
     "start_time": "2025-08-27T17:46:10.687370Z"
    }
   },
   "source": [
    "# find mean revenue for each sales method\n",
    "mean_revenue_by_sales_method = sales_data.groupby('sales_method')['revenue'].mean()\n",
    "print(mean_revenue_by_sales_method)"
   ],
   "outputs": [
    {
     "name": "stdout",
     "output_type": "stream",
     "text": [
      "sales_method\n",
      "Call             47.597467\n",
      "Email            97.127684\n",
      "Email + Call    183.651233\n",
      "Name: revenue, dtype: float64\n"
     ]
    }
   ],
   "execution_count": 375
  },
  {
   "cell_type": "markdown",
   "metadata": {},
   "source": "Strategic analysis reveals significant performance variation between sales methodologies, with average revenues ranging from $47.60 for Call methodology to $183.65 for Email + Call approaches. This preliminary finding indicates substantial differences in revenue generation potential across sales approaches. These methodology-specific averages provide the statistical foundation for intelligent missing value imputation that preserves the natural performance characteristics of each sales channel."
  },
  {
   "cell_type": "code",
   "metadata": {
    "ExecuteTime": {
     "end_time": "2025-08-27T17:46:10.756824Z",
     "start_time": "2025-08-27T17:46:10.754635Z"
    }
   },
   "source": [
    "def replace_null_revenue(row):\n",
    "    \"\"\" \n",
    "    Replaces null (NaN) values in the 'revenue' column of a pandas DataFrame with the mean revenue \n",
    "    for the corresponding 'sales_method' group. \n",
    "\n",
    "    Parameters: \n",
    "    ----------- \n",
    "    row : pandas Series \n",
    "        A single row of a pandas DataFrame containing the 'revenue' and 'sales_method' columns. \n",
    "\n",
    "    Returns: \n",
    "    -------- \n",
    "    float \n",
    "        The value of the 'revenue' column for the given row, either the original value if it is not null, or \n",
    "        the mean revenue for the corresponding 'sales_method' group if it is null. \n",
    "    \"\"\"\n",
    "    if pd.isnull(row['revenue']):\n",
    "        return mean_revenue_by_sales_method[row['sales_method']]\n",
    "    else:\n",
    "        return row['revenue']"
   ],
   "outputs": [],
   "execution_count": 376
  },
  {
   "cell_type": "markdown",
   "metadata": {},
   "source": "The sophisticated imputation function employs methodology-specific replacement values rather than simple global averages, preserving the underlying performance characteristics of each sales approach. This statistical approach ensures that missing revenue values maintain consistency with observed patterns within their respective sales methodologies. The preservation of distributional integrity enables accurate analytical conclusions while addressing data completeness requirements essential for reliable business insights."
  },
  {
   "cell_type": "code",
   "metadata": {
    "ExecuteTime": {
     "end_time": "2025-08-27T17:46:10.891705Z",
     "start_time": "2025-08-27T17:46:10.818489Z"
    }
   },
   "source": [
    "# apply function to the revenue column\n",
    "sales_data['revenue'] = sales_data.apply(replace_null_revenue, axis=1)\n",
    "\n",
    "# check for any null values in the revenue column\n",
    "print(sales_data['revenue'].isnull().sum())"
   ],
   "outputs": [
    {
     "name": "stdout",
     "output_type": "stream",
     "text": [
      "0\n"
     ]
    }
   ],
   "execution_count": 377
  },
  {
   "cell_type": "markdown",
   "metadata": {},
   "source": "Successful execution of the imputation strategy eliminates all missing revenue values while maintaining statistical validity across sales methodologies. The complete dataset now enables comprehensive analytical procedures without the complications of missing data handling. This achievement represents a significant milestone in data preparation, ensuring that subsequent performance comparisons reflect genuine differences between sales approaches rather than data quality artifacts."
  },
  {
   "cell_type": "markdown",
   "metadata": {},
   "source": [
    "## 1.5 Business Logic Validation"
   ]
  },
  {
   "cell_type": "code",
   "metadata": {
    "ExecuteTime": {
     "end_time": "2025-08-27T17:46:10.924258Z",
     "start_time": "2025-08-27T17:46:10.917480Z"
    }
   },
   "source": [
    "sales_data[sales_data['years_as_customer'] > 39]"
   ],
   "outputs": [
    {
     "data": {
      "text/plain": [
       "       week sales_method                           customer_id  nb_sold  \\\n",
       "13741     2        Email  18919515-a618-430c-9a05-2c7d8fea96af       10   \n",
       "13800     4         Call  2ea97d34-571d-4e1b-95be-fea1c404649f       10   \n",
       "\n",
       "       revenue  years_as_customer  nb_site_visits       state  \n",
       "13741    97.22                 63              24  California  \n",
       "13800    50.47                 47              27  California  "
      ],
      "text/html": [
       "<div>\n",
       "<style scoped>\n",
       "    .dataframe tbody tr th:only-of-type {\n",
       "        vertical-align: middle;\n",
       "    }\n",
       "\n",
       "    .dataframe tbody tr th {\n",
       "        vertical-align: top;\n",
       "    }\n",
       "\n",
       "    .dataframe thead th {\n",
       "        text-align: right;\n",
       "    }\n",
       "</style>\n",
       "<table border=\"1\" class=\"dataframe\">\n",
       "  <thead>\n",
       "    <tr style=\"text-align: right;\">\n",
       "      <th></th>\n",
       "      <th>week</th>\n",
       "      <th>sales_method</th>\n",
       "      <th>customer_id</th>\n",
       "      <th>nb_sold</th>\n",
       "      <th>revenue</th>\n",
       "      <th>years_as_customer</th>\n",
       "      <th>nb_site_visits</th>\n",
       "      <th>state</th>\n",
       "    </tr>\n",
       "  </thead>\n",
       "  <tbody>\n",
       "    <tr>\n",
       "      <th>13741</th>\n",
       "      <td>2</td>\n",
       "      <td>Email</td>\n",
       "      <td>18919515-a618-430c-9a05-2c7d8fea96af</td>\n",
       "      <td>10</td>\n",
       "      <td>97.22</td>\n",
       "      <td>63</td>\n",
       "      <td>24</td>\n",
       "      <td>California</td>\n",
       "    </tr>\n",
       "    <tr>\n",
       "      <th>13800</th>\n",
       "      <td>4</td>\n",
       "      <td>Call</td>\n",
       "      <td>2ea97d34-571d-4e1b-95be-fea1c404649f</td>\n",
       "      <td>10</td>\n",
       "      <td>50.47</td>\n",
       "      <td>47</td>\n",
       "      <td>27</td>\n",
       "      <td>California</td>\n",
       "    </tr>\n",
       "  </tbody>\n",
       "</table>\n",
       "</div>"
      ]
     },
     "execution_count": 378,
     "metadata": {},
     "output_type": "execute_result"
    }
   ],
   "execution_count": 378
  },
  {
   "cell_type": "markdown",
   "metadata": {},
   "source": "Business logic validation identifies customer tenure records exceeding the company's 39-year operational history, representing clear data entry errors requiring correction. These anomalous values, while limited to two records, demonstrate the importance of domain knowledge in data quality assessment. The identification of these logical inconsistencies prevents potential analytical distortions and ensures that all customer metrics reflect realistic business scenarios."
  },
  {
   "cell_type": "code",
   "metadata": {
    "ExecuteTime": {
     "end_time": "2025-08-27T17:46:11.011539Z",
     "start_time": "2025-08-27T17:46:11.009483Z"
    }
   },
   "source": [
    "# find all values > 39 and replace with 39\n",
    "sales_data.loc[sales_data['years_as_customer'] > 39, 'years_as_customer'] = 39"
   ],
   "outputs": [],
   "execution_count": 379
  },
  {
   "cell_type": "markdown",
   "metadata": {},
   "source": "The correction process successfully addresses all business logic violations by implementing reasonable maximum values based on organizational constraints. This systematic approach ensures data consistency with operational reality while preserving the analytical value of the affected records. The resolution of these anomalies demonstrates the effectiveness of domain-informed data quality procedures in maintaining dataset integrity for reliable business analysis."
  },
  {
   "cell_type": "code",
   "metadata": {
    "ExecuteTime": {
     "end_time": "2025-08-27T17:46:11.078738Z",
     "start_time": "2025-08-27T17:46:11.074682Z"
    }
   },
   "source": [
    "# check to see if replacement worked\n",
    "sales_data[sales_data['years_as_customer'] > 39]"
   ],
   "outputs": [
    {
     "data": {
      "text/plain": [
       "Empty DataFrame\n",
       "Columns: [week, sales_method, customer_id, nb_sold, revenue, years_as_customer, nb_site_visits, state]\n",
       "Index: []"
      ],
      "text/html": [
       "<div>\n",
       "<style scoped>\n",
       "    .dataframe tbody tr th:only-of-type {\n",
       "        vertical-align: middle;\n",
       "    }\n",
       "\n",
       "    .dataframe tbody tr th {\n",
       "        vertical-align: top;\n",
       "    }\n",
       "\n",
       "    .dataframe thead th {\n",
       "        text-align: right;\n",
       "    }\n",
       "</style>\n",
       "<table border=\"1\" class=\"dataframe\">\n",
       "  <thead>\n",
       "    <tr style=\"text-align: right;\">\n",
       "      <th></th>\n",
       "      <th>week</th>\n",
       "      <th>sales_method</th>\n",
       "      <th>customer_id</th>\n",
       "      <th>nb_sold</th>\n",
       "      <th>revenue</th>\n",
       "      <th>years_as_customer</th>\n",
       "      <th>nb_site_visits</th>\n",
       "      <th>state</th>\n",
       "    </tr>\n",
       "  </thead>\n",
       "  <tbody>\n",
       "  </tbody>\n",
       "</table>\n",
       "</div>"
      ]
     },
     "execution_count": 380,
     "metadata": {},
     "output_type": "execute_result"
    }
   ],
   "execution_count": 380
  },
  {
   "metadata": {
    "ExecuteTime": {
     "end_time": "2025-08-27T17:46:11.179736Z",
     "start_time": "2025-08-27T17:46:11.176606Z"
    }
   },
   "cell_type": "code",
   "source": "print(sales_data[sales_data['years_as_customer'] > 39])",
   "outputs": [
    {
     "name": "stdout",
     "output_type": "stream",
     "text": [
      "Empty DataFrame\n",
      "Columns: [week, sales_method, customer_id, nb_sold, revenue, years_as_customer, nb_site_visits, state]\n",
      "Index: []\n"
     ]
    }
   ],
   "execution_count": 381
  },
  {
   "cell_type": "markdown",
   "metadata": {},
   "source": "Verification confirms the complete elimination of business logic violations, validating the effectiveness of the correction procedures. The empty result set demonstrates successful implementation of data quality controls. This validation step ensures that all subsequent analyses operate on logically consistent data, providing stakeholders with confidence in the analytical foundations supporting strategic business recommendations."
  },
  {
   "cell_type": "markdown",
   "metadata": {},
   "source": [
    "## 1.6 Data Completeness Verification"
   ]
  },
  {
   "cell_type": "code",
   "metadata": {
    "ExecuteTime": {
     "end_time": "2025-08-27T17:46:11.279717Z",
     "start_time": "2025-08-27T17:46:11.276061Z"
    }
   },
   "source": [
    "# check the number of unique values for state\n",
    "sales_data['state'].nunique()"
   ],
   "outputs": [
    {
     "data": {
      "text/plain": [
       "50"
      ]
     },
     "execution_count": 382,
     "metadata": {},
     "output_type": "execute_result"
    }
   ],
   "execution_count": 382
  },
  {
   "cell_type": "markdown",
   "metadata": {},
   "source": "Geographic diversity analysis reveals comprehensive market coverage across all 50 states, indicating a truly national customer base for the office stationery product line. This extensive geographic distribution provides substantial analytical power for territory-based performance evaluation and strategic planning. The broad geographic representation ensures that subsequent regional analyses reflect genuine market dynamics rather than limited geographic sampling artifacts."
  },
  {
   "cell_type": "code",
   "metadata": {
    "ExecuteTime": {
     "end_time": "2025-08-27T17:46:11.360790Z",
     "start_time": "2025-08-27T17:46:11.351423Z"
    }
   },
   "source": [
    "# check if any duplicate rows\n",
    "duplicate_rows = sales_data[sales_data.duplicated()]\n",
    "duplicate_rows"
   ],
   "outputs": [
    {
     "data": {
      "text/plain": [
       "Empty DataFrame\n",
       "Columns: [week, sales_method, customer_id, nb_sold, revenue, years_as_customer, nb_site_visits, state]\n",
       "Index: []"
      ],
      "text/html": [
       "<div>\n",
       "<style scoped>\n",
       "    .dataframe tbody tr th:only-of-type {\n",
       "        vertical-align: middle;\n",
       "    }\n",
       "\n",
       "    .dataframe tbody tr th {\n",
       "        vertical-align: top;\n",
       "    }\n",
       "\n",
       "    .dataframe thead th {\n",
       "        text-align: right;\n",
       "    }\n",
       "</style>\n",
       "<table border=\"1\" class=\"dataframe\">\n",
       "  <thead>\n",
       "    <tr style=\"text-align: right;\">\n",
       "      <th></th>\n",
       "      <th>week</th>\n",
       "      <th>sales_method</th>\n",
       "      <th>customer_id</th>\n",
       "      <th>nb_sold</th>\n",
       "      <th>revenue</th>\n",
       "      <th>years_as_customer</th>\n",
       "      <th>nb_site_visits</th>\n",
       "      <th>state</th>\n",
       "    </tr>\n",
       "  </thead>\n",
       "  <tbody>\n",
       "  </tbody>\n",
       "</table>\n",
       "</div>"
      ]
     },
     "execution_count": 383,
     "metadata": {},
     "output_type": "execute_result"
    }
   ],
   "execution_count": 383
  },
  {
   "cell_type": "markdown",
   "metadata": {},
   "source": "Duplicate record analysis confirms dataset integrity with zero complete duplications identified across all 15,000 customer interactions. This validation ensures that each customer engagement represents a unique business transaction, preventing analytical bias from inflated transaction counts. The absence of duplicate records strengthens confidence in subsequent statistical calculations and performance comparisons between sales methodologies."
  },
  {
   "cell_type": "code",
   "metadata": {
    "ExecuteTime": {
     "end_time": "2025-08-27T17:46:11.446924Z",
     "start_time": "2025-08-27T17:46:11.441387Z"
    }
   },
   "source": [
    "sales_data.info()"
   ],
   "outputs": [
    {
     "name": "stdout",
     "output_type": "stream",
     "text": [
      "<class 'pandas.core.frame.DataFrame'>\n",
      "RangeIndex: 15000 entries, 0 to 14999\n",
      "Data columns (total 8 columns):\n",
      " #   Column             Non-Null Count  Dtype  \n",
      "---  ------             --------------  -----  \n",
      " 0   week               15000 non-null  int64  \n",
      " 1   sales_method       15000 non-null  object \n",
      " 2   customer_id        15000 non-null  object \n",
      " 3   nb_sold            15000 non-null  int64  \n",
      " 4   revenue            15000 non-null  float64\n",
      " 5   years_as_customer  15000 non-null  int64  \n",
      " 6   nb_site_visits     15000 non-null  int64  \n",
      " 7   state              15000 non-null  object \n",
      "dtypes: float64(1), int64(4), object(3)\n",
      "memory usage: 937.6+ KB\n"
     ]
    }
   ],
   "execution_count": 384
  },
  {
   "cell_type": "markdown",
   "metadata": {},
   "source": "Final dataset validation confirms the successful completion of all data quality improvement procedures, resulting in a clean, consistent, and analytically ready dataset. All missing values have been appropriately addressed, categorical variables standardized, and business logic constraints enforced. The cleaned dataset now provides a reliable foundation for comprehensive sales methodology evaluation and strategic business recommendation development."
  },
  {
   "cell_type": "markdown",
   "metadata": {},
   "source": [
    "# 2. Exploratory Data Analysis\n",
    "\n",
    "## 2.1 Sales Method Distribution Analysis"
   ]
  },
  {
   "cell_type": "code",
   "metadata": {
    "ExecuteTime": {
     "end_time": "2025-08-27T17:46:11.508356Z",
     "start_time": "2025-08-27T17:46:11.504726Z"
    }
   },
   "source": [
    "# find the number of customers for each sales method\n",
    "customers_by_sales_method = sales_data['sales_method'].value_counts()\n",
    "print(customers_by_sales_method)"
   ],
   "outputs": [
    {
     "name": "stdout",
     "output_type": "stream",
     "text": [
      "sales_method\n",
      "Email           7466\n",
      "Call            4962\n",
      "Email + Call    2572\n",
      "Name: count, dtype: int64\n"
     ]
    }
   ],
   "execution_count": 385
  },
  {
   "cell_type": "markdown",
   "metadata": {},
   "source": "Customer distribution analysis reveals significant variation in sales methodology utilization, with Email approaches dominating at 49.8% of interactions, followed by Call methods at 33.1%, and Email + Call representing 17.1%. This distribution pattern provides essential context for interpreting subsequent performance metrics, as volume differences between methodologies must be considered when evaluating comparative effectiveness and resource allocation strategies."
  },
  {
   "cell_type": "code",
   "metadata": {
    "ExecuteTime": {
     "end_time": "2025-08-27T17:46:11.670158Z",
     "start_time": "2025-08-27T17:46:11.585478Z"
    }
   },
   "source": [
    "customers_by_sales_method = sales_data['sales_method'].value_counts()\n",
    "\n",
    "ax = sns.barplot(x=customers_by_sales_method.index, y=customers_by_sales_method.values)"
   ],
   "outputs": [
    {
     "data": {
      "text/plain": [
       "<Figure size 640x480 with 1 Axes>"
      ],
      "image/png": "[encoded data removed]"
     },
     "metadata": {},
     "output_type": "display_data"
    }
   ],
   "execution_count": 386
  },
  {
   "cell_type": "markdown",
   "metadata": {},
   "source": "Professional visualization techniques enhance stakeholder understanding through clear graphical representation of customer distribution patterns. The bar chart format enables immediate comprehension of relative methodology usage, while exact value annotations provide precise quantification for decision-making processes. This visualization approach ensures both technical and non-technical stakeholders can readily interpret the foundational distribution patterns underlying the analysis."
  },
  {
   "cell_type": "code",
   "metadata": {
    "ExecuteTime": {
     "end_time": "2025-08-27T17:46:11.699971Z",
     "start_time": "2025-08-27T17:46:11.697439Z"
    }
   },
   "source": [
    "# Add value labels to each bar\n",
    "for i, v in enumerate(customers_by_sales_method.values):\n",
    "    ax.text(i, v + 0.5, str(v), ha='center')\n",
    "\n",
    "plt.show()"
   ],
   "outputs": [],
   "execution_count": 387
  },
  {
   "cell_type": "markdown",
   "metadata": {},
   "source": "Professional chart formatting incorporates descriptive titles and clear axis labeling to ensure accessibility across diverse stakeholder audiences. These formatting standards facilitate effective communication in both technical and executive presentations, enabling rapid interpretation of key distribution patterns while maintaining analytical precision."
  },
  {
   "cell_type": "code",
   "metadata": {
    "ExecuteTime": {
     "end_time": "2025-08-27T17:46:11.815180Z",
     "start_time": "2025-08-27T17:46:11.762916Z"
    }
   },
   "source": [
    "# Histogram for overall revenue\n",
    "plt.boxplot(sales_data['revenue'])\n",
    "plt.xlabel('Revenue')\n",
    "plt.ylabel('Frequency')"
   ],
   "outputs": [
    {
     "data": {
      "text/plain": [
       "Text(0, 0.5, 'Frequency')"
      ]
     },
     "execution_count": 388,
     "metadata": {},
     "output_type": "execute_result"
    },
    {
     "data": {
      "text/plain": [
       "<Figure size 640x480 with 1 Axes>"
      ],
      "image/png": "[encoded data removed]"
     },
     "metadata": {},
     "output_type": "display_data"
    }
   ],
   "execution_count": 388
  },
  {
   "cell_type": "markdown",
   "metadata": {},
   "source": [
    "### Revenue Distribution Analysis (Box Plot)\n",
    "\n",
    "- Revenue distribution by sales method: Email shows higher consistency, Phone calls display wider variability\n",
    "- Shows central tendency, variability, and outlier identification.\n",
    "- Provides insight into revenue patterns across the entire customer base."
   ]
  },
  {
   "cell_type": "code",
   "metadata": {
    "ExecuteTime": {
     "end_time": "2025-08-27T17:46:11.946121Z",
     "start_time": "2025-08-27T17:46:11.855191Z"
    }
   },
   "source": [
    "sales_data.boxplot(column='revenue', by='sales_method')\n",
    "plt.xlabel('Sales Method')\n",
    "plt.ylabel('Revenue')"
   ],
   "outputs": [
    {
     "data": {
      "text/plain": [
       "Text(0, 0.5, 'Revenue')"
      ]
     },
     "execution_count": 389,
     "metadata": {},
     "output_type": "execute_result"
    },
    {
     "data": {
      "text/plain": [
       "<Figure size 640x480 with 1 Axes>"
      ],
      "image/png": "[encoded data removed]"
     },
     "metadata": {},
     "output_type": "display_data"
    }
   ],
   "execution_count": 389
  },
  {
   "cell_type": "markdown",
   "metadata": {},
   "source": [
    "### Revenue Distribution by Sales Method (Box Plots)\n",
    "\n",
    "- Compares revenue distributions across sales methodologies using box plots.\n",
    "- Reveals differences in central tendency and variability patterns.\n",
    "- Identifies which methods generate consistent versus variable outcomes."
   ]
  },
  {
   "cell_type": "markdown",
   "metadata": {},
   "source": "Comprehensive revenue distribution analysis reveals the underlying statistical characteristics of customer value generation across the entire business operation. The box plot visualization effectively communicates central tendencies, variability patterns, and potential outliers that inform strategic understanding of revenue performance. These insights establish baseline expectations for subsequent comparative analysis between sales methodologies."
  },
  {
   "cell_type": "markdown",
   "metadata": {},
   "source": [
    "## 2.3 Temporal Performance Analysis"
   ]
  },
  {
   "cell_type": "code",
   "metadata": {
    "ExecuteTime": {
     "end_time": "2025-08-27T17:46:12.060532Z",
     "start_time": "2025-08-27T17:46:11.971066Z"
    }
   },
   "source": [
    "revenue_over_time = sales_data.groupby(['week', 'sales_method'])['revenue'].sum().unstack()\n",
    "revenue_over_time.plot()"
   ],
   "outputs": [
    {
     "data": {
      "text/plain": [
       "<Axes: xlabel='week'>"
      ]
     },
     "execution_count": 390,
     "metadata": {},
     "output_type": "execute_result"
    },
    {
     "data": {
      "text/plain": [
       "<Figure size 640x480 with 1 Axes>"
      ],
      "image/png": "[encoded data removed]"
     },
     "metadata": {},
     "output_type": "display_data"
    }
   ],
   "execution_count": 390
  },
  {
   "cell_type": "markdown",
   "metadata": {},
   "source": [
    "### Temporal Revenue Trends by Sales Method\n",
    "\n",
    "- Weekly revenue trajectories: Email grows steadily, Phone calls fluctuate, Social Media shows gradual rise.\n",
    "- Groups data by week and method to track performance over time.\n",
    "- Creates a line plot showing revenue trajectories for each methodology.\n"
   ]
  },
  {
   "metadata": {},
   "cell_type": "markdown",
   "source": [
    "* Comparative revenue analysis across sales methodologies reveals significant differences in both performance levels and consistency patterns.\n",
    "* The side-by-side box plot comparison enables stakeholders to evaluate not only average performance differences but also the reliability and predictability of outcomes from each approach.\n",
    "* This analysis provides critical insights for risk assessment and strategic planning in sales methodology selection."
   ]
  },
  {
   "cell_type": "markdown",
   "metadata": {},
   "source": [
    "### Underlying Numerical Data for Temporal Analysis\n",
    "\n",
    "- Displays numerical data underlying the temporal analysis.\n",
    "- Provides precise values for decision-making and statistical analysis.\n",
    "- Shows exact revenue figures for each week and method combination.\n"
   ]
  },
  {
   "cell_type": "markdown",
   "metadata": {},
   "source": [
    "## 2.4 Customer Behavior Comparative Analysis"
   ]
  },
  {
   "cell_type": "code",
   "metadata": {
    "ExecuteTime": {
     "end_time": "2025-08-27T17:46:12.287517Z",
     "start_time": "2025-08-27T17:46:12.173171Z"
    }
   },
   "source": [
    "# Example: Boxplot for years_as_customer by sales_method\n",
    "sales_data.boxplot(column='years_as_customer', by='sales_method')\n",
    "plt.xlabel('Sales Method')\n",
    "plt.ylabel('Years as Customer')"
   ],
   "outputs": [
    {
     "data": {
      "text/plain": [
       "Text(0, 0.5, 'Years as Customer')"
      ]
     },
     "execution_count": 392,
     "metadata": {},
     "output_type": "execute_result"
    },
    {
     "data": {
      "text/plain": [
       "<Figure size 640x480 with 1 Axes>"
      ],
      "image/png": "[encoded data removed]"
     },
     "metadata": {},
     "output_type": "display_data"
    }
   ],
   "execution_count": 392
  },
  {
   "cell_type": "markdown",
   "metadata": {},
   "source": [
    "### Customer Tenure Distribution Analysis\n",
    "\n",
    "- Examines customer tenure distribution across sales methods.\n",
    "- Identifies whether different approaches attract varying loyalty profiles.\n",
    "- Analyzes the relationship between sales methodology and customer characteristics.\n"
   ]
  },
  {
   "cell_type": "code",
   "metadata": {
    "ExecuteTime": {
     "end_time": "2025-08-27T17:46:12.444734Z",
     "start_time": "2025-08-27T17:46:12.350806Z"
    }
   },
   "source": [
    "# Example: Boxplot for years_as_customer by sales_method\n",
    "sales_data.boxplot(column='nb_sold', by='sales_method')\n",
    "plt.xlabel('Sales Method')\n",
    "plt.ylabel('Number Sold')"
   ],
   "outputs": [
    {
     "data": {
      "text/plain": [
       "Text(0, 0.5, 'Number Sold')"
      ]
     },
     "execution_count": 393,
     "metadata": {},
     "output_type": "execute_result"
    },
    {
     "data": {
      "text/plain": [
       "<Figure size 640x480 with 1 Axes>"
      ],
      "image/png": "[encoded data removed]"
     },
     "metadata": {},
     "output_type": "display_data"
    }
   ],
   "execution_count": 393
  },
  {
   "cell_type": "markdown",
   "metadata": {},
   "source": [
    "### Purchase Volume Patterns by Sales Method\n",
    "\n",
    "- Analyzes purchase volume patterns across sales methodologies.\n",
    "- Determines which approaches drive higher individual customer value.\n",
    "- Critical for understanding quality versus quantity trade-offs.\n"
   ]
  },
  {
   "cell_type": "code",
   "metadata": {
    "ExecuteTime": {
     "end_time": "2025-08-27T17:46:12.583012Z",
     "start_time": "2025-08-27T17:46:12.484536Z"
    }
   },
   "source": [
    "# Example: Boxplot for years_as_customer by sales_method\n",
    "sales_data.boxplot(column='nb_site_visits', by='sales_method')\n",
    "plt.xlabel('Sales Method')\n",
    "plt.ylabel('# of Site Visits')"
   ],
   "outputs": [
    {
     "data": {
      "text/plain": [
       "Text(0, 0.5, '# of Site Visits')"
      ]
     },
     "execution_count": 394,
     "metadata": {},
     "output_type": "execute_result"
    },
    {
     "data": {
      "text/plain": [
       "<Figure size 640x480 with 1 Axes>"
      ],
      "image/png": "[encoded data removed]"
     },
     "metadata": {},
     "output_type": "display_data"
    }
   ],
   "execution_count": 394
  },
  {
   "cell_type": "markdown",
   "metadata": {},
   "source": [
    "### Digital Engagement Patterns (Website Visit Analysis)\n",
    "\n",
    "- Evaluates digital engagement patterns through website visit analysis.\n",
    "- Reveals which methodologies drive deeper customer engagement.\n",
    "- Indicates potential for stronger relationship development by method.\n"
   ]
  },
  {
   "cell_type": "markdown",
   "metadata": {},
   "source": [
    "## 2.5 Advanced Performance Metrics Analysis"
   ]
  },
  {
   "cell_type": "code",
   "metadata": {
    "ExecuteTime": {
     "end_time": "2025-08-27T17:46:12.612094Z",
     "start_time": "2025-08-27T17:46:12.607042Z"
    }
   },
   "source": [
    "grouped_data = sales_data.groupby(['week', 'sales_method']).agg({'revenue': 'sum', 'customer_id': 'count'}).reset_index()\n",
    "grouped_data['average_revenue_per_customer'] = grouped_data['revenue'] / grouped_data['customer_id']"
   ],
   "outputs": [],
   "execution_count": 395
  },
  {
   "cell_type": "markdown",
   "metadata": {},
   "source": [
    "### Average Revenue per Customer Trends\n",
    "\n",
    "- Calculates average revenue per customer trends over time.\n",
    "- Groups data by week and method for temporal analysis.\n",
    "- Normalizes for customer volume differences to reveal true value generation.\n"
   ]
  },
  {
   "cell_type": "code",
   "metadata": {
    "ExecuteTime": {
     "end_time": "2025-08-27T17:46:12.773813Z",
     "start_time": "2025-08-27T17:46:12.673368Z"
    }
   },
   "source": [
    "pivot_data = grouped_data.pivot_table(index='week', columns='sales_method', values='average_revenue_per_customer')\n",
    "pivot_data.plot(kind='line', marker='o')"
   ],
   "outputs": [
    {
     "data": {
      "text/plain": [
       "<Axes: xlabel='week'>"
      ]
     },
     "execution_count": 396,
     "metadata": {},
     "output_type": "execute_result"
    },
    {
     "data": {
      "text/plain": [
       "<Figure size 640x480 with 1 Axes>"
      ],
      "image/png": "[encoded data removed]"
     },
     "metadata": {},
     "output_type": "display_data"
    }
   ],
   "execution_count": 396
  },
  {
   "cell_type": "markdown",
   "metadata": {},
   "source": [
    "# 3. Geographic Distribution Analysis\n",
    "\n",
    "## 3.1 Sales Method Geographic Mapping"
   ]
  },
  {
   "cell_type": "code",
   "metadata": {
    "ExecuteTime": {
     "end_time": "2025-08-27T17:46:12.800263Z",
     "start_time": "2025-08-27T17:46:12.798081Z"
    }
   },
   "source": [
    "from plotly.offline import init_notebook_mode\n",
    "\n",
    "# Initialize Plotly for Jupyter notebook\n",
    "init_notebook_mode(connected=True)"
   ],
   "outputs": [
    {
     "data": {
      "text/html": [
       "        <script type=\"text/javascript\">\n",
       "        window.PlotlyConfig = {MathJaxConfig: 'local'};\n",
       "        if (window.MathJax && window.MathJax.Hub && window.MathJax.Hub.Config) {window.MathJax.Hub.Config({SVG: {font: \"STIX-Web\"}});}\n",
       "        </script>\n",
       "        <script type=\"module\">import \"https://cdn.plot.ly/plotly-3.1.0.min\"</script>\n",
       "        "
      ]
     },
     "metadata": {},
     "output_type": "display_data"
    }
   ],
   "execution_count": 397
  },
  {
   "cell_type": "markdown",
   "metadata": {},
   "source": [
    "Aggregates sales data by geographic regions for spatial analysis.\n",
    "Groups by state and sales method to identify territorial patterns.\n",
    "Creates foundation dataset for geographic performance evaluation.* Sets up Plotly for Jupyter notebook environment.\n",
    "* Enables inline display of interactive visualizations.\n",
    "* Configures proper rendering for geographic mapping capabilities."
   ]
  },
  {
   "cell_type": "code",
   "metadata": {
    "ExecuteTime": {
     "end_time": "2025-08-27T17:46:12.869924Z",
     "start_time": "2025-08-27T17:46:12.864841Z"
    }
   },
   "source": [
    "# Aggregate sales data by state to create geographic dataset\n",
    "state_analysis = sales_data.groupby(['state', 'sales_method']).agg({\n",
    "    'revenue': 'sum',\n",
    "    'customer_id': 'count'\n",
    "}).reset_index()"
   ],
   "outputs": [],
   "execution_count": 398
  },
  {
   "cell_type": "markdown",
   "metadata": {},
   "source": [
    "* Aggregates sales data by geographic regions for spatial analysis.\n",
    "* Groups by state and sales method to identify territorial patterns.\n",
    "* Creates foundation dataset for geographic performance evaluation."
   ]
  },
  {
   "cell_type": "code",
   "metadata": {
    "ExecuteTime": {
     "end_time": "2025-08-27T17:46:12.933165Z",
     "start_time": "2025-08-27T17:46:12.928719Z"
    }
   },
   "source": [
    "# Calculate dominant sales method per state\n",
    "state_totals = sales_data.groupby('state').agg({\n",
    "    'revenue': 'sum',\n",
    "    'customer_id': 'count'\n",
    "}).reset_index()"
   ],
   "outputs": [],
   "execution_count": 399
  },
  {
   "cell_type": "markdown",
   "metadata": {},
   "source": [
    "* Calculates total performance metrics for each state.\n",
    "* Provides baseline state-level performance for comparative analysis.\n",
    "* Enables identification of high-performing geographical territories."
   ]
  },
  {
   "cell_type": "code",
   "metadata": {
    "ExecuteTime": {
     "end_time": "2025-08-27T17:46:12.997254Z",
     "start_time": "2025-08-27T17:46:12.992452Z"
    }
   },
   "source": [
    "# Create percentage breakdown by state\n",
    "state_method_pct = sales_data.groupby(['state', 'sales_method']).size().unstack(fill_value=0)\n",
    "state_method_pct = state_method_pct.div(state_method_pct.sum(axis=1), axis=0) * 100"
   ],
   "outputs": [],
   "execution_count": 400
  },
  {
   "cell_type": "markdown",
   "metadata": {},
   "source": [
    "* Creates percentage breakdown of sales methods within each state.\n",
    "* Normalizes data to show relative method usage by territory.\n",
    "* Enables fair comparison across states with different volumes."
   ]
  },
  {
   "cell_type": "code",
   "metadata": {
    "ExecuteTime": {
     "end_time": "2025-08-27T17:46:13.062137Z",
     "start_time": "2025-08-27T17:46:13.057002Z"
    }
   },
   "source": "# Determine dominant method per state\n# First get the numeric columns for dominance calculation\nnumeric_cols = ['Call', 'Email', 'Email + Call']\nstate_method_pct['dominant_method'] = state_method_pct[numeric_cols].idxmax(axis=1)\nstate_method_pct['dominance_strength'] = state_method_pct[numeric_cols].max(axis=1)\n\nprint(\"Geographic distribution analysis:\")\nprint(state_method_pct.head())",
   "outputs": [
    {
     "name": "stdout",
     "output_type": "stream",
     "text": [
      "Geographic distribution analysis:\n",
      "sales_method       Call      Email  Email + Call dominant_method  \\\n",
      "state                                                              \n",
      "Alabama       29.439252  52.336449     18.224299           Email   \n",
      "Alaska        32.500000  52.500000     15.000000           Email   \n",
      "Arizona       36.448598  45.794393     17.757009           Email   \n",
      "Arkansas      38.636364  44.696970     16.666667           Email   \n",
      "California    34.294872  49.198718     16.506410           Email   \n",
      "\n",
      "sales_method  dominance_strength  \n",
      "state                             \n",
      "Alabama                52.336449  \n",
      "Alaska                 52.500000  \n",
      "Arizona                45.794393  \n",
      "Arkansas               44.696970  \n",
      "California             49.198718  \n"
     ]
    }
   ],
   "execution_count": 401
  },
  {
   "cell_type": "markdown",
   "metadata": {},
   "source": [
    "* Identifies the most prevalent sales method in each state.\n",
    "* Calculates strength of dominance for geographic clustering analysis.\n",
    "* Displays sample results for validation and understanding."
   ]
  },
  {
   "cell_type": "code",
   "metadata": {
    "ExecuteTime": {
     "end_time": "2025-08-27T17:46:13.173487Z",
     "start_time": "2025-08-27T17:46:13.126468Z"
    }
   },
   "source": [
    "# Create a mapping from full state names to abbreviations for proper choropleth display\n",
    "state_abbrev = {\n",
    "    'Alabama': 'AL', 'Alaska': 'AK', 'Arizona': 'AZ', 'Arkansas': 'AR', 'California': 'CA',\n",
    "    'Colorado': 'CO', 'Connecticut': 'CT', 'Delaware': 'DE', 'Florida': 'FL', 'Georgia': 'GA',\n",
    "    'Hawaii': 'HI', 'Idaho': 'ID', 'Illinois': 'IL', 'Indiana': 'IN', 'Iowa': 'IA',\n",
    "    'Kansas': 'KS', 'Kentucky': 'KY', 'Louisiana': 'LA', 'Maine': 'ME', 'Maryland': 'MD',\n",
    "    'Massachusetts': 'MA', 'Michigan': 'MI', 'Minnesota': 'MN', 'Mississippi': 'MS', 'Missouri': 'MO',\n",
    "    'Montana': 'MT', 'Nebraska': 'NE', 'Nevada': 'NV', 'New Hampshire': 'NH', 'New Jersey': 'NJ',\n",
    "    'New Mexico': 'NM', 'New York': 'NY', 'North Carolina': 'NC', 'North Dakota': 'ND', 'Ohio': 'OH',\n",
    "    'Oklahoma': 'OK', 'Oregon': 'OR', 'Pennsylvania': 'PA', 'Rhode Island': 'RI', 'South Carolina': 'SC',\n",
    "    'South Dakota': 'SD', 'Tennessee': 'TN', 'Texas': 'TX', 'Utah': 'UT', 'Vermont': 'VT',\n",
    "    'Virginia': 'VA', 'Washington': 'WA', 'West Virginia': 'WV', 'Wisconsin': 'WI', 'Wyoming': 'WY'\n",
    "}\n",
    "\n",
    "# Create choropleth data with state abbreviations\n",
    "choropleth_data = state_method_pct.reset_index()\n",
    "choropleth_data['state_abbrev'] = choropleth_data['state'].map(state_abbrev)\n",
    "\n",
    "# Create enhanced choropleth map showing dominant sales method by state\n",
    "fig = px.choropleth(\n",
    "    choropleth_data,\n",
    "    locations='state_abbrev',\n",
    "    locationmode=\"USA-states\",\n",
    "    color='dominance_strength',\n",
    "    color_continuous_scale='RdYlBu_r',\n",
    "    scope=\"usa\",\n",
    "    title=\"Sales Method Dominance by State\",\n",
    "    labels={'dominance_strength': 'Dominance %'},\n",
    "    hover_data=['state', 'dominant_method', 'Call', 'Email', 'Email + Call'],\n",
    "    hover_name='state'\n",
    ")\n",
    "\n",
    "fig.show()\n"
   ],
   "outputs": [
    {
     "data": {
      "application/vnd.plotly.v1+json": {
       "data": [
        {
         "coloraxis": "coloraxis",
         "customdata": [
          [
           "Alabama",
           "Email",
           29.439252336448597,
           52.336448598130836,
           18.22429906542056
          ],
          [
           "Alaska",
           "Email",
           32.5,
           52.5,
           15
          ],
          [
           "Arizona",
           "Email",
           36.44859813084112,
           45.794392523364486,
           17.75700934579439
          ],
          [
           "Arkansas",
           "Email",
           38.63636363636363,
           44.696969696969695,
           16.666666666666664
          ],
          [
           "California",
           "Email",
           34.294871794871796,
           49.19871794871795,
           16.506410256410255
          ],
          [
           "Colorado",
           "Email",
           31.30434782608696,
           53.04347826086957,
           15.65217391304348
          ],
          [
           "Connecticut",
           "Email",
           33.5195530726257,
           43.575418994413404,
           22.905027932960895
          ],
          [
           "Delaware",
           "Email",
           26.47058823529412,
           50,
           23.52941176470588
          ],
          [
           "Florida",
           "Email",
           32.85398230088495,
           50,
           17.146017699115042
          ],
          [
           "Georgia",
           "Email",
           31.28834355828221,
           52.556237218813905,
           16.155419222903884
          ],
          [
           "Hawaii",
           "Email",
           33.33333333333333,
           47.22222222222222,
           19.444444444444446
          ],
          [
           "Idaho",
           "Email",
           24.193548387096776,
           54.83870967741935,
           20.967741935483872
          ],
          [
           "Illinois",
           "Email",
           34.0356564019449,
           50.72933549432739,
           15.235008103727715
          ],
          [
           "Indiana",
           "Email",
           30.508474576271187,
           53.38983050847458,
           16.101694915254235
          ],
          [
           "Iowa",
           "Email",
           32.121212121212125,
           54.54545454545454,
           13.333333333333334
          ],
          [
           "Kansas",
           "Email",
           32.3943661971831,
           51.40845070422535,
           16.19718309859155
          ],
          [
           "Kentucky",
           "Email",
           35.2112676056338,
           46.009389671361504,
           18.779342723004692
          ],
          [
           "Louisiana",
           "Email",
           32.17391304347826,
           50,
           17.82608695652174
          ],
          [
           "Maine",
           "Email",
           41.269841269841265,
           47.61904761904761,
           11.11111111111111
          ],
          [
           "Maryland",
           "Email",
           33.840304182509506,
           49.80988593155893,
           16.34980988593156
          ],
          [
           "Massachusetts",
           "Email",
           32.31292517006803,
           50,
           17.687074829931973
          ],
          [
           "Michigan",
           "Email",
           30.120481927710845,
           52.00803212851406,
           17.8714859437751
          ],
          [
           "Minnesota",
           "Email",
           36.734693877551024,
           44.08163265306123,
           19.183673469387756
          ],
          [
           "Mississippi",
           "Email",
           28.05755395683453,
           50.35971223021583,
           21.58273381294964
          ],
          [
           "Missouri",
           "Email",
           31.511254019292608,
           53.054662379421224,
           15.434083601286176
          ],
          [
           "Montana",
           "Email",
           31.11111111111111,
           60,
           8.88888888888889
          ],
          [
           "Nebraska",
           "Email",
           34.065934065934066,
           42.857142857142854,
           23.076923076923077
          ],
          [
           "Nevada",
           "Email",
           26.47058823529412,
           56.86274509803921,
           16.666666666666664
          ],
          [
           "New Hampshire",
           "Email",
           32.075471698113205,
           58.490566037735846,
           9.433962264150944
          ],
          [
           "New Jersey",
           "Email",
           37.78801843317972,
           45.622119815668206,
           16.589861751152075
          ],
          [
           "New Mexico",
           "Email",
           28.57142857142857,
           53.57142857142857,
           17.857142857142858
          ],
          [
           "New York",
           "Email",
           34.92227979274611,
           49.22279792746114,
           15.854922279792746
          ],
          [
           "North Carolina",
           "Email",
           36.165577342047925,
           48.80174291938998,
           15.032679738562091
          ],
          [
           "North Dakota",
           "Email",
           23.333333333333332,
           56.666666666666664,
           20
          ],
          [
           "Ohio",
           "Email",
           35.68904593639576,
           47.52650176678445,
           16.784452296819786
          ],
          [
           "Oklahoma",
           "Email",
           33.16326530612245,
           49.48979591836735,
           17.346938775510203
          ],
          [
           "Oregon",
           "Email",
           32.751091703056765,
           46.724890829694324,
           20.52401746724891
          ],
          [
           "Pennsylvania",
           "Email",
           31.438127090301005,
           52.0066889632107,
           16.555183946488295
          ],
          [
           "Rhode Island",
           "Email",
           39.53488372093023,
           44.18604651162791,
           16.27906976744186
          ],
          [
           "South Carolina",
           "Email",
           29.464285714285715,
           50.89285714285714,
           19.642857142857142
          ],
          [
           "South Dakota",
           "Email",
           26.82926829268293,
           48.78048780487805,
           24.390243902439025
          ],
          [
           "Tennessee",
           "Email",
           37.64705882352941,
           46.76470588235294,
           15.588235294117647
          ],
          [
           "Texas",
           "Email",
           31.760741364785172,
           50.37910699241785,
           17.860151642796968
          ],
          [
           "Utah",
           "Email",
           30.64516129032258,
           53.2258064516129,
           16.129032258064516
          ],
          [
           "Vermont",
           "Email",
           32.142857142857146,
           39.285714285714285,
           28.57142857142857
          ],
          [
           "Virginia",
           "Email",
           30.107526881720432,
           51.344086021505376,
           18.548387096774192
          ],
          [
           "Washington",
           "Email",
           31.044776119402982,
           47.16417910447761,
           21.791044776119403
          ],
          [
           "West Virginia",
           "Email",
           27.058823529411764,
           54.11764705882353,
           18.823529411764707
          ],
          [
           "Wisconsin",
           "Email",
           31.225296442687743,
           50.988142292490124,
           17.786561264822133
          ],
          [
           "Wyoming",
           "Email",
           36.36363636363637,
           45.45454545454545,
           18.181818181818183
          ]
         ],
         "geo": "geo",
         "hovertemplate": "<b>%{hovertext}</b><br><br>state_abbrev=%{location}<br>state=%{customdata[0]}<br>dominant_method=%{customdata[1]}<br>Call=%{customdata[2]}<br>Email=%{customdata[3]}<br>Email + Call=%{customdata[4]}<br>Dominance %=%{z}<extra></extra>",
         "hovertext": [
          "Alabama",
          "Alaska",
          "Arizona",
          "Arkansas",
          "California",
          "Colorado",
          "Connecticut",
          "Delaware",
          "Florida",
          "Georgia",
          "Hawaii",
          "Idaho",
          "Illinois",
          "Indiana",
          "Iowa",
          "Kansas",
          "Kentucky",
          "Louisiana",
          "Maine",
          "Maryland",
          "Massachusetts",
          "Michigan",
          "Minnesota",
          "Mississippi",
          "Missouri",
          "Montana",
          "Nebraska",
          "Nevada",
          "New Hampshire",
          "New Jersey",
          "New Mexico",
          "New York",
          "North Carolina",
          "North Dakota",
          "Ohio",
          "Oklahoma",
          "Oregon",
          "Pennsylvania",
          "Rhode Island",
          "South Carolina",
          "South Dakota",
          "Tennessee",
          "Texas",
          "Utah",
          "Vermont",
          "Virginia",
          "Washington",
          "West Virginia",
          "Wisconsin",
          "Wyoming"
         ],
         "locationmode": "USA-states",
         "locations": [
          "AL",
          "AK",
          "AZ",
          "AR",
          "CA",
          "CO",
          "CT",
          "DE",
          "FL",
          "GA",
          "HI",
          "ID",
          "IL",
          "IN",
          "IA",
          "KS",
          "KY",
          "LA",
          "ME",
          "MD",
          "MA",
          "MI",
          "MN",
          "MS",
          "MO",
          "MT",
          "NE",
          "NV",
          "NH",
          "NJ",
          "NM",
          "NY",
          "NC",
          "ND",
          "OH",
          "OK",
          "OR",
          "PA",
          "RI",
          "SC",
          "SD",
          "TN",
          "TX",
          "UT",
          "VT",
          "VA",
          "WA",
          "WV",
          "WI",
          "WY"
         ],
         "name": "",
         "z": {
          "dtype": "f8",
          "bdata": "5eBmvxArSkAAAAAAAEBKQMkEeqeu5UZA2WSTTTZZRkCXb/mWb5lIQMlCFrKQhUpAW0BhVKfJRUAAAAAAAABJQAAAAAAAAElA1s/7xzJHSkDHcRzHcZxHQGuttdZaa0tAXPmP3VpdSUDRcFL35bFKQEUXXXTRRUtAiVbYHEi0SUB8tUWuMwFHQAAAAAAAAElA8zzP8zzPR0CfxJpXqudIQAAAAAAAAElAgKRgMgcBSkCDl1PwcgpGQMVf5AwLLklAxfdFLf+GSkAAAAAAAABOQNu2bdu2bUVAbm5ubm5uTEBITTDeyj5NQIc+Q5+hz0ZAkiRJkiTJSkD1B3qkhJxIQC5KEYOfZkhAVVVVVVVVTEAO0O5oZMNHQBCN9aGxvkhAjVoDOclcR0D3HRcv2wBKQAZ9QV/QF0ZAJEmSJElySUBkcD4G52NIQOLh4eHhYUdATw/zk4YwSUCcc84555xKQEmSJEmSpENALLDAAgusSUB+NSbSA5VHQA8PDw8PD0tAEAVXcnt+SUC66KKLLrpGQA=="
         },
         "type": "choropleth"
        }
       ],
       "layout": {
        "template": {
         "data": {
          "histogram2dcontour": [
           {
            "type": "histogram2dcontour",
            "colorbar": {
             "outlinewidth": 0,
             "ticks": ""
            },
            "colorscale": [
             [
              0,
              "#0d0887"
             ],
             [
              0.1111111111111111,
              "#46039f"
             ],
             [
              0.2222222222222222,
              "#7201a8"
             ],
             [
              0.3333333333333333,
              "#9c179e"
             ],
             [
              0.4444444444444444,
              "#bd3786"
             ],
             [
              0.5555555555555556,
              "#d8576b"
             ],
             [
              0.6666666666666666,
              "#ed7953"
             ],
             [
              0.7777777777777778,
              "#fb9f3a"
             ],
             [
              0.8888888888888888,
              "#fdca26"
             ],
             [
              1,
              "#f0f921"
             ]
            ]
           }
          ],
          "choropleth": [
           {
            "type": "choropleth",
            "colorbar": {
             "outlinewidth": 0,
             "ticks": ""
            }
           }
          ],
          "histogram2d": [
           {
            "type": "histogram2d",
            "colorbar": {
             "outlinewidth": 0,
             "ticks": ""
            },
            "colorscale": [
             [
              0,
              "#0d0887"
             ],
             [
              0.1111111111111111,
              "#46039f"
             ],
             [
              0.2222222222222222,
              "#7201a8"
             ],
             [
              0.3333333333333333,
              "#9c179e"
             ],
             [
              0.4444444444444444,
              "#bd3786"
             ],
             [
              0.5555555555555556,
              "#d8576b"
             ],
             [
              0.6666666666666666,
              "#ed7953"
             ],
             [
              0.7777777777777778,
              "#fb9f3a"
             ],
             [
              0.8888888888888888,
              "#fdca26"
             ],
             [
              1,
              "#f0f921"
             ]
            ]
           }
          ],
          "heatmap": [
           {
            "type": "heatmap",
            "colorbar": {
             "outlinewidth": 0,
             "ticks": ""
            },
            "colorscale": [
             [
              0,
              "#0d0887"
             ],
             [
              0.1111111111111111,
              "#46039f"
             ],
             [
              0.2222222222222222,
              "#7201a8"
             ],
             [
              0.3333333333333333,
              "#9c179e"
             ],
             [
              0.4444444444444444,
              "#bd3786"
             ],
             [
              0.5555555555555556,
              "#d8576b"
             ],
             [
              0.6666666666666666,
              "#ed7953"
             ],
             [
              0.7777777777777778,
              "#fb9f3a"
             ],
             [
              0.8888888888888888,
              "#fdca26"
             ],
             [
              1,
              "#f0f921"
             ]
            ]
           }
          ],
          "contourcarpet": [
           {
            "type": "contourcarpet",
            "colorbar": {
             "outlinewidth": 0,
             "ticks": ""
            }
           }
          ],
          "contour": [
           {
            "type": "contour",
            "colorbar": {
             "outlinewidth": 0,
             "ticks": ""
            },
            "colorscale": [
             [
              0,
              "#0d0887"
             ],
             [
              0.1111111111111111,
              "#46039f"
             ],
             [
              0.2222222222222222,
              "#7201a8"
             ],
             [
              0.3333333333333333,
              "#9c179e"
             ],
             [
              0.4444444444444444,
              "#bd3786"
             ],
             [
              0.5555555555555556,
              "#d8576b"
             ],
             [
              0.6666666666666666,
              "#ed7953"
             ],
             [
              0.7777777777777778,
              "#fb9f3a"
             ],
             [
              0.8888888888888888,
              "#fdca26"
             ],
             [
              1,
              "#f0f921"
             ]
            ]
           }
          ],
          "surface": [
           {
            "type": "surface",
            "colorbar": {
             "outlinewidth": 0,
             "ticks": ""
            },
            "colorscale": [
             [
              0,
              "#0d0887"
             ],
             [
              0.1111111111111111,
              "#46039f"
             ],
             [
              0.2222222222222222,
              "#7201a8"
             ],
             [
              0.3333333333333333,
              "#9c179e"
             ],
             [
              0.4444444444444444,
              "#bd3786"
             ],
             [
              0.5555555555555556,
              "#d8576b"
             ],
             [
              0.6666666666666666,
              "#ed7953"
             ],
             [
              0.7777777777777778,
              "#fb9f3a"
             ],
             [
              0.8888888888888888,
              "#fdca26"
             ],
             [
              1,
              "#f0f921"
             ]
            ]
           }
          ],
          "mesh3d": [
           {
            "type": "mesh3d",
            "colorbar": {
             "outlinewidth": 0,
             "ticks": ""
            }
           }
          ],
          "scatter": [
           {
            "marker": {
             "line": {
              "color": "#283442"
             }
            },
            "type": "scatter"
           }
          ],
          "parcoords": [
           {
            "type": "parcoords",
            "line": {
             "colorbar": {
              "outlinewidth": 0,
              "ticks": ""
             }
            }
           }
          ],
          "scatterpolargl": [
           {
            "type": "scatterpolargl",
            "marker": {
             "colorbar": {
              "outlinewidth": 0,
              "ticks": ""
             }
            }
           }
          ],
          "bar": [
           {
            "error_x": {
             "color": "#f2f5fa"
            },
            "error_y": {
             "color": "#f2f5fa"
            },
            "marker": {
             "line": {
              "color": "rgb(17,17,17)",
              "width": 0.5
             },
             "pattern": {
              "fillmode": "overlay",
              "size": 10,
              "solidity": 0.2
             }
            },
            "type": "bar"
           }
          ],
          "scattergeo": [
           {
            "type": "scattergeo",
            "marker": {
             "colorbar": {
              "outlinewidth": 0,
              "ticks": ""
             }
            }
           }
          ],
          "scatterpolar": [
           {
            "type": "scatterpolar",
            "marker": {
             "colorbar": {
              "outlinewidth": 0,
              "ticks": ""
             }
            }
           }
          ],
          "histogram": [
           {
            "marker": {
             "pattern": {
              "fillmode": "overlay",
              "size": 10,
              "solidity": 0.2
             }
            },
            "type": "histogram"
           }
          ],
          "scattergl": [
           {
            "marker": {
             "line": {
              "color": "#283442"
             }
            },
            "type": "scattergl"
           }
          ],
          "scatter3d": [
           {
            "type": "scatter3d",
            "line": {
             "colorbar": {
              "outlinewidth": 0,
              "ticks": ""
             }
            },
            "marker": {
             "colorbar": {
              "outlinewidth": 0,
              "ticks": ""
             }
            }
           }
          ],
          "scattermap": [
           {
            "type": "scattermap",
            "marker": {
             "colorbar": {
              "outlinewidth": 0,
              "ticks": ""
             }
            }
           }
          ],
          "scattermapbox": [
           {
            "type": "scattermapbox",
            "marker": {
             "colorbar": {
              "outlinewidth": 0,
              "ticks": ""
             }
            }
           }
          ],
          "scatterternary": [
           {
            "type": "scatterternary",
            "marker": {
             "colorbar": {
              "outlinewidth": 0,
              "ticks": ""
             }
            }
           }
          ],
          "scattercarpet": [
           {
            "type": "scattercarpet",
            "marker": {
             "colorbar": {
              "outlinewidth": 0,
              "ticks": ""
             }
            }
           }
          ],
          "carpet": [
           {
            "aaxis": {
             "endlinecolor": "#A2B1C6",
             "gridcolor": "#506784",
             "linecolor": "#506784",
             "minorgridcolor": "#506784",
             "startlinecolor": "#A2B1C6"
            },
            "baxis": {
             "endlinecolor": "#A2B1C6",
             "gridcolor": "#506784",
             "linecolor": "#506784",
             "minorgridcolor": "#506784",
             "startlinecolor": "#A2B1C6"
            },
            "type": "carpet"
           }
          ],
          "table": [
           {
            "cells": {
             "fill": {
              "color": "#506784"
             },
             "line": {
              "color": "rgb(17,17,17)"
             }
            },
            "header": {
             "fill": {
              "color": "#2a3f5f"
             },
             "line": {
              "color": "rgb(17,17,17)"
             }
            },
            "type": "table"
           }
          ],
          "barpolar": [
           {
            "marker": {
             "line": {
              "color": "rgb(17,17,17)",
              "width": 0.5
             },
             "pattern": {
              "fillmode": "overlay",
              "size": 10,
              "solidity": 0.2
             }
            },
            "type": "barpolar"
           }
          ],
          "pie": [
           {
            "automargin": true,
            "type": "pie"
           }
          ]
         },
         "layout": {
          "autotypenumbers": "strict",
          "colorway": [
           "#636efa",
           "#EF553B",
           "#00cc96",
           "#ab63fa",
           "#FFA15A",
           "#19d3f3",
           "#FF6692",
           "#B6E880",
           "#FF97FF",
           "#FECB52"
          ],
          "font": {
           "color": "#f2f5fa"
          },
          "hovermode": "closest",
          "hoverlabel": {
           "align": "left"
          },
          "paper_bgcolor": "rgb(17,17,17)",
          "plot_bgcolor": "rgb(17,17,17)",
          "polar": {
           "bgcolor": "rgb(17,17,17)",
           "angularaxis": {
            "gridcolor": "#506784",
            "linecolor": "#506784",
            "ticks": ""
           },
           "radialaxis": {
            "gridcolor": "#506784",
            "linecolor": "#506784",
            "ticks": ""
           }
          },
          "ternary": {
           "bgcolor": "rgb(17,17,17)",
           "aaxis": {
            "gridcolor": "#506784",
            "linecolor": "#506784",
            "ticks": ""
           },
           "baxis": {
            "gridcolor": "#506784",
            "linecolor": "#506784",
            "ticks": ""
           },
           "caxis": {
            "gridcolor": "#506784",
            "linecolor": "#506784",
            "ticks": ""
           }
          },
          "coloraxis": {
           "colorbar": {
            "outlinewidth": 0,
            "ticks": ""
           }
          },
          "colorscale": {
           "sequential": [
            [
             0,
             "#0d0887"
            ],
            [
             0.1111111111111111,
             "#46039f"
            ],
            [
             0.2222222222222222,
             "#7201a8"
            ],
            [
             0.3333333333333333,
             "#9c179e"
            ],
            [
             0.4444444444444444,
             "#bd3786"
            ],
            [
             0.5555555555555556,
             "#d8576b"
            ],
            [
             0.6666666666666666,
             "#ed7953"
            ],
            [
             0.7777777777777778,
             "#fb9f3a"
            ],
            [
             0.8888888888888888,
             "#fdca26"
            ],
            [
             1,
             "#f0f921"
            ]
           ],
           "sequentialminus": [
            [
             0,
             "#0d0887"
            ],
            [
             0.1111111111111111,
             "#46039f"
            ],
            [
             0.2222222222222222,
             "#7201a8"
            ],
            [
             0.3333333333333333,
             "#9c179e"
            ],
            [
             0.4444444444444444,
             "#bd3786"
            ],
            [
             0.5555555555555556,
             "#d8576b"
            ],
            [
             0.6666666666666666,
             "#ed7953"
            ],
            [
             0.7777777777777778,
             "#fb9f3a"
            ],
            [
             0.8888888888888888,
             "#fdca26"
            ],
            [
             1,
             "#f0f921"
            ]
           ],
           "diverging": [
            [
             0,
             "#8e0152"
            ],
            [
             0.1,
             "#c51b7d"
            ],
            [
             0.2,
             "#de77ae"
            ],
            [
             0.3,
             "#f1b6da"
            ],
            [
             0.4,
             "#fde0ef"
            ],
            [
             0.5,
             "#f7f7f7"
            ],
            [
             0.6,
             "#e6f5d0"
            ],
            [
             0.7,
             "#b8e186"
            ],
            [
             0.8,
             "#7fbc41"
            ],
            [
             0.9,
             "#4d9221"
            ],
            [
             1,
             "#276419"
            ]
           ]
          },
          "xaxis": {
           "gridcolor": "#283442",
           "linecolor": "#506784",
           "ticks": "",
           "title": {
            "standoff": 15
           },
           "zerolinecolor": "#283442",
           "automargin": true,
           "zerolinewidth": 2
          },
          "yaxis": {
           "gridcolor": "#283442",
           "linecolor": "#506784",
           "ticks": "",
           "title": {
            "standoff": 15
           },
           "zerolinecolor": "#283442",
           "automargin": true,
           "zerolinewidth": 2
          },
          "scene": {
           "xaxis": {
            "backgroundcolor": "rgb(17,17,17)",
            "gridcolor": "#506784",
            "linecolor": "#506784",
            "showbackground": true,
            "ticks": "",
            "zerolinecolor": "#C8D4E3",
            "gridwidth": 2
           },
           "yaxis": {
            "backgroundcolor": "rgb(17,17,17)",
            "gridcolor": "#506784",
            "linecolor": "#506784",
            "showbackground": true,
            "ticks": "",
            "zerolinecolor": "#C8D4E3",
            "gridwidth": 2
           },
           "zaxis": {
            "backgroundcolor": "rgb(17,17,17)",
            "gridcolor": "#506784",
            "linecolor": "#506784",
            "showbackground": true,
            "ticks": "",
            "zerolinecolor": "#C8D4E3",
            "gridwidth": 2
           }
          },
          "shapedefaults": {
           "line": {
            "color": "#f2f5fa"
           }
          },
          "annotationdefaults": {
           "arrowcolor": "#f2f5fa",
           "arrowhead": 0,
           "arrowwidth": 1
          },
          "geo": {
           "bgcolor": "rgb(17,17,17)",
           "landcolor": "rgb(17,17,17)",
           "subunitcolor": "#506784",
           "showland": true,
           "showlakes": true,
           "lakecolor": "rgb(17,17,17)"
          },
          "title": {
           "x": 0.05
          },
          "updatemenudefaults": {
           "bgcolor": "#506784",
           "borderwidth": 0
          },
          "sliderdefaults": {
           "bgcolor": "#C8D4E3",
           "borderwidth": 1,
           "bordercolor": "rgb(17,17,17)",
           "tickwidth": 0
          },
          "mapbox": {
           "style": "dark"
          }
         }
        },
        "geo": {
         "domain": {
          "x": [
           0,
           1
          ],
          "y": [
           0,
           1
          ]
         },
         "center": {},
         "scope": "usa"
        },
        "coloraxis": {
         "colorbar": {
          "title": {
           "text": "Dominance %"
          }
         },
         "colorscale": [
          [
           0,
           "rgb(49,54,149)"
          ],
          [
           0.1,
           "rgb(69,117,180)"
          ],
          [
           0.2,
           "rgb(116,173,209)"
          ],
          [
           0.3,
           "rgb(171,217,233)"
          ],
          [
           0.4,
           "rgb(224,243,248)"
          ],
          [
           0.5,
           "rgb(255,255,191)"
          ],
          [
           0.6,
           "rgb(254,224,144)"
          ],
          [
           0.7,
           "rgb(253,174,97)"
          ],
          [
           0.8,
           "rgb(244,109,67)"
          ],
          [
           0.9,
           "rgb(215,48,39)"
          ],
          [
           1,
           "rgb(165,0,38)"
          ]
         ]
        },
        "legend": {
         "tracegroupgap": 0
        },
        "title": {
         "text": "Sales Method Dominance by State"
        }
       },
       "config": {
        "plotlyServerURL": "https://plot.ly"
       }
      },
      "text/html": [
       "<div>            <script src=\"https://cdnjs.cloudflare.com/ajax/libs/mathjax/2.7.5/MathJax.js?config=TeX-AMS-MML_SVG\"></script><script type=\"text/javascript\">if (window.MathJax && window.MathJax.Hub && window.MathJax.Hub.Config) {window.MathJax.Hub.Config({SVG: {font: \"STIX-Web\"}});}</script>                <script type=\"text/javascript\">window.PlotlyConfig = {MathJaxConfig: 'local'};</script>\n",
       "        <script charset=\"utf-8\" src=\"https://cdn.plot.ly/plotly-3.1.0.min.js\" integrity=\"sha256-Ei4740bWZhaUTQuD6q9yQlgVCMPBz6CZWhevDYPv93A=\" crossorigin=\"anonymous\"></script>                <div id=\"d0b11dd5-5027-4ab5-8e4d-8aa477fe3d6d\" class=\"plotly-graph-div\" style=\"height:525px; width:100%;\"></div>            <script type=\"text/javascript\">                window.PLOTLYENV=window.PLOTLYENV || {};                                if (document.getElementById(\"d0b11dd5-5027-4ab5-8e4d-8aa477fe3d6d\")) {                    Plotly.newPlot(                        \"d0b11dd5-5027-4ab5-8e4d-8aa477fe3d6d\",                        [{\"coloraxis\":\"coloraxis\",\"customdata\":[[\"Alabama\",\"Email\",29.439252336448597,52.336448598130836,18.22429906542056],[\"Alaska\",\"Email\",32.5,52.5,15.0],[\"Arizona\",\"Email\",36.44859813084112,45.794392523364486,17.75700934579439],[\"Arkansas\",\"Email\",38.63636363636363,44.696969696969695,16.666666666666664],[\"California\",\"Email\",34.294871794871796,49.19871794871795,16.506410256410255],[\"Colorado\",\"Email\",31.30434782608696,53.04347826086957,15.65217391304348],[\"Connecticut\",\"Email\",33.5195530726257,43.575418994413404,22.905027932960895],[\"Delaware\",\"Email\",26.47058823529412,50.0,23.52941176470588],[\"Florida\",\"Email\",32.85398230088495,50.0,17.146017699115042],[\"Georgia\",\"Email\",31.28834355828221,52.556237218813905,16.155419222903884],[\"Hawaii\",\"Email\",33.33333333333333,47.22222222222222,19.444444444444446],[\"Idaho\",\"Email\",24.193548387096776,54.83870967741935,20.967741935483872],[\"Illinois\",\"Email\",34.0356564019449,50.72933549432739,15.235008103727715],[\"Indiana\",\"Email\",30.508474576271187,53.38983050847458,16.101694915254235],[\"Iowa\",\"Email\",32.121212121212125,54.54545454545454,13.333333333333334],[\"Kansas\",\"Email\",32.3943661971831,51.40845070422535,16.19718309859155],[\"Kentucky\",\"Email\",35.2112676056338,46.009389671361504,18.779342723004692],[\"Louisiana\",\"Email\",32.17391304347826,50.0,17.82608695652174],[\"Maine\",\"Email\",41.269841269841265,47.61904761904761,11.11111111111111],[\"Maryland\",\"Email\",33.840304182509506,49.80988593155893,16.34980988593156],[\"Massachusetts\",\"Email\",32.31292517006803,50.0,17.687074829931973],[\"Michigan\",\"Email\",30.120481927710845,52.00803212851406,17.8714859437751],[\"Minnesota\",\"Email\",36.734693877551024,44.08163265306123,19.183673469387756],[\"Mississippi\",\"Email\",28.05755395683453,50.35971223021583,21.58273381294964],[\"Missouri\",\"Email\",31.511254019292608,53.054662379421224,15.434083601286176],[\"Montana\",\"Email\",31.11111111111111,60.0,8.88888888888889],[\"Nebraska\",\"Email\",34.065934065934066,42.857142857142854,23.076923076923077],[\"Nevada\",\"Email\",26.47058823529412,56.86274509803921,16.666666666666664],[\"New Hampshire\",\"Email\",32.075471698113205,58.490566037735846,9.433962264150944],[\"New Jersey\",\"Email\",37.78801843317972,45.622119815668206,16.589861751152075],[\"New Mexico\",\"Email\",28.57142857142857,53.57142857142857,17.857142857142858],[\"New York\",\"Email\",34.92227979274611,49.22279792746114,15.854922279792746],[\"North Carolina\",\"Email\",36.165577342047925,48.80174291938998,15.032679738562091],[\"North Dakota\",\"Email\",23.333333333333332,56.666666666666664,20.0],[\"Ohio\",\"Email\",35.68904593639576,47.52650176678445,16.784452296819786],[\"Oklahoma\",\"Email\",33.16326530612245,49.48979591836735,17.346938775510203],[\"Oregon\",\"Email\",32.751091703056765,46.724890829694324,20.52401746724891],[\"Pennsylvania\",\"Email\",31.438127090301005,52.0066889632107,16.555183946488295],[\"Rhode Island\",\"Email\",39.53488372093023,44.18604651162791,16.27906976744186],[\"South Carolina\",\"Email\",29.464285714285715,50.89285714285714,19.642857142857142],[\"South Dakota\",\"Email\",26.82926829268293,48.78048780487805,24.390243902439025],[\"Tennessee\",\"Email\",37.64705882352941,46.76470588235294,15.588235294117647],[\"Texas\",\"Email\",31.760741364785172,50.37910699241785,17.860151642796968],[\"Utah\",\"Email\",30.64516129032258,53.2258064516129,16.129032258064516],[\"Vermont\",\"Email\",32.142857142857146,39.285714285714285,28.57142857142857],[\"Virginia\",\"Email\",30.107526881720432,51.344086021505376,18.548387096774192],[\"Washington\",\"Email\",31.044776119402982,47.16417910447761,21.791044776119403],[\"West Virginia\",\"Email\",27.058823529411764,54.11764705882353,18.823529411764707],[\"Wisconsin\",\"Email\",31.225296442687743,50.988142292490124,17.786561264822133],[\"Wyoming\",\"Email\",36.36363636363637,45.45454545454545,18.181818181818183]],\"geo\":\"geo\",\"hovertemplate\":\"\\u003cb\\u003e%{hovertext}\\u003c\\u002fb\\u003e\\u003cbr\\u003e\\u003cbr\\u003estate_abbrev=%{location}\\u003cbr\\u003estate=%{customdata[0]}\\u003cbr\\u003edominant_method=%{customdata[1]}\\u003cbr\\u003eCall=%{customdata[2]}\\u003cbr\\u003eEmail=%{customdata[3]}\\u003cbr\\u003eEmail + Call=%{customdata[4]}\\u003cbr\\u003eDominance %=%{z}\\u003cextra\\u003e\\u003c\\u002fextra\\u003e\",\"hovertext\":[\"Alabama\",\"Alaska\",\"Arizona\",\"Arkansas\",\"California\",\"Colorado\",\"Connecticut\",\"Delaware\",\"Florida\",\"Georgia\",\"Hawaii\",\"Idaho\",\"Illinois\",\"Indiana\",\"Iowa\",\"Kansas\",\"Kentucky\",\"Louisiana\",\"Maine\",\"Maryland\",\"Massachusetts\",\"Michigan\",\"Minnesota\",\"Mississippi\",\"Missouri\",\"Montana\",\"Nebraska\",\"Nevada\",\"New Hampshire\",\"New Jersey\",\"New Mexico\",\"New York\",\"North Carolina\",\"North Dakota\",\"Ohio\",\"Oklahoma\",\"Oregon\",\"Pennsylvania\",\"Rhode Island\",\"South Carolina\",\"South Dakota\",\"Tennessee\",\"Texas\",\"Utah\",\"Vermont\",\"Virginia\",\"Washington\",\"West Virginia\",\"Wisconsin\",\"Wyoming\"],\"locationmode\":\"USA-states\",\"locations\":[\"AL\",\"AK\",\"AZ\",\"AR\",\"CA\",\"CO\",\"CT\",\"DE\",\"FL\",\"GA\",\"HI\",\"ID\",\"IL\",\"IN\",\"IA\",\"KS\",\"KY\",\"LA\",\"ME\",\"MD\",\"MA\",\"MI\",\"MN\",\"MS\",\"MO\",\"MT\",\"NE\",\"NV\",\"NH\",\"NJ\",\"NM\",\"NY\",\"NC\",\"ND\",\"OH\",\"OK\",\"OR\",\"PA\",\"RI\",\"SC\",\"SD\",\"TN\",\"TX\",\"UT\",\"VT\",\"VA\",\"WA\",\"WV\",\"WI\",\"WY\"],\"name\":\"\",\"z\":{\"dtype\":\"f8\",\"bdata\":\"5eBmvxArSkAAAAAAAEBKQMkEeqeu5UZA2WSTTTZZRkCXb\\u002fmWb5lIQMlCFrKQhUpAW0BhVKfJRUAAAAAAAABJQAAAAAAAAElA1s\\u002f7xzJHSkDHcRzHcZxHQGuttdZaa0tAXPmP3VpdSUDRcFL35bFKQEUXXXTRRUtAiVbYHEi0SUB8tUWuMwFHQAAAAAAAAElA8zzP8zzPR0CfxJpXqudIQAAAAAAAAElAgKRgMgcBSkCDl1PwcgpGQMVf5AwLLklAxfdFLf+GSkAAAAAAAABOQNu2bdu2bUVAbm5ubm5uTEBITTDeyj5NQIc+Q5+hz0ZAkiRJkiTJSkD1B3qkhJxIQC5KEYOfZkhAVVVVVVVVTEAO0O5oZMNHQBCN9aGxvkhAjVoDOclcR0D3HRcv2wBKQAZ9QV\\u002fQF0ZAJEmSJElySUBkcD4G52NIQOLh4eHhYUdATw\\u002fzk4YwSUCcc84555xKQEmSJEmSpENALLDAAgusSUB+NSbSA5VHQA8PDw8PD0tAEAVXcnt+SUC66KKLLrpGQA==\"},\"type\":\"choropleth\"}],                        {\"template\":{\"data\":{\"histogram2dcontour\":[{\"type\":\"histogram2dcontour\",\"colorbar\":{\"outlinewidth\":0,\"ticks\":\"\"},\"colorscale\":[[0.0,\"#0d0887\"],[0.1111111111111111,\"#46039f\"],[0.2222222222222222,\"#7201a8\"],[0.3333333333333333,\"#9c179e\"],[0.4444444444444444,\"#bd3786\"],[0.5555555555555556,\"#d8576b\"],[0.6666666666666666,\"#ed7953\"],[0.7777777777777778,\"#fb9f3a\"],[0.8888888888888888,\"#fdca26\"],[1.0,\"#f0f921\"]]}],\"choropleth\":[{\"type\":\"choropleth\",\"colorbar\":{\"outlinewidth\":0,\"ticks\":\"\"}}],\"histogram2d\":[{\"type\":\"histogram2d\",\"colorbar\":{\"outlinewidth\":0,\"ticks\":\"\"},\"colorscale\":[[0.0,\"#0d0887\"],[0.1111111111111111,\"#46039f\"],[0.2222222222222222,\"#7201a8\"],[0.3333333333333333,\"#9c179e\"],[0.4444444444444444,\"#bd3786\"],[0.5555555555555556,\"#d8576b\"],[0.6666666666666666,\"#ed7953\"],[0.7777777777777778,\"#fb9f3a\"],[0.8888888888888888,\"#fdca26\"],[1.0,\"#f0f921\"]]}],\"heatmap\":[{\"type\":\"heatmap\",\"colorbar\":{\"outlinewidth\":0,\"ticks\":\"\"},\"colorscale\":[[0.0,\"#0d0887\"],[0.1111111111111111,\"#46039f\"],[0.2222222222222222,\"#7201a8\"],[0.3333333333333333,\"#9c179e\"],[0.4444444444444444,\"#bd3786\"],[0.5555555555555556,\"#d8576b\"],[0.6666666666666666,\"#ed7953\"],[0.7777777777777778,\"#fb9f3a\"],[0.8888888888888888,\"#fdca26\"],[1.0,\"#f0f921\"]]}],\"contourcarpet\":[{\"type\":\"contourcarpet\",\"colorbar\":{\"outlinewidth\":0,\"ticks\":\"\"}}],\"contour\":[{\"type\":\"contour\",\"colorbar\":{\"outlinewidth\":0,\"ticks\":\"\"},\"colorscale\":[[0.0,\"#0d0887\"],[0.1111111111111111,\"#46039f\"],[0.2222222222222222,\"#7201a8\"],[0.3333333333333333,\"#9c179e\"],[0.4444444444444444,\"#bd3786\"],[0.5555555555555556,\"#d8576b\"],[0.6666666666666666,\"#ed7953\"],[0.7777777777777778,\"#fb9f3a\"],[0.8888888888888888,\"#fdca26\"],[1.0,\"#f0f921\"]]}],\"surface\":[{\"type\":\"surface\",\"colorbar\":{\"outlinewidth\":0,\"ticks\":\"\"},\"colorscale\":[[0.0,\"#0d0887\"],[0.1111111111111111,\"#46039f\"],[0.2222222222222222,\"#7201a8\"],[0.3333333333333333,\"#9c179e\"],[0.4444444444444444,\"#bd3786\"],[0.5555555555555556,\"#d8576b\"],[0.6666666666666666,\"#ed7953\"],[0.7777777777777778,\"#fb9f3a\"],[0.8888888888888888,\"#fdca26\"],[1.0,\"#f0f921\"]]}],\"mesh3d\":[{\"type\":\"mesh3d\",\"colorbar\":{\"outlinewidth\":0,\"ticks\":\"\"}}],\"scatter\":[{\"marker\":{\"line\":{\"color\":\"#283442\"}},\"type\":\"scatter\"}],\"parcoords\":[{\"type\":\"parcoords\",\"line\":{\"colorbar\":{\"outlinewidth\":0,\"ticks\":\"\"}}}],\"scatterpolargl\":[{\"type\":\"scatterpolargl\",\"marker\":{\"colorbar\":{\"outlinewidth\":0,\"ticks\":\"\"}}}],\"bar\":[{\"error_x\":{\"color\":\"#f2f5fa\"},\"error_y\":{\"color\":\"#f2f5fa\"},\"marker\":{\"line\":{\"color\":\"rgb(17,17,17)\",\"width\":0.5},\"pattern\":{\"fillmode\":\"overlay\",\"size\":10,\"solidity\":0.2}},\"type\":\"bar\"}],\"scattergeo\":[{\"type\":\"scattergeo\",\"marker\":{\"colorbar\":{\"outlinewidth\":0,\"ticks\":\"\"}}}],\"scatterpolar\":[{\"type\":\"scatterpolar\",\"marker\":{\"colorbar\":{\"outlinewidth\":0,\"ticks\":\"\"}}}],\"histogram\":[{\"marker\":{\"pattern\":{\"fillmode\":\"overlay\",\"size\":10,\"solidity\":0.2}},\"type\":\"histogram\"}],\"scattergl\":[{\"marker\":{\"line\":{\"color\":\"#283442\"}},\"type\":\"scattergl\"}],\"scatter3d\":[{\"type\":\"scatter3d\",\"line\":{\"colorbar\":{\"outlinewidth\":0,\"ticks\":\"\"}},\"marker\":{\"colorbar\":{\"outlinewidth\":0,\"ticks\":\"\"}}}],\"scattermap\":[{\"type\":\"scattermap\",\"marker\":{\"colorbar\":{\"outlinewidth\":0,\"ticks\":\"\"}}}],\"scattermapbox\":[{\"type\":\"scattermapbox\",\"marker\":{\"colorbar\":{\"outlinewidth\":0,\"ticks\":\"\"}}}],\"scatterternary\":[{\"type\":\"scatterternary\",\"marker\":{\"colorbar\":{\"outlinewidth\":0,\"ticks\":\"\"}}}],\"scattercarpet\":[{\"type\":\"scattercarpet\",\"marker\":{\"colorbar\":{\"outlinewidth\":0,\"ticks\":\"\"}}}],\"carpet\":[{\"aaxis\":{\"endlinecolor\":\"#A2B1C6\",\"gridcolor\":\"#506784\",\"linecolor\":\"#506784\",\"minorgridcolor\":\"#506784\",\"startlinecolor\":\"#A2B1C6\"},\"baxis\":{\"endlinecolor\":\"#A2B1C6\",\"gridcolor\":\"#506784\",\"linecolor\":\"#506784\",\"minorgridcolor\":\"#506784\",\"startlinecolor\":\"#A2B1C6\"},\"type\":\"carpet\"}],\"table\":[{\"cells\":{\"fill\":{\"color\":\"#506784\"},\"line\":{\"color\":\"rgb(17,17,17)\"}},\"header\":{\"fill\":{\"color\":\"#2a3f5f\"},\"line\":{\"color\":\"rgb(17,17,17)\"}},\"type\":\"table\"}],\"barpolar\":[{\"marker\":{\"line\":{\"color\":\"rgb(17,17,17)\",\"width\":0.5},\"pattern\":{\"fillmode\":\"overlay\",\"size\":10,\"solidity\":0.2}},\"type\":\"barpolar\"}],\"pie\":[{\"automargin\":true,\"type\":\"pie\"}]},\"layout\":{\"autotypenumbers\":\"strict\",\"colorway\":[\"#636efa\",\"#EF553B\",\"#00cc96\",\"#ab63fa\",\"#FFA15A\",\"#19d3f3\",\"#FF6692\",\"#B6E880\",\"#FF97FF\",\"#FECB52\"],\"font\":{\"color\":\"#f2f5fa\"},\"hovermode\":\"closest\",\"hoverlabel\":{\"align\":\"left\"},\"paper_bgcolor\":\"rgb(17,17,17)\",\"plot_bgcolor\":\"rgb(17,17,17)\",\"polar\":{\"bgcolor\":\"rgb(17,17,17)\",\"angularaxis\":{\"gridcolor\":\"#506784\",\"linecolor\":\"#506784\",\"ticks\":\"\"},\"radialaxis\":{\"gridcolor\":\"#506784\",\"linecolor\":\"#506784\",\"ticks\":\"\"}},\"ternary\":{\"bgcolor\":\"rgb(17,17,17)\",\"aaxis\":{\"gridcolor\":\"#506784\",\"linecolor\":\"#506784\",\"ticks\":\"\"},\"baxis\":{\"gridcolor\":\"#506784\",\"linecolor\":\"#506784\",\"ticks\":\"\"},\"caxis\":{\"gridcolor\":\"#506784\",\"linecolor\":\"#506784\",\"ticks\":\"\"}},\"coloraxis\":{\"colorbar\":{\"outlinewidth\":0,\"ticks\":\"\"}},\"colorscale\":{\"sequential\":[[0.0,\"#0d0887\"],[0.1111111111111111,\"#46039f\"],[0.2222222222222222,\"#7201a8\"],[0.3333333333333333,\"#9c179e\"],[0.4444444444444444,\"#bd3786\"],[0.5555555555555556,\"#d8576b\"],[0.6666666666666666,\"#ed7953\"],[0.7777777777777778,\"#fb9f3a\"],[0.8888888888888888,\"#fdca26\"],[1.0,\"#f0f921\"]],\"sequentialminus\":[[0.0,\"#0d0887\"],[0.1111111111111111,\"#46039f\"],[0.2222222222222222,\"#7201a8\"],[0.3333333333333333,\"#9c179e\"],[0.4444444444444444,\"#bd3786\"],[0.5555555555555556,\"#d8576b\"],[0.6666666666666666,\"#ed7953\"],[0.7777777777777778,\"#fb9f3a\"],[0.8888888888888888,\"#fdca26\"],[1.0,\"#f0f921\"]],\"diverging\":[[0,\"#8e0152\"],[0.1,\"#c51b7d\"],[0.2,\"#de77ae\"],[0.3,\"#f1b6da\"],[0.4,\"#fde0ef\"],[0.5,\"#f7f7f7\"],[0.6,\"#e6f5d0\"],[0.7,\"#b8e186\"],[0.8,\"#7fbc41\"],[0.9,\"#4d9221\"],[1,\"#276419\"]]},\"xaxis\":{\"gridcolor\":\"#283442\",\"linecolor\":\"#506784\",\"ticks\":\"\",\"title\":{\"standoff\":15},\"zerolinecolor\":\"#283442\",\"automargin\":true,\"zerolinewidth\":2},\"yaxis\":{\"gridcolor\":\"#283442\",\"linecolor\":\"#506784\",\"ticks\":\"\",\"title\":{\"standoff\":15},\"zerolinecolor\":\"#283442\",\"automargin\":true,\"zerolinewidth\":2},\"scene\":{\"xaxis\":{\"backgroundcolor\":\"rgb(17,17,17)\",\"gridcolor\":\"#506784\",\"linecolor\":\"#506784\",\"showbackground\":true,\"ticks\":\"\",\"zerolinecolor\":\"#C8D4E3\",\"gridwidth\":2},\"yaxis\":{\"backgroundcolor\":\"rgb(17,17,17)\",\"gridcolor\":\"#506784\",\"linecolor\":\"#506784\",\"showbackground\":true,\"ticks\":\"\",\"zerolinecolor\":\"#C8D4E3\",\"gridwidth\":2},\"zaxis\":{\"backgroundcolor\":\"rgb(17,17,17)\",\"gridcolor\":\"#506784\",\"linecolor\":\"#506784\",\"showbackground\":true,\"ticks\":\"\",\"zerolinecolor\":\"#C8D4E3\",\"gridwidth\":2}},\"shapedefaults\":{\"line\":{\"color\":\"#f2f5fa\"}},\"annotationdefaults\":{\"arrowcolor\":\"#f2f5fa\",\"arrowhead\":0,\"arrowwidth\":1},\"geo\":{\"bgcolor\":\"rgb(17,17,17)\",\"landcolor\":\"rgb(17,17,17)\",\"subunitcolor\":\"#506784\",\"showland\":true,\"showlakes\":true,\"lakecolor\":\"rgb(17,17,17)\"},\"title\":{\"x\":0.05},\"updatemenudefaults\":{\"bgcolor\":\"#506784\",\"borderwidth\":0},\"sliderdefaults\":{\"bgcolor\":\"#C8D4E3\",\"borderwidth\":1,\"bordercolor\":\"rgb(17,17,17)\",\"tickwidth\":0},\"mapbox\":{\"style\":\"dark\"}}},\"geo\":{\"domain\":{\"x\":[0.0,1.0],\"y\":[0.0,1.0]},\"center\":{},\"scope\":\"usa\"},\"coloraxis\":{\"colorbar\":{\"title\":{\"text\":\"Dominance %\"}},\"colorscale\":[[0.0,\"rgb(49,54,149)\"],[0.1,\"rgb(69,117,180)\"],[0.2,\"rgb(116,173,209)\"],[0.3,\"rgb(171,217,233)\"],[0.4,\"rgb(224,243,248)\"],[0.5,\"rgb(255,255,191)\"],[0.6,\"rgb(254,224,144)\"],[0.7,\"rgb(253,174,97)\"],[0.8,\"rgb(244,109,67)\"],[0.9,\"rgb(215,48,39)\"],[1.0,\"rgb(165,0,38)\"]]},\"legend\":{\"tracegroupgap\":0},\"title\":{\"text\":\"Sales Method Dominance by State\"}},                        {\"responsive\": true}                    ).then(function(){\n",
       "                            \n",
       "var gd = document.getElementById('d0b11dd5-5027-4ab5-8e4d-8aa477fe3d6d');\n",
       "var x = new MutationObserver(function (mutations, observer) {{\n",
       "        var display = window.getComputedStyle(gd).display;\n",
       "        if (!display || display === 'none') {{\n",
       "            console.log([gd, 'removed!']);\n",
       "            Plotly.purge(gd);\n",
       "            observer.disconnect();\n",
       "        }}\n",
       "}});\n",
       "\n",
       "// Listen for the removal of the full notebook cells\n",
       "var notebookContainer = gd.closest('#notebook-container');\n",
       "if (notebookContainer) {{\n",
       "    x.observe(notebookContainer, {childList: true});\n",
       "}}\n",
       "\n",
       "// Listen for the clearing of the current output cell\n",
       "var outputEl = gd.closest('.output');\n",
       "if (outputEl) {{\n",
       "    x.observe(outputEl, {childList: true});\n",
       "}}\n",
       "\n",
       "                        })                };            </script>        </div>"
      ]
     },
     "metadata": {},
     "output_type": "display_data"
    }
   ],
   "execution_count": 402
  },
  {
   "cell_type": "markdown",
   "metadata": {},
   "source": [
    "* Creates interactive choropleth map of sales method dominance.\n",
    "* Uses USA state boundaries for accurate geographic representation.\n",
    "* Color-codes states by strength of dominant method for visual analysis."
   ]
  },
  {
   "cell_type": "code",
   "metadata": {
    "ExecuteTime": {
     "end_time": "2025-08-27T17:46:13.208505Z",
     "start_time": "2025-08-27T17:46:13.206937Z"
    }
   },
   "source": "",
   "outputs": [],
   "execution_count": null
  },
  {
   "cell_type": "markdown",
   "metadata": {},
   "source": [
    "* Centers title and removes background colors for clean presentation.\n",
    "* Displays the interactive geographic visualization.\n",
    "* Enables immediate identification of territorial clusters and preferences."
   ]
  },
  {
   "cell_type": "code",
   "metadata": {
    "ExecuteTime": {
     "end_time": "2025-08-27T17:46:13.288236Z",
     "start_time": "2025-08-27T17:46:13.270812Z"
    }
   },
   "source": [
    "# Create pie chart showing overall geographic distribution of sales methods\n",
    "method_distribution = sales_data['sales_method'].value_counts()\n",
    "\n",
    "fig = px.pie(\n",
    "    values=method_distribution.values,\n",
    "    names=method_distribution.index,\n",
    "    title=\"Overall Sales Method Distribution\",\n",
    "    color_discrete_sequence=['#FF6B6B', '#4ECDC4', '#45B7D1']\n",
    ")"
   ],
   "outputs": [],
   "execution_count": 403
  },
  {
   "cell_type": "markdown",
   "metadata": {},
   "source": [
    "* Generates pie chart visualization of overall method distribution.\n",
    "* Uses custom color scheme for professional presentation.\n",
    "* Provides clear overview of current resource allocation patterns."
   ]
  },
  {
   "cell_type": "code",
   "metadata": {
    "ExecuteTime": {
     "end_time": "2025-08-27T17:46:13.355645Z",
     "start_time": "2025-08-27T17:46:13.332282Z"
    }
   },
   "source": [
    "fig.update_traces(textposition='inside', textinfo='percent+label')\n",
    "fig.update_layout(title_x=0.5)\n",
    "fig.show()"
   ],
   "outputs": [
    {
     "data": {
      "application/vnd.plotly.v1+json": {
       "data": [
        {
         "domain": {
          "x": [
           0,
           1
          ],
          "y": [
           0,
           1
          ]
         },
         "hovertemplate": "label=%{label}<br>value=%{value}<extra></extra>",
         "labels": [
          "Email",
          "Call",
          "Email + Call"
         ],
         "legendgroup": "",
         "name": "",
         "showlegend": true,
         "values": {
          "dtype": "i2",
          "bdata": "Kh1iEwwK"
         },
         "type": "pie",
         "textinfo": "percent+label",
         "textposition": "inside"
        }
       ],
       "layout": {
        "template": {
         "data": {
          "histogram2dcontour": [
           {
            "type": "histogram2dcontour",
            "colorbar": {
             "outlinewidth": 0,
             "ticks": ""
            },
            "colorscale": [
             [
              0,
              "#0d0887"
             ],
             [
              0.1111111111111111,
              "#46039f"
             ],
             [
              0.2222222222222222,
              "#7201a8"
             ],
             [
              0.3333333333333333,
              "#9c179e"
             ],
             [
              0.4444444444444444,
              "#bd3786"
             ],
             [
              0.5555555555555556,
              "#d8576b"
             ],
             [
              0.6666666666666666,
              "#ed7953"
             ],
             [
              0.7777777777777778,
              "#fb9f3a"
             ],
             [
              0.8888888888888888,
              "#fdca26"
             ],
             [
              1,
              "#f0f921"
             ]
            ]
           }
          ],
          "choropleth": [
           {
            "type": "choropleth",
            "colorbar": {
             "outlinewidth": 0,
             "ticks": ""
            }
           }
          ],
          "histogram2d": [
           {
            "type": "histogram2d",
            "colorbar": {
             "outlinewidth": 0,
             "ticks": ""
            },
            "colorscale": [
             [
              0,
              "#0d0887"
             ],
             [
              0.1111111111111111,
              "#46039f"
             ],
             [
              0.2222222222222222,
              "#7201a8"
             ],
             [
              0.3333333333333333,
              "#9c179e"
             ],
             [
              0.4444444444444444,
              "#bd3786"
             ],
             [
              0.5555555555555556,
              "#d8576b"
             ],
             [
              0.6666666666666666,
              "#ed7953"
             ],
             [
              0.7777777777777778,
              "#fb9f3a"
             ],
             [
              0.8888888888888888,
              "#fdca26"
             ],
             [
              1,
              "#f0f921"
             ]
            ]
           }
          ],
          "heatmap": [
           {
            "type": "heatmap",
            "colorbar": {
             "outlinewidth": 0,
             "ticks": ""
            },
            "colorscale": [
             [
              0,
              "#0d0887"
             ],
             [
              0.1111111111111111,
              "#46039f"
             ],
             [
              0.2222222222222222,
              "#7201a8"
             ],
             [
              0.3333333333333333,
              "#9c179e"
             ],
             [
              0.4444444444444444,
              "#bd3786"
             ],
             [
              0.5555555555555556,
              "#d8576b"
             ],
             [
              0.6666666666666666,
              "#ed7953"
             ],
             [
              0.7777777777777778,
              "#fb9f3a"
             ],
             [
              0.8888888888888888,
              "#fdca26"
             ],
             [
              1,
              "#f0f921"
             ]
            ]
           }
          ],
          "contourcarpet": [
           {
            "type": "contourcarpet",
            "colorbar": {
             "outlinewidth": 0,
             "ticks": ""
            }
           }
          ],
          "contour": [
           {
            "type": "contour",
            "colorbar": {
             "outlinewidth": 0,
             "ticks": ""
            },
            "colorscale": [
             [
              0,
              "#0d0887"
             ],
             [
              0.1111111111111111,
              "#46039f"
             ],
             [
              0.2222222222222222,
              "#7201a8"
             ],
             [
              0.3333333333333333,
              "#9c179e"
             ],
             [
              0.4444444444444444,
              "#bd3786"
             ],
             [
              0.5555555555555556,
              "#d8576b"
             ],
             [
              0.6666666666666666,
              "#ed7953"
             ],
             [
              0.7777777777777778,
              "#fb9f3a"
             ],
             [
              0.8888888888888888,
              "#fdca26"
             ],
             [
              1,
              "#f0f921"
             ]
            ]
           }
          ],
          "surface": [
           {
            "type": "surface",
            "colorbar": {
             "outlinewidth": 0,
             "ticks": ""
            },
            "colorscale": [
             [
              0,
              "#0d0887"
             ],
             [
              0.1111111111111111,
              "#46039f"
             ],
             [
              0.2222222222222222,
              "#7201a8"
             ],
             [
              0.3333333333333333,
              "#9c179e"
             ],
             [
              0.4444444444444444,
              "#bd3786"
             ],
             [
              0.5555555555555556,
              "#d8576b"
             ],
             [
              0.6666666666666666,
              "#ed7953"
             ],
             [
              0.7777777777777778,
              "#fb9f3a"
             ],
             [
              0.8888888888888888,
              "#fdca26"
             ],
             [
              1,
              "#f0f921"
             ]
            ]
           }
          ],
          "mesh3d": [
           {
            "type": "mesh3d",
            "colorbar": {
             "outlinewidth": 0,
             "ticks": ""
            }
           }
          ],
          "scatter": [
           {
            "marker": {
             "line": {
              "color": "#283442"
             }
            },
            "type": "scatter"
           }
          ],
          "parcoords": [
           {
            "type": "parcoords",
            "line": {
             "colorbar": {
              "outlinewidth": 0,
              "ticks": ""
             }
            }
           }
          ],
          "scatterpolargl": [
           {
            "type": "scatterpolargl",
            "marker": {
             "colorbar": {
              "outlinewidth": 0,
              "ticks": ""
             }
            }
           }
          ],
          "bar": [
           {
            "error_x": {
             "color": "#f2f5fa"
            },
            "error_y": {
             "color": "#f2f5fa"
            },
            "marker": {
             "line": {
              "color": "rgb(17,17,17)",
              "width": 0.5
             },
             "pattern": {
              "fillmode": "overlay",
              "size": 10,
              "solidity": 0.2
             }
            },
            "type": "bar"
           }
          ],
          "scattergeo": [
           {
            "type": "scattergeo",
            "marker": {
             "colorbar": {
              "outlinewidth": 0,
              "ticks": ""
             }
            }
           }
          ],
          "scatterpolar": [
           {
            "type": "scatterpolar",
            "marker": {
             "colorbar": {
              "outlinewidth": 0,
              "ticks": ""
             }
            }
           }
          ],
          "histogram": [
           {
            "marker": {
             "pattern": {
              "fillmode": "overlay",
              "size": 10,
              "solidity": 0.2
             }
            },
            "type": "histogram"
           }
          ],
          "scattergl": [
           {
            "marker": {
             "line": {
              "color": "#283442"
             }
            },
            "type": "scattergl"
           }
          ],
          "scatter3d": [
           {
            "type": "scatter3d",
            "line": {
             "colorbar": {
              "outlinewidth": 0,
              "ticks": ""
             }
            },
            "marker": {
             "colorbar": {
              "outlinewidth": 0,
              "ticks": ""
             }
            }
           }
          ],
          "scattermap": [
           {
            "type": "scattermap",
            "marker": {
             "colorbar": {
              "outlinewidth": 0,
              "ticks": ""
             }
            }
           }
          ],
          "scattermapbox": [
           {
            "type": "scattermapbox",
            "marker": {
             "colorbar": {
              "outlinewidth": 0,
              "ticks": ""
             }
            }
           }
          ],
          "scatterternary": [
           {
            "type": "scatterternary",
            "marker": {
             "colorbar": {
              "outlinewidth": 0,
              "ticks": ""
             }
            }
           }
          ],
          "scattercarpet": [
           {
            "type": "scattercarpet",
            "marker": {
             "colorbar": {
              "outlinewidth": 0,
              "ticks": ""
             }
            }
           }
          ],
          "carpet": [
           {
            "aaxis": {
             "endlinecolor": "#A2B1C6",
             "gridcolor": "#506784",
             "linecolor": "#506784",
             "minorgridcolor": "#506784",
             "startlinecolor": "#A2B1C6"
            },
            "baxis": {
             "endlinecolor": "#A2B1C6",
             "gridcolor": "#506784",
             "linecolor": "#506784",
             "minorgridcolor": "#506784",
             "startlinecolor": "#A2B1C6"
            },
            "type": "carpet"
           }
          ],
          "table": [
           {
            "cells": {
             "fill": {
              "color": "#506784"
             },
             "line": {
              "color": "rgb(17,17,17)"
             }
            },
            "header": {
             "fill": {
              "color": "#2a3f5f"
             },
             "line": {
              "color": "rgb(17,17,17)"
             }
            },
            "type": "table"
           }
          ],
          "barpolar": [
           {
            "marker": {
             "line": {
              "color": "rgb(17,17,17)",
              "width": 0.5
             },
             "pattern": {
              "fillmode": "overlay",
              "size": 10,
              "solidity": 0.2
             }
            },
            "type": "barpolar"
           }
          ],
          "pie": [
           {
            "automargin": true,
            "type": "pie"
           }
          ]
         },
         "layout": {
          "autotypenumbers": "strict",
          "colorway": [
           "#636efa",
           "#EF553B",
           "#00cc96",
           "#ab63fa",
           "#FFA15A",
           "#19d3f3",
           "#FF6692",
           "#B6E880",
           "#FF97FF",
           "#FECB52"
          ],
          "font": {
           "color": "#f2f5fa"
          },
          "hovermode": "closest",
          "hoverlabel": {
           "align": "left"
          },
          "paper_bgcolor": "rgb(17,17,17)",
          "plot_bgcolor": "rgb(17,17,17)",
          "polar": {
           "bgcolor": "rgb(17,17,17)",
           "angularaxis": {
            "gridcolor": "#506784",
            "linecolor": "#506784",
            "ticks": ""
           },
           "radialaxis": {
            "gridcolor": "#506784",
            "linecolor": "#506784",
            "ticks": ""
           }
          },
          "ternary": {
           "bgcolor": "rgb(17,17,17)",
           "aaxis": {
            "gridcolor": "#506784",
            "linecolor": "#506784",
            "ticks": ""
           },
           "baxis": {
            "gridcolor": "#506784",
            "linecolor": "#506784",
            "ticks": ""
           },
           "caxis": {
            "gridcolor": "#506784",
            "linecolor": "#506784",
            "ticks": ""
           }
          },
          "coloraxis": {
           "colorbar": {
            "outlinewidth": 0,
            "ticks": ""
           }
          },
          "colorscale": {
           "sequential": [
            [
             0,
             "#0d0887"
            ],
            [
             0.1111111111111111,
             "#46039f"
            ],
            [
             0.2222222222222222,
             "#7201a8"
            ],
            [
             0.3333333333333333,
             "#9c179e"
            ],
            [
             0.4444444444444444,
             "#bd3786"
            ],
            [
             0.5555555555555556,
             "#d8576b"
            ],
            [
             0.6666666666666666,
             "#ed7953"
            ],
            [
             0.7777777777777778,
             "#fb9f3a"
            ],
            [
             0.8888888888888888,
             "#fdca26"
            ],
            [
             1,
             "#f0f921"
            ]
           ],
           "sequentialminus": [
            [
             0,
             "#0d0887"
            ],
            [
             0.1111111111111111,
             "#46039f"
            ],
            [
             0.2222222222222222,
             "#7201a8"
            ],
            [
             0.3333333333333333,
             "#9c179e"
            ],
            [
             0.4444444444444444,
             "#bd3786"
            ],
            [
             0.5555555555555556,
             "#d8576b"
            ],
            [
             0.6666666666666666,
             "#ed7953"
            ],
            [
             0.7777777777777778,
             "#fb9f3a"
            ],
            [
             0.8888888888888888,
             "#fdca26"
            ],
            [
             1,
             "#f0f921"
            ]
           ],
           "diverging": [
            [
             0,
             "#8e0152"
            ],
            [
             0.1,
             "#c51b7d"
            ],
            [
             0.2,
             "#de77ae"
            ],
            [
             0.3,
             "#f1b6da"
            ],
            [
             0.4,
             "#fde0ef"
            ],
            [
             0.5,
             "#f7f7f7"
            ],
            [
             0.6,
             "#e6f5d0"
            ],
            [
             0.7,
             "#b8e186"
            ],
            [
             0.8,
             "#7fbc41"
            ],
            [
             0.9,
             "#4d9221"
            ],
            [
             1,
             "#276419"
            ]
           ]
          },
          "xaxis": {
           "gridcolor": "#283442",
           "linecolor": "#506784",
           "ticks": "",
           "title": {
            "standoff": 15
           },
           "zerolinecolor": "#283442",
           "automargin": true,
           "zerolinewidth": 2
          },
          "yaxis": {
           "gridcolor": "#283442",
           "linecolor": "#506784",
           "ticks": "",
           "title": {
            "standoff": 15
           },
           "zerolinecolor": "#283442",
           "automargin": true,
           "zerolinewidth": 2
          },
          "scene": {
           "xaxis": {
            "backgroundcolor": "rgb(17,17,17)",
            "gridcolor": "#506784",
            "linecolor": "#506784",
            "showbackground": true,
            "ticks": "",
            "zerolinecolor": "#C8D4E3",
            "gridwidth": 2
           },
           "yaxis": {
            "backgroundcolor": "rgb(17,17,17)",
            "gridcolor": "#506784",
            "linecolor": "#506784",
            "showbackground": true,
            "ticks": "",
            "zerolinecolor": "#C8D4E3",
            "gridwidth": 2
           },
           "zaxis": {
            "backgroundcolor": "rgb(17,17,17)",
            "gridcolor": "#506784",
            "linecolor": "#506784",
            "showbackground": true,
            "ticks": "",
            "zerolinecolor": "#C8D4E3",
            "gridwidth": 2
           }
          },
          "shapedefaults": {
           "line": {
            "color": "#f2f5fa"
           }
          },
          "annotationdefaults": {
           "arrowcolor": "#f2f5fa",
           "arrowhead": 0,
           "arrowwidth": 1
          },
          "geo": {
           "bgcolor": "rgb(17,17,17)",
           "landcolor": "rgb(17,17,17)",
           "subunitcolor": "#506784",
           "showland": true,
           "showlakes": true,
           "lakecolor": "rgb(17,17,17)"
          },
          "title": {
           "x": 0.05
          },
          "updatemenudefaults": {
           "bgcolor": "#506784",
           "borderwidth": 0
          },
          "sliderdefaults": {
           "bgcolor": "#C8D4E3",
           "borderwidth": 1,
           "bordercolor": "rgb(17,17,17)",
           "tickwidth": 0
          },
          "mapbox": {
           "style": "dark"
          }
         }
        },
        "legend": {
         "tracegroupgap": 0
        },
        "title": {
         "text": "Overall Sales Method Distribution",
         "x": 0.5
        },
        "piecolorway": [
         "#FF6B6B",
         "#4ECDC4",
         "#45B7D1"
        ]
       },
       "config": {
        "plotlyServerURL": "https://plot.ly"
       }
      },
      "text/html": [
       "<div>            <script src=\"https://cdnjs.cloudflare.com/ajax/libs/mathjax/2.7.5/MathJax.js?config=TeX-AMS-MML_SVG\"></script><script type=\"text/javascript\">if (window.MathJax && window.MathJax.Hub && window.MathJax.Hub.Config) {window.MathJax.Hub.Config({SVG: {font: \"STIX-Web\"}});}</script>                <script type=\"text/javascript\">window.PlotlyConfig = {MathJaxConfig: 'local'};</script>\n",
       "        <script charset=\"utf-8\" src=\"https://cdn.plot.ly/plotly-3.1.0.min.js\" integrity=\"sha256-Ei4740bWZhaUTQuD6q9yQlgVCMPBz6CZWhevDYPv93A=\" crossorigin=\"anonymous\"></script>                <div id=\"7d7b9761-0308-4f03-8000-187b4bbef503\" class=\"plotly-graph-div\" style=\"height:525px; width:100%;\"></div>            <script type=\"text/javascript\">                window.PLOTLYENV=window.PLOTLYENV || {};                                if (document.getElementById(\"7d7b9761-0308-4f03-8000-187b4bbef503\")) {                    Plotly.newPlot(                        \"7d7b9761-0308-4f03-8000-187b4bbef503\",                        [{\"domain\":{\"x\":[0.0,1.0],\"y\":[0.0,1.0]},\"hovertemplate\":\"label=%{label}\\u003cbr\\u003evalue=%{value}\\u003cextra\\u003e\\u003c\\u002fextra\\u003e\",\"labels\":[\"Email\",\"Call\",\"Email + Call\"],\"legendgroup\":\"\",\"name\":\"\",\"showlegend\":true,\"values\":{\"dtype\":\"i2\",\"bdata\":\"Kh1iEwwK\"},\"type\":\"pie\",\"textinfo\":\"percent+label\",\"textposition\":\"inside\"}],                        {\"template\":{\"data\":{\"histogram2dcontour\":[{\"type\":\"histogram2dcontour\",\"colorbar\":{\"outlinewidth\":0,\"ticks\":\"\"},\"colorscale\":[[0.0,\"#0d0887\"],[0.1111111111111111,\"#46039f\"],[0.2222222222222222,\"#7201a8\"],[0.3333333333333333,\"#9c179e\"],[0.4444444444444444,\"#bd3786\"],[0.5555555555555556,\"#d8576b\"],[0.6666666666666666,\"#ed7953\"],[0.7777777777777778,\"#fb9f3a\"],[0.8888888888888888,\"#fdca26\"],[1.0,\"#f0f921\"]]}],\"choropleth\":[{\"type\":\"choropleth\",\"colorbar\":{\"outlinewidth\":0,\"ticks\":\"\"}}],\"histogram2d\":[{\"type\":\"histogram2d\",\"colorbar\":{\"outlinewidth\":0,\"ticks\":\"\"},\"colorscale\":[[0.0,\"#0d0887\"],[0.1111111111111111,\"#46039f\"],[0.2222222222222222,\"#7201a8\"],[0.3333333333333333,\"#9c179e\"],[0.4444444444444444,\"#bd3786\"],[0.5555555555555556,\"#d8576b\"],[0.6666666666666666,\"#ed7953\"],[0.7777777777777778,\"#fb9f3a\"],[0.8888888888888888,\"#fdca26\"],[1.0,\"#f0f921\"]]}],\"heatmap\":[{\"type\":\"heatmap\",\"colorbar\":{\"outlinewidth\":0,\"ticks\":\"\"},\"colorscale\":[[0.0,\"#0d0887\"],[0.1111111111111111,\"#46039f\"],[0.2222222222222222,\"#7201a8\"],[0.3333333333333333,\"#9c179e\"],[0.4444444444444444,\"#bd3786\"],[0.5555555555555556,\"#d8576b\"],[0.6666666666666666,\"#ed7953\"],[0.7777777777777778,\"#fb9f3a\"],[0.8888888888888888,\"#fdca26\"],[1.0,\"#f0f921\"]]}],\"contourcarpet\":[{\"type\":\"contourcarpet\",\"colorbar\":{\"outlinewidth\":0,\"ticks\":\"\"}}],\"contour\":[{\"type\":\"contour\",\"colorbar\":{\"outlinewidth\":0,\"ticks\":\"\"},\"colorscale\":[[0.0,\"#0d0887\"],[0.1111111111111111,\"#46039f\"],[0.2222222222222222,\"#7201a8\"],[0.3333333333333333,\"#9c179e\"],[0.4444444444444444,\"#bd3786\"],[0.5555555555555556,\"#d8576b\"],[0.6666666666666666,\"#ed7953\"],[0.7777777777777778,\"#fb9f3a\"],[0.8888888888888888,\"#fdca26\"],[1.0,\"#f0f921\"]]}],\"surface\":[{\"type\":\"surface\",\"colorbar\":{\"outlinewidth\":0,\"ticks\":\"\"},\"colorscale\":[[0.0,\"#0d0887\"],[0.1111111111111111,\"#46039f\"],[0.2222222222222222,\"#7201a8\"],[0.3333333333333333,\"#9c179e\"],[0.4444444444444444,\"#bd3786\"],[0.5555555555555556,\"#d8576b\"],[0.6666666666666666,\"#ed7953\"],[0.7777777777777778,\"#fb9f3a\"],[0.8888888888888888,\"#fdca26\"],[1.0,\"#f0f921\"]]}],\"mesh3d\":[{\"type\":\"mesh3d\",\"colorbar\":{\"outlinewidth\":0,\"ticks\":\"\"}}],\"scatter\":[{\"marker\":{\"line\":{\"color\":\"#283442\"}},\"type\":\"scatter\"}],\"parcoords\":[{\"type\":\"parcoords\",\"line\":{\"colorbar\":{\"outlinewidth\":0,\"ticks\":\"\"}}}],\"scatterpolargl\":[{\"type\":\"scatterpolargl\",\"marker\":{\"colorbar\":{\"outlinewidth\":0,\"ticks\":\"\"}}}],\"bar\":[{\"error_x\":{\"color\":\"#f2f5fa\"},\"error_y\":{\"color\":\"#f2f5fa\"},\"marker\":{\"line\":{\"color\":\"rgb(17,17,17)\",\"width\":0.5},\"pattern\":{\"fillmode\":\"overlay\",\"size\":10,\"solidity\":0.2}},\"type\":\"bar\"}],\"scattergeo\":[{\"type\":\"scattergeo\",\"marker\":{\"colorbar\":{\"outlinewidth\":0,\"ticks\":\"\"}}}],\"scatterpolar\":[{\"type\":\"scatterpolar\",\"marker\":{\"colorbar\":{\"outlinewidth\":0,\"ticks\":\"\"}}}],\"histogram\":[{\"marker\":{\"pattern\":{\"fillmode\":\"overlay\",\"size\":10,\"solidity\":0.2}},\"type\":\"histogram\"}],\"scattergl\":[{\"marker\":{\"line\":{\"color\":\"#283442\"}},\"type\":\"scattergl\"}],\"scatter3d\":[{\"type\":\"scatter3d\",\"line\":{\"colorbar\":{\"outlinewidth\":0,\"ticks\":\"\"}},\"marker\":{\"colorbar\":{\"outlinewidth\":0,\"ticks\":\"\"}}}],\"scattermap\":[{\"type\":\"scattermap\",\"marker\":{\"colorbar\":{\"outlinewidth\":0,\"ticks\":\"\"}}}],\"scattermapbox\":[{\"type\":\"scattermapbox\",\"marker\":{\"colorbar\":{\"outlinewidth\":0,\"ticks\":\"\"}}}],\"scatterternary\":[{\"type\":\"scatterternary\",\"marker\":{\"colorbar\":{\"outlinewidth\":0,\"ticks\":\"\"}}}],\"scattercarpet\":[{\"type\":\"scattercarpet\",\"marker\":{\"colorbar\":{\"outlinewidth\":0,\"ticks\":\"\"}}}],\"carpet\":[{\"aaxis\":{\"endlinecolor\":\"#A2B1C6\",\"gridcolor\":\"#506784\",\"linecolor\":\"#506784\",\"minorgridcolor\":\"#506784\",\"startlinecolor\":\"#A2B1C6\"},\"baxis\":{\"endlinecolor\":\"#A2B1C6\",\"gridcolor\":\"#506784\",\"linecolor\":\"#506784\",\"minorgridcolor\":\"#506784\",\"startlinecolor\":\"#A2B1C6\"},\"type\":\"carpet\"}],\"table\":[{\"cells\":{\"fill\":{\"color\":\"#506784\"},\"line\":{\"color\":\"rgb(17,17,17)\"}},\"header\":{\"fill\":{\"color\":\"#2a3f5f\"},\"line\":{\"color\":\"rgb(17,17,17)\"}},\"type\":\"table\"}],\"barpolar\":[{\"marker\":{\"line\":{\"color\":\"rgb(17,17,17)\",\"width\":0.5},\"pattern\":{\"fillmode\":\"overlay\",\"size\":10,\"solidity\":0.2}},\"type\":\"barpolar\"}],\"pie\":[{\"automargin\":true,\"type\":\"pie\"}]},\"layout\":{\"autotypenumbers\":\"strict\",\"colorway\":[\"#636efa\",\"#EF553B\",\"#00cc96\",\"#ab63fa\",\"#FFA15A\",\"#19d3f3\",\"#FF6692\",\"#B6E880\",\"#FF97FF\",\"#FECB52\"],\"font\":{\"color\":\"#f2f5fa\"},\"hovermode\":\"closest\",\"hoverlabel\":{\"align\":\"left\"},\"paper_bgcolor\":\"rgb(17,17,17)\",\"plot_bgcolor\":\"rgb(17,17,17)\",\"polar\":{\"bgcolor\":\"rgb(17,17,17)\",\"angularaxis\":{\"gridcolor\":\"#506784\",\"linecolor\":\"#506784\",\"ticks\":\"\"},\"radialaxis\":{\"gridcolor\":\"#506784\",\"linecolor\":\"#506784\",\"ticks\":\"\"}},\"ternary\":{\"bgcolor\":\"rgb(17,17,17)\",\"aaxis\":{\"gridcolor\":\"#506784\",\"linecolor\":\"#506784\",\"ticks\":\"\"},\"baxis\":{\"gridcolor\":\"#506784\",\"linecolor\":\"#506784\",\"ticks\":\"\"},\"caxis\":{\"gridcolor\":\"#506784\",\"linecolor\":\"#506784\",\"ticks\":\"\"}},\"coloraxis\":{\"colorbar\":{\"outlinewidth\":0,\"ticks\":\"\"}},\"colorscale\":{\"sequential\":[[0.0,\"#0d0887\"],[0.1111111111111111,\"#46039f\"],[0.2222222222222222,\"#7201a8\"],[0.3333333333333333,\"#9c179e\"],[0.4444444444444444,\"#bd3786\"],[0.5555555555555556,\"#d8576b\"],[0.6666666666666666,\"#ed7953\"],[0.7777777777777778,\"#fb9f3a\"],[0.8888888888888888,\"#fdca26\"],[1.0,\"#f0f921\"]],\"sequentialminus\":[[0.0,\"#0d0887\"],[0.1111111111111111,\"#46039f\"],[0.2222222222222222,\"#7201a8\"],[0.3333333333333333,\"#9c179e\"],[0.4444444444444444,\"#bd3786\"],[0.5555555555555556,\"#d8576b\"],[0.6666666666666666,\"#ed7953\"],[0.7777777777777778,\"#fb9f3a\"],[0.8888888888888888,\"#fdca26\"],[1.0,\"#f0f921\"]],\"diverging\":[[0,\"#8e0152\"],[0.1,\"#c51b7d\"],[0.2,\"#de77ae\"],[0.3,\"#f1b6da\"],[0.4,\"#fde0ef\"],[0.5,\"#f7f7f7\"],[0.6,\"#e6f5d0\"],[0.7,\"#b8e186\"],[0.8,\"#7fbc41\"],[0.9,\"#4d9221\"],[1,\"#276419\"]]},\"xaxis\":{\"gridcolor\":\"#283442\",\"linecolor\":\"#506784\",\"ticks\":\"\",\"title\":{\"standoff\":15},\"zerolinecolor\":\"#283442\",\"automargin\":true,\"zerolinewidth\":2},\"yaxis\":{\"gridcolor\":\"#283442\",\"linecolor\":\"#506784\",\"ticks\":\"\",\"title\":{\"standoff\":15},\"zerolinecolor\":\"#283442\",\"automargin\":true,\"zerolinewidth\":2},\"scene\":{\"xaxis\":{\"backgroundcolor\":\"rgb(17,17,17)\",\"gridcolor\":\"#506784\",\"linecolor\":\"#506784\",\"showbackground\":true,\"ticks\":\"\",\"zerolinecolor\":\"#C8D4E3\",\"gridwidth\":2},\"yaxis\":{\"backgroundcolor\":\"rgb(17,17,17)\",\"gridcolor\":\"#506784\",\"linecolor\":\"#506784\",\"showbackground\":true,\"ticks\":\"\",\"zerolinecolor\":\"#C8D4E3\",\"gridwidth\":2},\"zaxis\":{\"backgroundcolor\":\"rgb(17,17,17)\",\"gridcolor\":\"#506784\",\"linecolor\":\"#506784\",\"showbackground\":true,\"ticks\":\"\",\"zerolinecolor\":\"#C8D4E3\",\"gridwidth\":2}},\"shapedefaults\":{\"line\":{\"color\":\"#f2f5fa\"}},\"annotationdefaults\":{\"arrowcolor\":\"#f2f5fa\",\"arrowhead\":0,\"arrowwidth\":1},\"geo\":{\"bgcolor\":\"rgb(17,17,17)\",\"landcolor\":\"rgb(17,17,17)\",\"subunitcolor\":\"#506784\",\"showland\":true,\"showlakes\":true,\"lakecolor\":\"rgb(17,17,17)\"},\"title\":{\"x\":0.05},\"updatemenudefaults\":{\"bgcolor\":\"#506784\",\"borderwidth\":0},\"sliderdefaults\":{\"bgcolor\":\"#C8D4E3\",\"borderwidth\":1,\"bordercolor\":\"rgb(17,17,17)\",\"tickwidth\":0},\"mapbox\":{\"style\":\"dark\"}}},\"legend\":{\"tracegroupgap\":0},\"title\":{\"text\":\"Overall Sales Method Distribution\",\"x\":0.5},\"piecolorway\":[\"#FF6B6B\",\"#4ECDC4\",\"#45B7D1\"]},                        {\"responsive\": true}                    ).then(function(){\n",
       "                            \n",
       "var gd = document.getElementById('7d7b9761-0308-4f03-8000-187b4bbef503');\n",
       "var x = new MutationObserver(function (mutations, observer) {{\n",
       "        var display = window.getComputedStyle(gd).display;\n",
       "        if (!display || display === 'none') {{\n",
       "            console.log([gd, 'removed!']);\n",
       "            Plotly.purge(gd);\n",
       "            observer.disconnect();\n",
       "        }}\n",
       "}});\n",
       "\n",
       "// Listen for the removal of the full notebook cells\n",
       "var notebookContainer = gd.closest('#notebook-container');\n",
       "if (notebookContainer) {{\n",
       "    x.observe(notebookContainer, {childList: true});\n",
       "}}\n",
       "\n",
       "// Listen for the clearing of the current output cell\n",
       "var outputEl = gd.closest('.output');\n",
       "if (outputEl) {{\n",
       "    x.observe(outputEl, {childList: true});\n",
       "}}\n",
       "\n",
       "                        })                };            </script>        </div>"
      ]
     },
     "metadata": {},
     "output_type": "display_data"
    }
   ],
   "execution_count": 404
  },
  {
   "cell_type": "markdown",
   "metadata": {},
   "source": [
    "* Positions labels inside pie slices with percentages and names.\n",
    "* Centers title for professional appearance and clarity.\n",
    "* Displays completed distribution analysis for baseline understanding."
   ]
  },
  {
   "cell_type": "markdown",
   "metadata": {},
   "source": [
    "## 3.2 Regional Performance Analysis"
   ]
  },
  {
   "cell_type": "code",
   "metadata": {
    "ExecuteTime": {
     "end_time": "2025-08-27T17:46:13.406796Z",
     "start_time": "2025-08-27T17:46:13.398878Z"
    }
   },
   "source": [
    "# Calculate revenue per customer by state and sales method\n",
    "regional_performance = sales_data.groupby(['state', 'sales_method']).agg({\n",
    "    'revenue': ['sum', 'mean'],\n",
    "    'customer_id': 'count',\n",
    "    'nb_sold': 'mean',\n",
    "    'nb_site_visits': 'mean'\n",
    "}).round(2)"
   ],
   "outputs": [],
   "execution_count": 405
  },
  {
   "cell_type": "markdown",
   "metadata": {},
   "source": [
    "* Analyzes comprehensive regional performance metrics by state and method.\n",
    "* Calculates both total and per-customer revenue figures.\n",
    "* Includes engagement metrics like items sold and site visits."
   ]
  },
  {
   "cell_type": "code",
   "metadata": {
    "ExecuteTime": {
     "end_time": "2025-08-27T17:46:13.466971Z",
     "start_time": "2025-08-27T17:46:13.460809Z"
    }
   },
   "source": [
    "regional_performance.columns = ['total_revenue', 'avg_revenue_per_customer', 'customer_count', 'avg_items_sold', 'avg_site_visits']\n",
    "regional_performance = regional_performance.reset_index()\n",
    "\n",
    "print(\"Top performing state-method combinations by average revenue:\")\n",
    "print(regional_performance.nlargest(10, 'avg_revenue_per_customer'))"
   ],
   "outputs": [
    {
     "name": "stdout",
     "output_type": "stream",
     "text": [
      "Top performing state-method combinations by average revenue:\n",
      "              state  sales_method  total_revenue  avg_revenue_per_customer  \\\n",
      "86    New Hampshire  Email + Call        1023.37                    204.67   \n",
      "56            Maine  Email + Call        1426.83                    203.83   \n",
      "116    Rhode Island  Email + Call        1426.42                    203.77   \n",
      "149         Wyoming  Email + Call        1181.38                    196.90   \n",
      "131            Utah  Email + Call        3910.54                    195.53   \n",
      "11         Arkansas  Email + Call        4262.73                    193.76   \n",
      "101    North Dakota  Email + Call        1161.89                    193.65   \n",
      "134         Vermont  Email + Call        1532.42                    191.55   \n",
      "32           Hawaii  Email + Call        2670.64                    190.76   \n",
      "119  South Carolina  Email + Call        8383.73                    190.54   \n",
      "\n",
      "     customer_count  avg_items_sold  avg_site_visits  \n",
      "86                5           13.40            27.60  \n",
      "56                7           13.57            28.29  \n",
      "116               7           13.43            28.43  \n",
      "149               6           13.17            27.17  \n",
      "131              20           12.90            27.00  \n",
      "11               22           13.00            26.68  \n",
      "101               6           12.83            28.67  \n",
      "134               8           13.00            25.50  \n",
      "32               14           13.00            28.29  \n",
      "119              44           12.70            27.11  \n"
     ]
    }
   ],
   "execution_count": 406
  },
  {
   "cell_type": "markdown",
   "metadata": {},
   "source": "Advanced visualization capabilities are integrated through Plotly's comprehensive geographic mapping libraries, enabling sophisticated interactive analysis of territorial performance patterns. These professional-grade tools support choropleth mapping, interactive data exploration, and dynamic visualization features essential for comprehensive geographic business intelligence. The enhanced visualization capabilities facilitate deeper stakeholder engagement with complex territorial data relationships."
  },
  {
   "cell_type": "code",
   "metadata": {
    "ExecuteTime": {
     "end_time": "2025-08-27T17:46:13.552600Z",
     "start_time": "2025-08-27T17:46:13.524128Z"
    }
   },
   "source": [
    "# Create scatter plot showing relationship between customer engagement and revenue by region\n",
    "fig = px.scatter(\n",
    "    regional_performance,\n",
    "    x='avg_site_visits',\n",
    "    y='avg_revenue_per_customer',\n",
    "    size='customer_count',\n",
    "    color='sales_method',\n",
    "    hover_data=['state'],\n",
    "    title=\"Customer Engagement vs Revenue by Sales Method and Region\",\n",
    "    labels={\n",
    "        'avg_site_visits': 'Average Site Visits',\n",
    "        'avg_revenue_per_customer': 'Average Revenue per Customer'\n",
    "    }\n",
    ")"
   ],
   "outputs": [],
   "execution_count": 407
  },
  {
   "cell_type": "markdown",
   "metadata": {},
   "source": "Interactive visualization environment configuration ensures optimal rendering of complex geographic analyses within the analytical workspace. This technical preparation enables seamless integration of advanced mapping capabilities with the broader analytical framework. The proper configuration establishes the foundation for professional-grade geographic visualizations that enhance stakeholder understanding of territorial performance patterns and strategic opportunities."
  },
  {
   "cell_type": "code",
   "metadata": {
    "ExecuteTime": {
     "end_time": "2025-08-27T17:46:13.612289Z",
     "start_time": "2025-08-27T17:46:13.588779Z"
    }
   },
   "source": [
    "fig.update_layout(title_x=0.5)\n",
    "fig.show()"
   ],
   "outputs": [
    {
     "data": {
      "application/vnd.plotly.v1+json": {
       "data": [
        {
         "customdata": [
          [
           "Alabama"
          ],
          [
           "Alaska"
          ],
          [
           "Arizona"
          ],
          [
           "Arkansas"
          ],
          [
           "California"
          ],
          [
           "Colorado"
          ],
          [
           "Connecticut"
          ],
          [
           "Delaware"
          ],
          [
           "Florida"
          ],
          [
           "Georgia"
          ],
          [
           "Hawaii"
          ],
          [
           "Idaho"
          ],
          [
           "Illinois"
          ],
          [
           "Indiana"
          ],
          [
           "Iowa"
          ],
          [
           "Kansas"
          ],
          [
           "Kentucky"
          ],
          [
           "Louisiana"
          ],
          [
           "Maine"
          ],
          [
           "Maryland"
          ],
          [
           "Massachusetts"
          ],
          [
           "Michigan"
          ],
          [
           "Minnesota"
          ],
          [
           "Mississippi"
          ],
          [
           "Missouri"
          ],
          [
           "Montana"
          ],
          [
           "Nebraska"
          ],
          [
           "Nevada"
          ],
          [
           "New Hampshire"
          ],
          [
           "New Jersey"
          ],
          [
           "New Mexico"
          ],
          [
           "New York"
          ],
          [
           "North Carolina"
          ],
          [
           "North Dakota"
          ],
          [
           "Ohio"
          ],
          [
           "Oklahoma"
          ],
          [
           "Oregon"
          ],
          [
           "Pennsylvania"
          ],
          [
           "Rhode Island"
          ],
          [
           "South Carolina"
          ],
          [
           "South Dakota"
          ],
          [
           "Tennessee"
          ],
          [
           "Texas"
          ],
          [
           "Utah"
          ],
          [
           "Vermont"
          ],
          [
           "Virginia"
          ],
          [
           "Washington"
          ],
          [
           "West Virginia"
          ],
          [
           "Wisconsin"
          ],
          [
           "Wyoming"
          ]
         ],
         "hovertemplate": "sales_method=Call<br>Average Site Visits=%{x}<br>Average Revenue per Customer=%{y}<br>customer_count=%{marker.size}<br>state=%{customdata[0]}<extra></extra>",
         "legendgroup": "Call",
         "marker": {
          "color": "#636efa",
          "size": {
           "dtype": "i2",
           "bdata": "PwANAHUAMwCCAkgAPAAJACkBmQAYAA8A0gBsADUALgBLAEoAGgBZAF8AlgBaACcAYgAOAB8AGwARAKQAGABRAaYABwDKAEEASwC8ABEAQgALAIAAeQEmAAkAcABoABcATwAMAA=="
          },
          "sizemode": "area",
          "sizeref": 2.3025,
          "symbol": "circle"
         },
         "mode": "markers",
         "name": "Call",
         "orientation": "v",
         "showlegend": true,
         "x": {
          "dtype": "f8",
          "bdata": "w/UoXI+COED2KFyPwnU4QI/C9ShczzhAzczMzMyMOEC4HoXrUXg4QBSuR+F61DhASOF6FK6HN0C4HoXrUTg0QHE9CtejsDhAFK5H4XpUOEAAAAAAAMA4QIXrUbgeRTlASOF6FK4HOECkcD0K1+M4QM3MzMzMTDlAzczMzMxMOEAAAAAAAAA4QBSuR+F6FDhAZmZmZmamOEApXI/C9ag4QBSuR+F6VDhAZmZmZmZmOEApXI/C9ag4QM3MzMzMDDhAZmZmZmYmOECuR+F6FG44QOxRuB6FazhACtejcD0KOECuR+F6FC44QMP1KFyPQjhAAAAAAAAAOEDD9Shcj4I4QHE9Ctej8DdACtejcD1KN0Bcj8L1KFw4QIXrUbgeBTlAH4XrUbgeOEAfhetRuF44QHE9Ctej8DhAFK5H4XqUOEDXo3A9Chc5QOF6FK5HYThA9ihcj8I1OEBSuB6F69E4QBSuR+F6VDZA7FG4HoXrOEDXo3A9Ctc4QAAAAAAAADhAexSuR+G6OEAAAAAAAEA5QA=="
         },
         "xaxis": "x",
         "y": {
          "dtype": "f8",
          "bdata": "exSuR+E6R0CkcD0K12NIQM3MzMzMLEhAexSuR+FaR0BSuB6F6/FHQHsUrkfhWkhA4XoUrkchR0DD9Shcj+JFQB+F61G4XkhACtejcD1qR0AUrkfhenRHQHsUrkfhukdAMzMzMzNTR0AzMzMzMxNIQClcj8L1qEhA9ihcj8J1R0CamZmZmZlHQMP1KFyP4kdArkfhehQOSEAK16NwPYpIQFyPwvUofEdAPQrXo3B9R0D2KFyPwpVHQMP1KFyPgkdArkfhehRuR0AUrkfhehRHQBSuR+F61EdAMzMzMzOzR0C4HoXrUVhIQI/C9ShcL0dACtejcD3KSEBcj8L1KNxHQClcj8L1aEdAw/UoXI9CSUCkcD0K14NHQJqZmZmZOUhA4XoUrkfhR0DD9Shcj4JHQClcj8L1yEZAUrgehesxSEA9CtejcL1JQAAAAAAAgEdAUrgehevRR0CF61G4HqVJQK5H4XoUTkVA9ihcj8L1R0Bcj8L1KHxIQAAAAAAAQEdA9ihcj8LVR0DD9Shcj6JIQA=="
         },
         "yaxis": "y",
         "type": "scatter"
        },
        {
         "customdata": [
          [
           "Alabama"
          ],
          [
           "Alaska"
          ],
          [
           "Arizona"
          ],
          [
           "Arkansas"
          ],
          [
           "California"
          ],
          [
           "Colorado"
          ],
          [
           "Connecticut"
          ],
          [
           "Delaware"
          ],
          [
           "Florida"
          ],
          [
           "Georgia"
          ],
          [
           "Hawaii"
          ],
          [
           "Idaho"
          ],
          [
           "Illinois"
          ],
          [
           "Indiana"
          ],
          [
           "Iowa"
          ],
          [
           "Kansas"
          ],
          [
           "Kentucky"
          ],
          [
           "Louisiana"
          ],
          [
           "Maine"
          ],
          [
           "Maryland"
          ],
          [
           "Massachusetts"
          ],
          [
           "Michigan"
          ],
          [
           "Minnesota"
          ],
          [
           "Mississippi"
          ],
          [
           "Missouri"
          ],
          [
           "Montana"
          ],
          [
           "Nebraska"
          ],
          [
           "Nevada"
          ],
          [
           "New Hampshire"
          ],
          [
           "New Jersey"
          ],
          [
           "New Mexico"
          ],
          [
           "New York"
          ],
          [
           "North Carolina"
          ],
          [
           "North Dakota"
          ],
          [
           "Ohio"
          ],
          [
           "Oklahoma"
          ],
          [
           "Oregon"
          ],
          [
           "Pennsylvania"
          ],
          [
           "Rhode Island"
          ],
          [
           "South Carolina"
          ],
          [
           "South Dakota"
          ],
          [
           "Tennessee"
          ],
          [
           "Texas"
          ],
          [
           "Utah"
          ],
          [
           "Vermont"
          ],
          [
           "Virginia"
          ],
          [
           "Washington"
          ],
          [
           "West Virginia"
          ],
          [
           "Wisconsin"
          ],
          [
           "Wyoming"
          ]
         ],
         "hovertemplate": "sales_method=Email<br>Average Site Visits=%{x}<br>Average Revenue per Customer=%{y}<br>customer_count=%{marker.size}<br>state=%{customdata[0]}<extra></extra>",
         "legendgroup": "Email",
         "marker": {
          "color": "#EF553B",
          "size": {
           "dtype": "i2",
           "bdata": "cAAVAJMAOwCZA3oATgARAMQBAQEiACIAOQG9AFoASQBiAHMAHgCDAJMAAwFsAEYApQAbACcAOgAfAMYALQDbAeAAEQANAWEAawA3ARMAcgAUAJ8AVgJCAAsAvwCeAC4AgQAPAA=="
          },
          "sizemode": "area",
          "sizeref": 2.3025,
          "symbol": "circle"
         },
         "mode": "markers",
         "name": "Email",
         "orientation": "v",
         "showlegend": true,
         "x": {
          "dtype": "f8",
          "bdata": "9ihcj8I1OECF61G4HoU5QIXrUbgexThAMzMzMzPzOEBxPQrXo7A4QM3MzMzMTDlAmpmZmZkZOUC4HoXrUXg5QJqZmZmZGTlApHA9CtejOEDD9Shcj8I3QHE9CtejcDhAw/UoXI8COUBSuB6F69E4QClcj8L1qDhA4XoUrkehOEC4HoXrUTg4QI/C9ShcDzlAFK5H4XrUOUAfhetRuF44QNejcD0KlzhArkfhehSuOEBSuB6F65E4QPYoXI/CtThAhetRuB6FOEDD9Shcj0I4QOF6FK5HYTlAKVyPwvXoOEBxPQrXozA5QM3MzMzMjDhAMzMzMzMzOUCkcD0K16M4QLgehetReDhAZmZmZmamN0CkcD0K1+M4QLgehetRuDhArkfhehSuOECuR+F6FO44QArXo3A9yjhAZmZmZmbmOEAzMzMzM/M4QHsUrkfhejhAFK5H4XrUOEAzMzMzMzM5QFK4HoXr0ThAhetRuB7FOEAUrkfhepQ4QGZmZmZmpjlAMzMzMzNzOECF61G4HkU3QA=="
         },
         "xaxis": "x",
         "y": {
          "dtype": "f8",
          "bdata": "ZmZmZmY2WEBSuB6F61FZQJqZmZmZOVhAmpmZmZmpV0BxPQrXo1BYQClcj8L1OFhAKVyPwvVoWEDNzMzMzJxYQGZmZmZmVlhAFK5H4XpkWEBmZmZmZkZYQGZmZmZmJlhApHA9CtcjWEBI4XoUridYQArXo3A96ldA4XoUrkeRWEB7FK5H4fpXQPYoXI/CVVhA16NwPQoHWEBxPQrXoyBYQD0K16Nw3VdAUrgehetRWEDhehSuRwFYQM3MzMzMDFhAuB6F61F4WEBI4XoUridXQMP1KFyPclhAXI/C9SisWEBxPQrXo2BYQKRwPQrXY1hA9ihcj8JlWEBI4XoUrmdYQEjhehSuJ1hApHA9CtdjWEDXo3A9CodYQHE9CtejwFhApHA9CtfDWEDD9ShcjzJYQD0K16NwPVhArkfhehR+WEDhehSuRxFYQGZmZmZmRlhAhetRuB5FWEDsUbgehYtYQMP1KFyPEldA16NwPQp3WECamZmZmflXQNejcD0KF1lAPQrXo3CtV0D2KFyPwkVXQA=="
         },
         "yaxis": "y",
         "type": "scatter"
        },
        {
         "customdata": [
          [
           "Alabama"
          ],
          [
           "Alaska"
          ],
          [
           "Arizona"
          ],
          [
           "Arkansas"
          ],
          [
           "California"
          ],
          [
           "Colorado"
          ],
          [
           "Connecticut"
          ],
          [
           "Delaware"
          ],
          [
           "Florida"
          ],
          [
           "Georgia"
          ],
          [
           "Hawaii"
          ],
          [
           "Idaho"
          ],
          [
           "Illinois"
          ],
          [
           "Indiana"
          ],
          [
           "Iowa"
          ],
          [
           "Kansas"
          ],
          [
           "Kentucky"
          ],
          [
           "Louisiana"
          ],
          [
           "Maine"
          ],
          [
           "Maryland"
          ],
          [
           "Massachusetts"
          ],
          [
           "Michigan"
          ],
          [
           "Minnesota"
          ],
          [
           "Mississippi"
          ],
          [
           "Missouri"
          ],
          [
           "Montana"
          ],
          [
           "Nebraska"
          ],
          [
           "Nevada"
          ],
          [
           "New Hampshire"
          ],
          [
           "New Jersey"
          ],
          [
           "New Mexico"
          ],
          [
           "New York"
          ],
          [
           "North Carolina"
          ],
          [
           "North Dakota"
          ],
          [
           "Ohio"
          ],
          [
           "Oklahoma"
          ],
          [
           "Oregon"
          ],
          [
           "Pennsylvania"
          ],
          [
           "Rhode Island"
          ],
          [
           "South Carolina"
          ],
          [
           "South Dakota"
          ],
          [
           "Tennessee"
          ],
          [
           "Texas"
          ],
          [
           "Utah"
          ],
          [
           "Vermont"
          ],
          [
           "Virginia"
          ],
          [
           "Washington"
          ],
          [
           "West Virginia"
          ],
          [
           "Wisconsin"
          ],
          [
           "Wyoming"
          ]
         ],
         "hovertemplate": "sales_method=Email + Call<br>Average Site Visits=%{x}<br>Average Revenue per Customer=%{y}<br>customer_count=%{marker.size}<br>state=%{customdata[0]}<extra></extra>",
         "legendgroup": "Email + Call",
         "marker": {
          "color": "#00cc96",
          "size": {
           "dtype": "i2",
           "bdata": "JwAGADkAFgA1ASQAKQAIAJsATwAOAA0AXgA5ABYAFwAoACkABwArADQAWQAvAB4AMAAEABUAEQAFAEgADwCZAEUABgBfACIALwBjAAcALAAKADUA1AAUAAgARQBJABAALQAGAA=="
          },
          "sizemode": "area",
          "sizeref": 2.3025,
          "symbol": "circle"
         },
         "mode": "markers",
         "name": "Email + Call",
         "orientation": "v",
         "showlegend": true,
         "x": {
          "dtype": "f8",
          "bdata": "7FG4HoXrO0DsUbgehSs6QM3MzMzMTDpArkfhehSuOkBcj8L1KJw6QAAAAAAAwDpAw/UoXI/COkAAAAAAAAA8QDMzMzMzszpAuB6F61F4O0AK16NwPUo8QHsUrkfhOjtAzczMzMzMOkBSuB6F69E6QFK4HoXrUTpASOF6FK7HOkAfhetRuJ46QFK4HoXrETpACtejcD1KPED2KFyPwjU7QI/C9ShcTzpAPQrXo3B9OkCuR+F6FK47QJqZmZmZmTpAmpmZmZmZOkAAAAAAAMA6QK5H4XoUbjlAH4XrUbgeOkCamZmZmZk7QFK4HoXrUTtA4XoUrkchO0CkcD0K1yM7QHE9Ctej8DpA7FG4HoWrPEBI4XoUroc6QClcj8L16DpACtejcD0KO0AK16NwPUo6QK5H4XoUbjxAXI/C9SgcO0BmZmZmZuY5QArXo3A9yjpA7FG4HoWrOkAAAAAAAAA7QAAAAAAAgDlArkfhehSuOkBxPQrXo3A6QHE9CtejsDpAcT0K16NwOkDsUbgehSs7QA=="
         },
         "xaxis": "x",
         "y": {
          "dtype": "f8",
          "bdata": "zczMzMxsZ0CuR+F6FN5mQD0K16NwhWZAuB6F61E4aEDsUbgeheNmQLgehetRWGZA7FG4HoV7ZkAUrkfheuxmQClcj8L12GZAPQrXo3BFZ0C4HoXrUdhnQD0K16NwTWZAMzMzMzNbZ0AzMzMzM7tmQPYoXI/CnWdASOF6FK4vZkBI4XoUrs9mQLgehetRAGdAw/UoXI96aUBxPQrXoxBnQEjhehSub2ZAzczMzMyEZkAfhetRuIZnQGZmZmZmtmZA4XoUrkdRZkCkcD0K18NjQAAAAAAAYGZASOF6FK7XZkA9CtejcJVpQHE9Ctej+GZACtejcD0KZ0BSuB6F6xFnQFyPwvUo5GZAzczMzMw0aEAzMzMzMwNnQFyPwvUotGZApHA9CtfbZkCuR+F6FBZnQHE9CtejeGlA4XoUrkfRZ0CPwvUoXLdmQOF6FK5HCWdAZmZmZmbOZkApXI/C9XBoQJqZmZmZ8WdAUrgehevBZkD2KFyPwhVnQJqZmZmZyWZA7FG4HoWrZkDNzMzMzJxoQA=="
         },
         "yaxis": "y",
         "type": "scatter"
        }
       ],
       "layout": {
        "template": {
         "data": {
          "histogram2dcontour": [
           {
            "type": "histogram2dcontour",
            "colorbar": {
             "outlinewidth": 0,
             "ticks": ""
            },
            "colorscale": [
             [
              0,
              "#0d0887"
             ],
             [
              0.1111111111111111,
              "#46039f"
             ],
             [
              0.2222222222222222,
              "#7201a8"
             ],
             [
              0.3333333333333333,
              "#9c179e"
             ],
             [
              0.4444444444444444,
              "#bd3786"
             ],
             [
              0.5555555555555556,
              "#d8576b"
             ],
             [
              0.6666666666666666,
              "#ed7953"
             ],
             [
              0.7777777777777778,
              "#fb9f3a"
             ],
             [
              0.8888888888888888,
              "#fdca26"
             ],
             [
              1,
              "#f0f921"
             ]
            ]
           }
          ],
          "choropleth": [
           {
            "type": "choropleth",
            "colorbar": {
             "outlinewidth": 0,
             "ticks": ""
            }
           }
          ],
          "histogram2d": [
           {
            "type": "histogram2d",
            "colorbar": {
             "outlinewidth": 0,
             "ticks": ""
            },
            "colorscale": [
             [
              0,
              "#0d0887"
             ],
             [
              0.1111111111111111,
              "#46039f"
             ],
             [
              0.2222222222222222,
              "#7201a8"
             ],
             [
              0.3333333333333333,
              "#9c179e"
             ],
             [
              0.4444444444444444,
              "#bd3786"
             ],
             [
              0.5555555555555556,
              "#d8576b"
             ],
             [
              0.6666666666666666,
              "#ed7953"
             ],
             [
              0.7777777777777778,
              "#fb9f3a"
             ],
             [
              0.8888888888888888,
              "#fdca26"
             ],
             [
              1,
              "#f0f921"
             ]
            ]
           }
          ],
          "heatmap": [
           {
            "type": "heatmap",
            "colorbar": {
             "outlinewidth": 0,
             "ticks": ""
            },
            "colorscale": [
             [
              0,
              "#0d0887"
             ],
             [
              0.1111111111111111,
              "#46039f"
             ],
             [
              0.2222222222222222,
              "#7201a8"
             ],
             [
              0.3333333333333333,
              "#9c179e"
             ],
             [
              0.4444444444444444,
              "#bd3786"
             ],
             [
              0.5555555555555556,
              "#d8576b"
             ],
             [
              0.6666666666666666,
              "#ed7953"
             ],
             [
              0.7777777777777778,
              "#fb9f3a"
             ],
             [
              0.8888888888888888,
              "#fdca26"
             ],
             [
              1,
              "#f0f921"
             ]
            ]
           }
          ],
          "contourcarpet": [
           {
            "type": "contourcarpet",
            "colorbar": {
             "outlinewidth": 0,
             "ticks": ""
            }
           }
          ],
          "contour": [
           {
            "type": "contour",
            "colorbar": {
             "outlinewidth": 0,
             "ticks": ""
            },
            "colorscale": [
             [
              0,
              "#0d0887"
             ],
             [
              0.1111111111111111,
              "#46039f"
             ],
             [
              0.2222222222222222,
              "#7201a8"
             ],
             [
              0.3333333333333333,
              "#9c179e"
             ],
             [
              0.4444444444444444,
              "#bd3786"
             ],
             [
              0.5555555555555556,
              "#d8576b"
             ],
             [
              0.6666666666666666,
              "#ed7953"
             ],
             [
              0.7777777777777778,
              "#fb9f3a"
             ],
             [
              0.8888888888888888,
              "#fdca26"
             ],
             [
              1,
              "#f0f921"
             ]
            ]
           }
          ],
          "surface": [
           {
            "type": "surface",
            "colorbar": {
             "outlinewidth": 0,
             "ticks": ""
            },
            "colorscale": [
             [
              0,
              "#0d0887"
             ],
             [
              0.1111111111111111,
              "#46039f"
             ],
             [
              0.2222222222222222,
              "#7201a8"
             ],
             [
              0.3333333333333333,
              "#9c179e"
             ],
             [
              0.4444444444444444,
              "#bd3786"
             ],
             [
              0.5555555555555556,
              "#d8576b"
             ],
             [
              0.6666666666666666,
              "#ed7953"
             ],
             [
              0.7777777777777778,
              "#fb9f3a"
             ],
             [
              0.8888888888888888,
              "#fdca26"
             ],
             [
              1,
              "#f0f921"
             ]
            ]
           }
          ],
          "mesh3d": [
           {
            "type": "mesh3d",
            "colorbar": {
             "outlinewidth": 0,
             "ticks": ""
            }
           }
          ],
          "scatter": [
           {
            "marker": {
             "line": {
              "color": "#283442"
             }
            },
            "type": "scatter"
           }
          ],
          "parcoords": [
           {
            "type": "parcoords",
            "line": {
             "colorbar": {
              "outlinewidth": 0,
              "ticks": ""
             }
            }
           }
          ],
          "scatterpolargl": [
           {
            "type": "scatterpolargl",
            "marker": {
             "colorbar": {
              "outlinewidth": 0,
              "ticks": ""
             }
            }
           }
          ],
          "bar": [
           {
            "error_x": {
             "color": "#f2f5fa"
            },
            "error_y": {
             "color": "#f2f5fa"
            },
            "marker": {
             "line": {
              "color": "rgb(17,17,17)",
              "width": 0.5
             },
             "pattern": {
              "fillmode": "overlay",
              "size": 10,
              "solidity": 0.2
             }
            },
            "type": "bar"
           }
          ],
          "scattergeo": [
           {
            "type": "scattergeo",
            "marker": {
             "colorbar": {
              "outlinewidth": 0,
              "ticks": ""
             }
            }
           }
          ],
          "scatterpolar": [
           {
            "type": "scatterpolar",
            "marker": {
             "colorbar": {
              "outlinewidth": 0,
              "ticks": ""
             }
            }
           }
          ],
          "histogram": [
           {
            "marker": {
             "pattern": {
              "fillmode": "overlay",
              "size": 10,
              "solidity": 0.2
             }
            },
            "type": "histogram"
           }
          ],
          "scattergl": [
           {
            "marker": {
             "line": {
              "color": "#283442"
             }
            },
            "type": "scattergl"
           }
          ],
          "scatter3d": [
           {
            "type": "scatter3d",
            "line": {
             "colorbar": {
              "outlinewidth": 0,
              "ticks": ""
             }
            },
            "marker": {
             "colorbar": {
              "outlinewidth": 0,
              "ticks": ""
             }
            }
           }
          ],
          "scattermap": [
           {
            "type": "scattermap",
            "marker": {
             "colorbar": {
              "outlinewidth": 0,
              "ticks": ""
             }
            }
           }
          ],
          "scattermapbox": [
           {
            "type": "scattermapbox",
            "marker": {
             "colorbar": {
              "outlinewidth": 0,
              "ticks": ""
             }
            }
           }
          ],
          "scatterternary": [
           {
            "type": "scatterternary",
            "marker": {
             "colorbar": {
              "outlinewidth": 0,
              "ticks": ""
             }
            }
           }
          ],
          "scattercarpet": [
           {
            "type": "scattercarpet",
            "marker": {
             "colorbar": {
              "outlinewidth": 0,
              "ticks": ""
             }
            }
           }
          ],
          "carpet": [
           {
            "aaxis": {
             "endlinecolor": "#A2B1C6",
             "gridcolor": "#506784",
             "linecolor": "#506784",
             "minorgridcolor": "#506784",
             "startlinecolor": "#A2B1C6"
            },
            "baxis": {
             "endlinecolor": "#A2B1C6",
             "gridcolor": "#506784",
             "linecolor": "#506784",
             "minorgridcolor": "#506784",
             "startlinecolor": "#A2B1C6"
            },
            "type": "carpet"
           }
          ],
          "table": [
           {
            "cells": {
             "fill": {
              "color": "#506784"
             },
             "line": {
              "color": "rgb(17,17,17)"
             }
            },
            "header": {
             "fill": {
              "color": "#2a3f5f"
             },
             "line": {
              "color": "rgb(17,17,17)"
             }
            },
            "type": "table"
           }
          ],
          "barpolar": [
           {
            "marker": {
             "line": {
              "color": "rgb(17,17,17)",
              "width": 0.5
             },
             "pattern": {
              "fillmode": "overlay",
              "size": 10,
              "solidity": 0.2
             }
            },
            "type": "barpolar"
           }
          ],
          "pie": [
           {
            "automargin": true,
            "type": "pie"
           }
          ]
         },
         "layout": {
          "autotypenumbers": "strict",
          "colorway": [
           "#636efa",
           "#EF553B",
           "#00cc96",
           "#ab63fa",
           "#FFA15A",
           "#19d3f3",
           "#FF6692",
           "#B6E880",
           "#FF97FF",
           "#FECB52"
          ],
          "font": {
           "color": "#f2f5fa"
          },
          "hovermode": "closest",
          "hoverlabel": {
           "align": "left"
          },
          "paper_bgcolor": "rgb(17,17,17)",
          "plot_bgcolor": "rgb(17,17,17)",
          "polar": {
           "bgcolor": "rgb(17,17,17)",
           "angularaxis": {
            "gridcolor": "#506784",
            "linecolor": "#506784",
            "ticks": ""
           },
           "radialaxis": {
            "gridcolor": "#506784",
            "linecolor": "#506784",
            "ticks": ""
           }
          },
          "ternary": {
           "bgcolor": "rgb(17,17,17)",
           "aaxis": {
            "gridcolor": "#506784",
            "linecolor": "#506784",
            "ticks": ""
           },
           "baxis": {
            "gridcolor": "#506784",
            "linecolor": "#506784",
            "ticks": ""
           },
           "caxis": {
            "gridcolor": "#506784",
            "linecolor": "#506784",
            "ticks": ""
           }
          },
          "coloraxis": {
           "colorbar": {
            "outlinewidth": 0,
            "ticks": ""
           }
          },
          "colorscale": {
           "sequential": [
            [
             0,
             "#0d0887"
            ],
            [
             0.1111111111111111,
             "#46039f"
            ],
            [
             0.2222222222222222,
             "#7201a8"
            ],
            [
             0.3333333333333333,
             "#9c179e"
            ],
            [
             0.4444444444444444,
             "#bd3786"
            ],
            [
             0.5555555555555556,
             "#d8576b"
            ],
            [
             0.6666666666666666,
             "#ed7953"
            ],
            [
             0.7777777777777778,
             "#fb9f3a"
            ],
            [
             0.8888888888888888,
             "#fdca26"
            ],
            [
             1,
             "#f0f921"
            ]
           ],
           "sequentialminus": [
            [
             0,
             "#0d0887"
            ],
            [
             0.1111111111111111,
             "#46039f"
            ],
            [
             0.2222222222222222,
             "#7201a8"
            ],
            [
             0.3333333333333333,
             "#9c179e"
            ],
            [
             0.4444444444444444,
             "#bd3786"
            ],
            [
             0.5555555555555556,
             "#d8576b"
            ],
            [
             0.6666666666666666,
             "#ed7953"
            ],
            [
             0.7777777777777778,
             "#fb9f3a"
            ],
            [
             0.8888888888888888,
             "#fdca26"
            ],
            [
             1,
             "#f0f921"
            ]
           ],
           "diverging": [
            [
             0,
             "#8e0152"
            ],
            [
             0.1,
             "#c51b7d"
            ],
            [
             0.2,
             "#de77ae"
            ],
            [
             0.3,
             "#f1b6da"
            ],
            [
             0.4,
             "#fde0ef"
            ],
            [
             0.5,
             "#f7f7f7"
            ],
            [
             0.6,
             "#e6f5d0"
            ],
            [
             0.7,
             "#b8e186"
            ],
            [
             0.8,
             "#7fbc41"
            ],
            [
             0.9,
             "#4d9221"
            ],
            [
             1,
             "#276419"
            ]
           ]
          },
          "xaxis": {
           "gridcolor": "#283442",
           "linecolor": "#506784",
           "ticks": "",
           "title": {
            "standoff": 15
           },
           "zerolinecolor": "#283442",
           "automargin": true,
           "zerolinewidth": 2
          },
          "yaxis": {
           "gridcolor": "#283442",
           "linecolor": "#506784",
           "ticks": "",
           "title": {
            "standoff": 15
           },
           "zerolinecolor": "#283442",
           "automargin": true,
           "zerolinewidth": 2
          },
          "scene": {
           "xaxis": {
            "backgroundcolor": "rgb(17,17,17)",
            "gridcolor": "#506784",
            "linecolor": "#506784",
            "showbackground": true,
            "ticks": "",
            "zerolinecolor": "#C8D4E3",
            "gridwidth": 2
           },
           "yaxis": {
            "backgroundcolor": "rgb(17,17,17)",
            "gridcolor": "#506784",
            "linecolor": "#506784",
            "showbackground": true,
            "ticks": "",
            "zerolinecolor": "#C8D4E3",
            "gridwidth": 2
           },
           "zaxis": {
            "backgroundcolor": "rgb(17,17,17)",
            "gridcolor": "#506784",
            "linecolor": "#506784",
            "showbackground": true,
            "ticks": "",
            "zerolinecolor": "#C8D4E3",
            "gridwidth": 2
           }
          },
          "shapedefaults": {
           "line": {
            "color": "#f2f5fa"
           }
          },
          "annotationdefaults": {
           "arrowcolor": "#f2f5fa",
           "arrowhead": 0,
           "arrowwidth": 1
          },
          "geo": {
           "bgcolor": "rgb(17,17,17)",
           "landcolor": "rgb(17,17,17)",
           "subunitcolor": "#506784",
           "showland": true,
           "showlakes": true,
           "lakecolor": "rgb(17,17,17)"
          },
          "title": {
           "x": 0.05
          },
          "updatemenudefaults": {
           "bgcolor": "#506784",
           "borderwidth": 0
          },
          "sliderdefaults": {
           "bgcolor": "#C8D4E3",
           "borderwidth": 1,
           "bordercolor": "rgb(17,17,17)",
           "tickwidth": 0
          },
          "mapbox": {
           "style": "dark"
          }
         }
        },
        "xaxis": {
         "anchor": "y",
         "domain": [
          0,
          1
         ],
         "title": {
          "text": "Average Site Visits"
         }
        },
        "yaxis": {
         "anchor": "x",
         "domain": [
          0,
          1
         ],
         "title": {
          "text": "Average Revenue per Customer"
         }
        },
        "legend": {
         "title": {
          "text": "sales_method"
         },
         "tracegroupgap": 0,
         "itemsizing": "constant"
        },
        "title": {
         "text": "Customer Engagement vs Revenue by Sales Method and Region",
         "x": 0.5
        }
       },
       "config": {
        "plotlyServerURL": "https://plot.ly"
       }
      },
      "text/html": [
       "<div>            <script src=\"https://cdnjs.cloudflare.com/ajax/libs/mathjax/2.7.5/MathJax.js?config=TeX-AMS-MML_SVG\"></script><script type=\"text/javascript\">if (window.MathJax && window.MathJax.Hub && window.MathJax.Hub.Config) {window.MathJax.Hub.Config({SVG: {font: \"STIX-Web\"}});}</script>                <script type=\"text/javascript\">window.PlotlyConfig = {MathJaxConfig: 'local'};</script>\n",
       "        <script charset=\"utf-8\" src=\"https://cdn.plot.ly/plotly-3.1.0.min.js\" integrity=\"sha256-Ei4740bWZhaUTQuD6q9yQlgVCMPBz6CZWhevDYPv93A=\" crossorigin=\"anonymous\"></script>                <div id=\"10dd7c7d-1a8d-466c-9e04-017ad52773ae\" class=\"plotly-graph-div\" style=\"height:525px; width:100%;\"></div>            <script type=\"text/javascript\">                window.PLOTLYENV=window.PLOTLYENV || {};                                if (document.getElementById(\"10dd7c7d-1a8d-466c-9e04-017ad52773ae\")) {                    Plotly.newPlot(                        \"10dd7c7d-1a8d-466c-9e04-017ad52773ae\",                        [{\"customdata\":[[\"Alabama\"],[\"Alaska\"],[\"Arizona\"],[\"Arkansas\"],[\"California\"],[\"Colorado\"],[\"Connecticut\"],[\"Delaware\"],[\"Florida\"],[\"Georgia\"],[\"Hawaii\"],[\"Idaho\"],[\"Illinois\"],[\"Indiana\"],[\"Iowa\"],[\"Kansas\"],[\"Kentucky\"],[\"Louisiana\"],[\"Maine\"],[\"Maryland\"],[\"Massachusetts\"],[\"Michigan\"],[\"Minnesota\"],[\"Mississippi\"],[\"Missouri\"],[\"Montana\"],[\"Nebraska\"],[\"Nevada\"],[\"New Hampshire\"],[\"New Jersey\"],[\"New Mexico\"],[\"New York\"],[\"North Carolina\"],[\"North Dakota\"],[\"Ohio\"],[\"Oklahoma\"],[\"Oregon\"],[\"Pennsylvania\"],[\"Rhode Island\"],[\"South Carolina\"],[\"South Dakota\"],[\"Tennessee\"],[\"Texas\"],[\"Utah\"],[\"Vermont\"],[\"Virginia\"],[\"Washington\"],[\"West Virginia\"],[\"Wisconsin\"],[\"Wyoming\"]],\"hovertemplate\":\"sales_method=Call\\u003cbr\\u003eAverage Site Visits=%{x}\\u003cbr\\u003eAverage Revenue per Customer=%{y}\\u003cbr\\u003ecustomer_count=%{marker.size}\\u003cbr\\u003estate=%{customdata[0]}\\u003cextra\\u003e\\u003c\\u002fextra\\u003e\",\"legendgroup\":\"Call\",\"marker\":{\"color\":\"#636efa\",\"size\":{\"dtype\":\"i2\",\"bdata\":\"PwANAHUAMwCCAkgAPAAJACkBmQAYAA8A0gBsADUALgBLAEoAGgBZAF8AlgBaACcAYgAOAB8AGwARAKQAGABRAaYABwDKAEEASwC8ABEAQgALAIAAeQEmAAkAcABoABcATwAMAA==\"},\"sizemode\":\"area\",\"sizeref\":2.3025,\"symbol\":\"circle\"},\"mode\":\"markers\",\"name\":\"Call\",\"orientation\":\"v\",\"showlegend\":true,\"x\":{\"dtype\":\"f8\",\"bdata\":\"w\\u002fUoXI+COED2KFyPwnU4QI\\u002fC9ShczzhAzczMzMyMOEC4HoXrUXg4QBSuR+F61DhASOF6FK6HN0C4HoXrUTg0QHE9CtejsDhAFK5H4XpUOEAAAAAAAMA4QIXrUbgeRTlASOF6FK4HOECkcD0K1+M4QM3MzMzMTDlAzczMzMxMOEAAAAAAAAA4QBSuR+F6FDhAZmZmZmamOEApXI\\u002fC9ag4QBSuR+F6VDhAZmZmZmZmOEApXI\\u002fC9ag4QM3MzMzMDDhAZmZmZmYmOECuR+F6FG44QOxRuB6FazhACtejcD0KOECuR+F6FC44QMP1KFyPQjhAAAAAAAAAOEDD9Shcj4I4QHE9Ctej8DdACtejcD1KN0Bcj8L1KFw4QIXrUbgeBTlAH4XrUbgeOEAfhetRuF44QHE9Ctej8DhAFK5H4XqUOEDXo3A9Chc5QOF6FK5HYThA9ihcj8I1OEBSuB6F69E4QBSuR+F6VDZA7FG4HoXrOEDXo3A9Ctc4QAAAAAAAADhAexSuR+G6OEAAAAAAAEA5QA==\"},\"xaxis\":\"x\",\"y\":{\"dtype\":\"f8\",\"bdata\":\"exSuR+E6R0CkcD0K12NIQM3MzMzMLEhAexSuR+FaR0BSuB6F6\\u002fFHQHsUrkfhWkhA4XoUrkchR0DD9Shcj+JFQB+F61G4XkhACtejcD1qR0AUrkfhenRHQHsUrkfhukdAMzMzMzNTR0AzMzMzMxNIQClcj8L1qEhA9ihcj8J1R0CamZmZmZlHQMP1KFyP4kdArkfhehQOSEAK16NwPYpIQFyPwvUofEdAPQrXo3B9R0D2KFyPwpVHQMP1KFyPgkdArkfhehRuR0AUrkfhehRHQBSuR+F61EdAMzMzMzOzR0C4HoXrUVhIQI\\u002fC9ShcL0dACtejcD3KSEBcj8L1KNxHQClcj8L1aEdAw\\u002fUoXI9CSUCkcD0K14NHQJqZmZmZOUhA4XoUrkfhR0DD9Shcj4JHQClcj8L1yEZAUrgehesxSEA9CtejcL1JQAAAAAAAgEdAUrgehevRR0CF61G4HqVJQK5H4XoUTkVA9ihcj8L1R0Bcj8L1KHxIQAAAAAAAQEdA9ihcj8LVR0DD9Shcj6JIQA==\"},\"yaxis\":\"y\",\"type\":\"scatter\"},{\"customdata\":[[\"Alabama\"],[\"Alaska\"],[\"Arizona\"],[\"Arkansas\"],[\"California\"],[\"Colorado\"],[\"Connecticut\"],[\"Delaware\"],[\"Florida\"],[\"Georgia\"],[\"Hawaii\"],[\"Idaho\"],[\"Illinois\"],[\"Indiana\"],[\"Iowa\"],[\"Kansas\"],[\"Kentucky\"],[\"Louisiana\"],[\"Maine\"],[\"Maryland\"],[\"Massachusetts\"],[\"Michigan\"],[\"Minnesota\"],[\"Mississippi\"],[\"Missouri\"],[\"Montana\"],[\"Nebraska\"],[\"Nevada\"],[\"New Hampshire\"],[\"New Jersey\"],[\"New Mexico\"],[\"New York\"],[\"North Carolina\"],[\"North Dakota\"],[\"Ohio\"],[\"Oklahoma\"],[\"Oregon\"],[\"Pennsylvania\"],[\"Rhode Island\"],[\"South Carolina\"],[\"South Dakota\"],[\"Tennessee\"],[\"Texas\"],[\"Utah\"],[\"Vermont\"],[\"Virginia\"],[\"Washington\"],[\"West Virginia\"],[\"Wisconsin\"],[\"Wyoming\"]],\"hovertemplate\":\"sales_method=Email\\u003cbr\\u003eAverage Site Visits=%{x}\\u003cbr\\u003eAverage Revenue per Customer=%{y}\\u003cbr\\u003ecustomer_count=%{marker.size}\\u003cbr\\u003estate=%{customdata[0]}\\u003cextra\\u003e\\u003c\\u002fextra\\u003e\",\"legendgroup\":\"Email\",\"marker\":{\"color\":\"#EF553B\",\"size\":{\"dtype\":\"i2\",\"bdata\":\"cAAVAJMAOwCZA3oATgARAMQBAQEiACIAOQG9AFoASQBiAHMAHgCDAJMAAwFsAEYApQAbACcAOgAfAMYALQDbAeAAEQANAWEAawA3ARMAcgAUAJ8AVgJCAAsAvwCeAC4AgQAPAA==\"},\"sizemode\":\"area\",\"sizeref\":2.3025,\"symbol\":\"circle\"},\"mode\":\"markers\",\"name\":\"Email\",\"orientation\":\"v\",\"showlegend\":true,\"x\":{\"dtype\":\"f8\",\"bdata\":\"9ihcj8I1OECF61G4HoU5QIXrUbgexThAMzMzMzPzOEBxPQrXo7A4QM3MzMzMTDlAmpmZmZkZOUC4HoXrUXg5QJqZmZmZGTlApHA9CtejOEDD9Shcj8I3QHE9CtejcDhAw\\u002fUoXI8COUBSuB6F69E4QClcj8L1qDhA4XoUrkehOEC4HoXrUTg4QI\\u002fC9ShcDzlAFK5H4XrUOUAfhetRuF44QNejcD0KlzhArkfhehSuOEBSuB6F65E4QPYoXI\\u002fCtThAhetRuB6FOEDD9Shcj0I4QOF6FK5HYTlAKVyPwvXoOEBxPQrXozA5QM3MzMzMjDhAMzMzMzMzOUCkcD0K16M4QLgehetReDhAZmZmZmamN0CkcD0K1+M4QLgehetRuDhArkfhehSuOECuR+F6FO44QArXo3A9yjhAZmZmZmbmOEAzMzMzM\\u002fM4QHsUrkfhejhAFK5H4XrUOEAzMzMzMzM5QFK4HoXr0ThAhetRuB7FOEAUrkfhepQ4QGZmZmZmpjlAMzMzMzNzOECF61G4HkU3QA==\"},\"xaxis\":\"x\",\"y\":{\"dtype\":\"f8\",\"bdata\":\"ZmZmZmY2WEBSuB6F61FZQJqZmZmZOVhAmpmZmZmpV0BxPQrXo1BYQClcj8L1OFhAKVyPwvVoWEDNzMzMzJxYQGZmZmZmVlhAFK5H4XpkWEBmZmZmZkZYQGZmZmZmJlhApHA9CtcjWEBI4XoUridYQArXo3A96ldA4XoUrkeRWEB7FK5H4fpXQPYoXI\\u002fCVVhA16NwPQoHWEBxPQrXoyBYQD0K16Nw3VdAUrgehetRWEDhehSuRwFYQM3MzMzMDFhAuB6F61F4WEBI4XoUridXQMP1KFyPclhAXI\\u002fC9SisWEBxPQrXo2BYQKRwPQrXY1hA9ihcj8JlWEBI4XoUrmdYQEjhehSuJ1hApHA9CtdjWEDXo3A9CodYQHE9CtejwFhApHA9CtfDWEDD9ShcjzJYQD0K16NwPVhArkfhehR+WEDhehSuRxFYQGZmZmZmRlhAhetRuB5FWEDsUbgehYtYQMP1KFyPEldA16NwPQp3WECamZmZmflXQNejcD0KF1lAPQrXo3CtV0D2KFyPwkVXQA==\"},\"yaxis\":\"y\",\"type\":\"scatter\"},{\"customdata\":[[\"Alabama\"],[\"Alaska\"],[\"Arizona\"],[\"Arkansas\"],[\"California\"],[\"Colorado\"],[\"Connecticut\"],[\"Delaware\"],[\"Florida\"],[\"Georgia\"],[\"Hawaii\"],[\"Idaho\"],[\"Illinois\"],[\"Indiana\"],[\"Iowa\"],[\"Kansas\"],[\"Kentucky\"],[\"Louisiana\"],[\"Maine\"],[\"Maryland\"],[\"Massachusetts\"],[\"Michigan\"],[\"Minnesota\"],[\"Mississippi\"],[\"Missouri\"],[\"Montana\"],[\"Nebraska\"],[\"Nevada\"],[\"New Hampshire\"],[\"New Jersey\"],[\"New Mexico\"],[\"New York\"],[\"North Carolina\"],[\"North Dakota\"],[\"Ohio\"],[\"Oklahoma\"],[\"Oregon\"],[\"Pennsylvania\"],[\"Rhode Island\"],[\"South Carolina\"],[\"South Dakota\"],[\"Tennessee\"],[\"Texas\"],[\"Utah\"],[\"Vermont\"],[\"Virginia\"],[\"Washington\"],[\"West Virginia\"],[\"Wisconsin\"],[\"Wyoming\"]],\"hovertemplate\":\"sales_method=Email + Call\\u003cbr\\u003eAverage Site Visits=%{x}\\u003cbr\\u003eAverage Revenue per Customer=%{y}\\u003cbr\\u003ecustomer_count=%{marker.size}\\u003cbr\\u003estate=%{customdata[0]}\\u003cextra\\u003e\\u003c\\u002fextra\\u003e\",\"legendgroup\":\"Email + Call\",\"marker\":{\"color\":\"#00cc96\",\"size\":{\"dtype\":\"i2\",\"bdata\":\"JwAGADkAFgA1ASQAKQAIAJsATwAOAA0AXgA5ABYAFwAoACkABwArADQAWQAvAB4AMAAEABUAEQAFAEgADwCZAEUABgBfACIALwBjAAcALAAKADUA1AAUAAgARQBJABAALQAGAA==\"},\"sizemode\":\"area\",\"sizeref\":2.3025,\"symbol\":\"circle\"},\"mode\":\"markers\",\"name\":\"Email + Call\",\"orientation\":\"v\",\"showlegend\":true,\"x\":{\"dtype\":\"f8\",\"bdata\":\"7FG4HoXrO0DsUbgehSs6QM3MzMzMTDpArkfhehSuOkBcj8L1KJw6QAAAAAAAwDpAw\\u002fUoXI\\u002fCOkAAAAAAAAA8QDMzMzMzszpAuB6F61F4O0AK16NwPUo8QHsUrkfhOjtAzczMzMzMOkBSuB6F69E6QFK4HoXrUTpASOF6FK7HOkAfhetRuJ46QFK4HoXrETpACtejcD1KPED2KFyPwjU7QI\\u002fC9ShcTzpAPQrXo3B9OkCuR+F6FK47QJqZmZmZmTpAmpmZmZmZOkAAAAAAAMA6QK5H4XoUbjlAH4XrUbgeOkCamZmZmZk7QFK4HoXrUTtA4XoUrkchO0CkcD0K1yM7QHE9Ctej8DpA7FG4HoWrPEBI4XoUroc6QClcj8L16DpACtejcD0KO0AK16NwPUo6QK5H4XoUbjxAXI\\u002fC9SgcO0BmZmZmZuY5QArXo3A9yjpA7FG4HoWrOkAAAAAAAAA7QAAAAAAAgDlArkfhehSuOkBxPQrXo3A6QHE9CtejsDpAcT0K16NwOkDsUbgehSs7QA==\"},\"xaxis\":\"x\",\"y\":{\"dtype\":\"f8\",\"bdata\":\"zczMzMxsZ0CuR+F6FN5mQD0K16NwhWZAuB6F61E4aEDsUbgeheNmQLgehetRWGZA7FG4HoV7ZkAUrkfheuxmQClcj8L12GZAPQrXo3BFZ0C4HoXrUdhnQD0K16NwTWZAMzMzMzNbZ0AzMzMzM7tmQPYoXI\\u002fCnWdASOF6FK4vZkBI4XoUrs9mQLgehetRAGdAw\\u002fUoXI96aUBxPQrXoxBnQEjhehSub2ZAzczMzMyEZkAfhetRuIZnQGZmZmZmtmZA4XoUrkdRZkCkcD0K18NjQAAAAAAAYGZASOF6FK7XZkA9CtejcJVpQHE9Ctej+GZACtejcD0KZ0BSuB6F6xFnQFyPwvUo5GZAzczMzMw0aEAzMzMzMwNnQFyPwvUotGZApHA9CtfbZkCuR+F6FBZnQHE9CtejeGlA4XoUrkfRZ0CPwvUoXLdmQOF6FK5HCWdAZmZmZmbOZkApXI\\u002fC9XBoQJqZmZmZ8WdAUrgehevBZkD2KFyPwhVnQJqZmZmZyWZA7FG4HoWrZkDNzMzMzJxoQA==\"},\"yaxis\":\"y\",\"type\":\"scatter\"}],                        {\"template\":{\"data\":{\"histogram2dcontour\":[{\"type\":\"histogram2dcontour\",\"colorbar\":{\"outlinewidth\":0,\"ticks\":\"\"},\"colorscale\":[[0.0,\"#0d0887\"],[0.1111111111111111,\"#46039f\"],[0.2222222222222222,\"#7201a8\"],[0.3333333333333333,\"#9c179e\"],[0.4444444444444444,\"#bd3786\"],[0.5555555555555556,\"#d8576b\"],[0.6666666666666666,\"#ed7953\"],[0.7777777777777778,\"#fb9f3a\"],[0.8888888888888888,\"#fdca26\"],[1.0,\"#f0f921\"]]}],\"choropleth\":[{\"type\":\"choropleth\",\"colorbar\":{\"outlinewidth\":0,\"ticks\":\"\"}}],\"histogram2d\":[{\"type\":\"histogram2d\",\"colorbar\":{\"outlinewidth\":0,\"ticks\":\"\"},\"colorscale\":[[0.0,\"#0d0887\"],[0.1111111111111111,\"#46039f\"],[0.2222222222222222,\"#7201a8\"],[0.3333333333333333,\"#9c179e\"],[0.4444444444444444,\"#bd3786\"],[0.5555555555555556,\"#d8576b\"],[0.6666666666666666,\"#ed7953\"],[0.7777777777777778,\"#fb9f3a\"],[0.8888888888888888,\"#fdca26\"],[1.0,\"#f0f921\"]]}],\"heatmap\":[{\"type\":\"heatmap\",\"colorbar\":{\"outlinewidth\":0,\"ticks\":\"\"},\"colorscale\":[[0.0,\"#0d0887\"],[0.1111111111111111,\"#46039f\"],[0.2222222222222222,\"#7201a8\"],[0.3333333333333333,\"#9c179e\"],[0.4444444444444444,\"#bd3786\"],[0.5555555555555556,\"#d8576b\"],[0.6666666666666666,\"#ed7953\"],[0.7777777777777778,\"#fb9f3a\"],[0.8888888888888888,\"#fdca26\"],[1.0,\"#f0f921\"]]}],\"contourcarpet\":[{\"type\":\"contourcarpet\",\"colorbar\":{\"outlinewidth\":0,\"ticks\":\"\"}}],\"contour\":[{\"type\":\"contour\",\"colorbar\":{\"outlinewidth\":0,\"ticks\":\"\"},\"colorscale\":[[0.0,\"#0d0887\"],[0.1111111111111111,\"#46039f\"],[0.2222222222222222,\"#7201a8\"],[0.3333333333333333,\"#9c179e\"],[0.4444444444444444,\"#bd3786\"],[0.5555555555555556,\"#d8576b\"],[0.6666666666666666,\"#ed7953\"],[0.7777777777777778,\"#fb9f3a\"],[0.8888888888888888,\"#fdca26\"],[1.0,\"#f0f921\"]]}],\"surface\":[{\"type\":\"surface\",\"colorbar\":{\"outlinewidth\":0,\"ticks\":\"\"},\"colorscale\":[[0.0,\"#0d0887\"],[0.1111111111111111,\"#46039f\"],[0.2222222222222222,\"#7201a8\"],[0.3333333333333333,\"#9c179e\"],[0.4444444444444444,\"#bd3786\"],[0.5555555555555556,\"#d8576b\"],[0.6666666666666666,\"#ed7953\"],[0.7777777777777778,\"#fb9f3a\"],[0.8888888888888888,\"#fdca26\"],[1.0,\"#f0f921\"]]}],\"mesh3d\":[{\"type\":\"mesh3d\",\"colorbar\":{\"outlinewidth\":0,\"ticks\":\"\"}}],\"scatter\":[{\"marker\":{\"line\":{\"color\":\"#283442\"}},\"type\":\"scatter\"}],\"parcoords\":[{\"type\":\"parcoords\",\"line\":{\"colorbar\":{\"outlinewidth\":0,\"ticks\":\"\"}}}],\"scatterpolargl\":[{\"type\":\"scatterpolargl\",\"marker\":{\"colorbar\":{\"outlinewidth\":0,\"ticks\":\"\"}}}],\"bar\":[{\"error_x\":{\"color\":\"#f2f5fa\"},\"error_y\":{\"color\":\"#f2f5fa\"},\"marker\":{\"line\":{\"color\":\"rgb(17,17,17)\",\"width\":0.5},\"pattern\":{\"fillmode\":\"overlay\",\"size\":10,\"solidity\":0.2}},\"type\":\"bar\"}],\"scattergeo\":[{\"type\":\"scattergeo\",\"marker\":{\"colorbar\":{\"outlinewidth\":0,\"ticks\":\"\"}}}],\"scatterpolar\":[{\"type\":\"scatterpolar\",\"marker\":{\"colorbar\":{\"outlinewidth\":0,\"ticks\":\"\"}}}],\"histogram\":[{\"marker\":{\"pattern\":{\"fillmode\":\"overlay\",\"size\":10,\"solidity\":0.2}},\"type\":\"histogram\"}],\"scattergl\":[{\"marker\":{\"line\":{\"color\":\"#283442\"}},\"type\":\"scattergl\"}],\"scatter3d\":[{\"type\":\"scatter3d\",\"line\":{\"colorbar\":{\"outlinewidth\":0,\"ticks\":\"\"}},\"marker\":{\"colorbar\":{\"outlinewidth\":0,\"ticks\":\"\"}}}],\"scattermap\":[{\"type\":\"scattermap\",\"marker\":{\"colorbar\":{\"outlinewidth\":0,\"ticks\":\"\"}}}],\"scattermapbox\":[{\"type\":\"scattermapbox\",\"marker\":{\"colorbar\":{\"outlinewidth\":0,\"ticks\":\"\"}}}],\"scatterternary\":[{\"type\":\"scatterternary\",\"marker\":{\"colorbar\":{\"outlinewidth\":0,\"ticks\":\"\"}}}],\"scattercarpet\":[{\"type\":\"scattercarpet\",\"marker\":{\"colorbar\":{\"outlinewidth\":0,\"ticks\":\"\"}}}],\"carpet\":[{\"aaxis\":{\"endlinecolor\":\"#A2B1C6\",\"gridcolor\":\"#506784\",\"linecolor\":\"#506784\",\"minorgridcolor\":\"#506784\",\"startlinecolor\":\"#A2B1C6\"},\"baxis\":{\"endlinecolor\":\"#A2B1C6\",\"gridcolor\":\"#506784\",\"linecolor\":\"#506784\",\"minorgridcolor\":\"#506784\",\"startlinecolor\":\"#A2B1C6\"},\"type\":\"carpet\"}],\"table\":[{\"cells\":{\"fill\":{\"color\":\"#506784\"},\"line\":{\"color\":\"rgb(17,17,17)\"}},\"header\":{\"fill\":{\"color\":\"#2a3f5f\"},\"line\":{\"color\":\"rgb(17,17,17)\"}},\"type\":\"table\"}],\"barpolar\":[{\"marker\":{\"line\":{\"color\":\"rgb(17,17,17)\",\"width\":0.5},\"pattern\":{\"fillmode\":\"overlay\",\"size\":10,\"solidity\":0.2}},\"type\":\"barpolar\"}],\"pie\":[{\"automargin\":true,\"type\":\"pie\"}]},\"layout\":{\"autotypenumbers\":\"strict\",\"colorway\":[\"#636efa\",\"#EF553B\",\"#00cc96\",\"#ab63fa\",\"#FFA15A\",\"#19d3f3\",\"#FF6692\",\"#B6E880\",\"#FF97FF\",\"#FECB52\"],\"font\":{\"color\":\"#f2f5fa\"},\"hovermode\":\"closest\",\"hoverlabel\":{\"align\":\"left\"},\"paper_bgcolor\":\"rgb(17,17,17)\",\"plot_bgcolor\":\"rgb(17,17,17)\",\"polar\":{\"bgcolor\":\"rgb(17,17,17)\",\"angularaxis\":{\"gridcolor\":\"#506784\",\"linecolor\":\"#506784\",\"ticks\":\"\"},\"radialaxis\":{\"gridcolor\":\"#506784\",\"linecolor\":\"#506784\",\"ticks\":\"\"}},\"ternary\":{\"bgcolor\":\"rgb(17,17,17)\",\"aaxis\":{\"gridcolor\":\"#506784\",\"linecolor\":\"#506784\",\"ticks\":\"\"},\"baxis\":{\"gridcolor\":\"#506784\",\"linecolor\":\"#506784\",\"ticks\":\"\"},\"caxis\":{\"gridcolor\":\"#506784\",\"linecolor\":\"#506784\",\"ticks\":\"\"}},\"coloraxis\":{\"colorbar\":{\"outlinewidth\":0,\"ticks\":\"\"}},\"colorscale\":{\"sequential\":[[0.0,\"#0d0887\"],[0.1111111111111111,\"#46039f\"],[0.2222222222222222,\"#7201a8\"],[0.3333333333333333,\"#9c179e\"],[0.4444444444444444,\"#bd3786\"],[0.5555555555555556,\"#d8576b\"],[0.6666666666666666,\"#ed7953\"],[0.7777777777777778,\"#fb9f3a\"],[0.8888888888888888,\"#fdca26\"],[1.0,\"#f0f921\"]],\"sequentialminus\":[[0.0,\"#0d0887\"],[0.1111111111111111,\"#46039f\"],[0.2222222222222222,\"#7201a8\"],[0.3333333333333333,\"#9c179e\"],[0.4444444444444444,\"#bd3786\"],[0.5555555555555556,\"#d8576b\"],[0.6666666666666666,\"#ed7953\"],[0.7777777777777778,\"#fb9f3a\"],[0.8888888888888888,\"#fdca26\"],[1.0,\"#f0f921\"]],\"diverging\":[[0,\"#8e0152\"],[0.1,\"#c51b7d\"],[0.2,\"#de77ae\"],[0.3,\"#f1b6da\"],[0.4,\"#fde0ef\"],[0.5,\"#f7f7f7\"],[0.6,\"#e6f5d0\"],[0.7,\"#b8e186\"],[0.8,\"#7fbc41\"],[0.9,\"#4d9221\"],[1,\"#276419\"]]},\"xaxis\":{\"gridcolor\":\"#283442\",\"linecolor\":\"#506784\",\"ticks\":\"\",\"title\":{\"standoff\":15},\"zerolinecolor\":\"#283442\",\"automargin\":true,\"zerolinewidth\":2},\"yaxis\":{\"gridcolor\":\"#283442\",\"linecolor\":\"#506784\",\"ticks\":\"\",\"title\":{\"standoff\":15},\"zerolinecolor\":\"#283442\",\"automargin\":true,\"zerolinewidth\":2},\"scene\":{\"xaxis\":{\"backgroundcolor\":\"rgb(17,17,17)\",\"gridcolor\":\"#506784\",\"linecolor\":\"#506784\",\"showbackground\":true,\"ticks\":\"\",\"zerolinecolor\":\"#C8D4E3\",\"gridwidth\":2},\"yaxis\":{\"backgroundcolor\":\"rgb(17,17,17)\",\"gridcolor\":\"#506784\",\"linecolor\":\"#506784\",\"showbackground\":true,\"ticks\":\"\",\"zerolinecolor\":\"#C8D4E3\",\"gridwidth\":2},\"zaxis\":{\"backgroundcolor\":\"rgb(17,17,17)\",\"gridcolor\":\"#506784\",\"linecolor\":\"#506784\",\"showbackground\":true,\"ticks\":\"\",\"zerolinecolor\":\"#C8D4E3\",\"gridwidth\":2}},\"shapedefaults\":{\"line\":{\"color\":\"#f2f5fa\"}},\"annotationdefaults\":{\"arrowcolor\":\"#f2f5fa\",\"arrowhead\":0,\"arrowwidth\":1},\"geo\":{\"bgcolor\":\"rgb(17,17,17)\",\"landcolor\":\"rgb(17,17,17)\",\"subunitcolor\":\"#506784\",\"showland\":true,\"showlakes\":true,\"lakecolor\":\"rgb(17,17,17)\"},\"title\":{\"x\":0.05},\"updatemenudefaults\":{\"bgcolor\":\"#506784\",\"borderwidth\":0},\"sliderdefaults\":{\"bgcolor\":\"#C8D4E3\",\"borderwidth\":1,\"bordercolor\":\"rgb(17,17,17)\",\"tickwidth\":0},\"mapbox\":{\"style\":\"dark\"}}},\"xaxis\":{\"anchor\":\"y\",\"domain\":[0.0,1.0],\"title\":{\"text\":\"Average Site Visits\"}},\"yaxis\":{\"anchor\":\"x\",\"domain\":[0.0,1.0],\"title\":{\"text\":\"Average Revenue per Customer\"}},\"legend\":{\"title\":{\"text\":\"sales_method\"},\"tracegroupgap\":0,\"itemsizing\":\"constant\"},\"title\":{\"text\":\"Customer Engagement vs Revenue by Sales Method and Region\",\"x\":0.5}},                        {\"responsive\": true}                    ).then(function(){\n",
       "                            \n",
       "var gd = document.getElementById('10dd7c7d-1a8d-466c-9e04-017ad52773ae');\n",
       "var x = new MutationObserver(function (mutations, observer) {{\n",
       "        var display = window.getComputedStyle(gd).display;\n",
       "        if (!display || display === 'none') {{\n",
       "            console.log([gd, 'removed!']);\n",
       "            Plotly.purge(gd);\n",
       "            observer.disconnect();\n",
       "        }}\n",
       "}});\n",
       "\n",
       "// Listen for the removal of the full notebook cells\n",
       "var notebookContainer = gd.closest('#notebook-container');\n",
       "if (notebookContainer) {{\n",
       "    x.observe(notebookContainer, {childList: true});\n",
       "}}\n",
       "\n",
       "// Listen for the clearing of the current output cell\n",
       "var outputEl = gd.closest('.output');\n",
       "if (outputEl) {{\n",
       "    x.observe(outputEl, {childList: true});\n",
       "}}\n",
       "\n",
       "                        })                };            </script>        </div>"
      ]
     },
     "metadata": {},
     "output_type": "display_data"
    }
   ],
   "execution_count": 408
  },
  {
   "cell_type": "markdown",
   "metadata": {},
   "source": "Systematic geographic data aggregation creates the analytical foundation for territory-based performance evaluation, consolidating customer interactions by state and sales methodology. This structured approach enables precise identification of regional patterns and method preferences across different geographic markets. The aggregated dataset provides essential insights for territory-specific strategy development and resource allocation optimization."
  },
  {
   "cell_type": "code",
   "metadata": {
    "ExecuteTime": {
     "end_time": "2025-08-27T17:46:13.660779Z",
     "start_time": "2025-08-27T17:46:13.658982Z"
    }
   },
   "source": [
    "# Define the sales effort for each sales method\n",
    "sales_effort = {\n",
    "    'Email': 0.5,\n",
    "    'Call': 3,\n",
    "    'Email + Call': 1\n",
    "}"
   ],
   "outputs": [],
   "execution_count": 409
  },
  {
   "cell_type": "markdown",
   "metadata": {},
   "source": "Territory-level performance aggregation establishes baseline metrics for comparative regional analysis, enabling identification of high-performing geographic segments within the national market. These state-level summaries provide executive stakeholders with clear insights into geographic market dynamics and performance variation. The territorial analysis forms the foundation for strategic market segmentation and resource allocation decision-making processes."
  },
  {
   "cell_type": "code",
   "metadata": {
    "ExecuteTime": {
     "end_time": "2025-08-27T17:46:13.727497Z",
     "start_time": "2025-08-27T17:46:13.722901Z"
    }
   },
   "source": [
    "# Group the data by sales_method and aggregate the total revenue and number of customers\n",
    "grouped_data = sales_data.groupby('sales_method').agg({'revenue': 'sum', 'customer_id': 'count'}).reset_index()\n",
    "\n",
    "# Calculate ARCPSE for each sales method\n",
    "grouped_data['TRMNS'] = grouped_data.apply(lambda row: row['revenue'] / (row['customer_id'] * sales_effort[row['sales_method']]), axis=1)"
   ],
   "outputs": [],
   "execution_count": 410
  },
  {
   "cell_type": "markdown",
   "metadata": {},
   "source": [
    "* Groups data by sales method for comprehensive metric calculation.\n",
    "* Calculates Total Revenue per Minute per Sales (TRMNS) efficiency metric.\n",
    "* Enables fair comparison across methodologies with different time investments."
   ]
  },
  {
   "cell_type": "code",
   "metadata": {
    "ExecuteTime": {
     "end_time": "2025-08-27T17:46:13.792294Z",
     "start_time": "2025-08-27T17:46:13.789038Z"
    }
   },
   "source": [
    "# Display the ARCPSE for each sales method\n",
    "print(grouped_data[['sales_method', 'TRMNS']])"
   ],
   "outputs": [
    {
     "name": "stdout",
     "output_type": "stream",
     "text": [
      "   sales_method       TRMNS\n",
      "0          Call   15.865822\n",
      "1         Email  194.255368\n",
      "2  Email + Call  183.651233\n"
     ]
    }
   ],
   "execution_count": 411
  },
  {
   "cell_type": "markdown",
   "metadata": {},
   "source": [
    "* Displays TRMNS values for each sales methodology.\n",
    "* Provides quantitative efficiency comparison for strategic decision-making.\n",
    "* Shows which methods generate highest revenue per unit of effort invested."
   ]
  },
  {
   "cell_type": "code",
   "metadata": {
    "ExecuteTime": {
     "end_time": "2025-08-27T17:46:13.954939Z",
     "start_time": "2025-08-27T17:46:13.856322Z"
    }
   },
   "source": [
    "sns.barplot(data=grouped_data, x='sales_method', y='TRMNS', color='steelblue') #graph ical representation of TRMNS\n",
    "plt.title('Revenue per Minute per Customer (TRMNS) by Sales Method')"
   ],
   "outputs": [
    {
     "data": {
      "text/plain": [
       "Text(0.5, 1.0, 'Revenue per Minute per Customer (TRMNS) by Sales Method')"
      ]
     },
     "execution_count": 412,
     "metadata": {},
     "output_type": "execute_result"
    },
    {
     "data": {
      "text/plain": [
       "<Figure size 640x480 with 1 Axes>"
      ],
      "image/png": "[encoded data removed]"
     },
     "metadata": {},
     "output_type": "display_data"
    }
   ],
   "execution_count": 412
  },
  {
   "cell_type": "markdown",
   "metadata": {},
   "source": [
    "## 4.2 Geographic TRMNS Analysis"
   ]
  },
  {
   "cell_type": "code",
   "metadata": {
    "ExecuteTime": {
     "end_time": "2025-08-27T17:46:13.980283Z",
     "start_time": "2025-08-27T17:46:13.976938Z"
    }
   },
   "source": [
    "# Calculate TRMNS by state and sales method for geographic optimization\n",
    "regional_performance['TRMNS'] = regional_performance.apply(\n",
    "    lambda row: row['total_revenue'] / (row['customer_count'] * sales_effort[row['sales_method']]), \n",
    "    axis=1\n",
    ")"
   ],
   "outputs": [],
   "execution_count": 413
  },
  {
   "cell_type": "markdown",
   "metadata": {},
   "source": [
    "* Extends TRMNS analysis to geographic dimensions for territory optimization.\n",
    "* Calculates efficiency metric for each state-method combination.\n",
    "* Enables identification of most efficient regional approaches."
   ]
  },
  {
   "cell_type": "code",
   "metadata": {
    "ExecuteTime": {
     "end_time": "2025-08-27T17:46:14.045542Z",
     "start_time": "2025-08-27T17:46:14.040859Z"
    }
   },
   "source": [
    "# Identify top performing regions by TRMNS\n",
    "top_trmns_regions = regional_performance.nlargest(15, 'TRMNS')[['state', 'sales_method', 'TRMNS', 'customer_count']]\n",
    "print(\"Top 15 State-Method combinations by TRMNS:\")\n",
    "print(top_trmns_regions)"
   ],
   "outputs": [
    {
     "name": "stdout",
     "output_type": "stream",
     "text": [
      "Top 15 State-Method combinations by TRMNS:\n",
      "              state  sales_method       TRMNS  customer_count\n",
      "86    New Hampshire  Email + Call  204.674000               5\n",
      "56            Maine  Email + Call  203.832857               7\n",
      "116    Rhode Island  Email + Call  203.774286               7\n",
      "4            Alaska         Email  202.558095              21\n",
      "142   West Virginia         Email  200.710870              46\n",
      "109          Oregon         Email  198.120935             107\n",
      "106        Oklahoma         Email  198.020206              97\n",
      "82           Nevada         Email  197.372069              58\n",
      "22         Delaware         Email  196.898824              17\n",
      "149         Wyoming  Email + Call  196.896667               6\n",
      "46           Kansas         Email  196.544932              73\n",
      "130            Utah         Email  196.355152              66\n",
      "103            Ohio         Email  196.210855             269\n",
      "118  South Carolina         Email  195.939474             114\n",
      "73         Missouri         Email  195.769212             165\n"
     ]
    }
   ],
   "execution_count": 414
  },
  {
   "cell_type": "markdown",
   "metadata": {},
   "source": [
    "* Identifies top 15 most efficient state-method combinations.\n",
    "* Includes customer count context for resource allocation decisions.\n",
    "* Enables precise geographic strategy optimization."
   ]
  },
  {
   "cell_type": "code",
   "metadata": {
    "ExecuteTime": {
     "end_time": "2025-08-27T17:46:14.111099Z",
     "start_time": "2025-08-27T17:46:14.106539Z"
    }
   },
   "source": [
    "# Create heatmap showing TRMNS performance by state and method\n",
    "trmns_pivot = regional_performance.pivot_table(\n",
    "    values='TRMNS', \n",
    "    index='state', \n",
    "    columns='sales_method', \n",
    "    fill_value=0\n",
    ")"
   ],
   "outputs": [],
   "execution_count": 415
  },
  {
   "cell_type": "markdown",
   "metadata": {},
   "source": [
    "* Create pivot table structure for comprehensive heatmap visualization.\n",
    "* Organizes TRMNS data with states as rows and methods as columns.\n",
    "* Fills missing combinations with zero for complete analysis."
   ]
  },
  {
   "cell_type": "code",
   "metadata": {
    "ExecuteTime": {
     "end_time": "2025-08-27T17:46:14.957596Z",
     "start_time": "2025-08-27T17:46:14.171314Z"
    }
   },
   "source": [
    "plt.figure(figsize=(12, 20))\n",
    "sns.heatmap(trmns_pivot, annot=True, fmt='.1f', cmap='RdYlBu_r')\n",
    "plt.title('TRMNS Performance Heatmap by State and Sales Method')\n",
    "plt.tight_layout()\n",
    "plt.show()"
   ],
   "outputs": [
    {
     "data": {
      "text/plain": [
       "<Figure size 1200x2000 with 2 Axes>"
      ],
      "image/png": "[encoded data removed]"
     },
     "metadata": {},
     "output_type": "display_data"
    }
   ],
   "execution_count": 416
  },
  {
   "cell_type": "markdown",
   "metadata": {},
   "source": [
    "### Key Insights from the Heatmap\n",
    "\n",
    "Email outperforms other methods\n",
    "\n",
    "* Consistently higher performance across states (e.g., Alaska, West Virginia, Maine).\n",
    "\n",
    "* Most reliable driver of sales.\n",
    "\n",
    "Calls are stable but weak\n",
    "\n",
    "* Narrow range, predictable impact, but significantly lower than Email.\n",
    "\n",
    "Email + Call shows limited synergy\n",
    "\n",
    "* Only in a few states (e.g., New Hampshire, Maine) does the mix outperform Email alone.\n",
    "\n",
    "---"
   ]
  },
  {
   "cell_type": "markdown",
   "metadata": {},
   "source": [
    "# 5. Strategic Conclusions and Recommendations\n",
    "\n",
    "## 5.1 Primary Strategic Recommendation\n",
    "\n",
    "**Recommendation:** Implement Geographic-Specific Sales Method Optimization\n",
    "\n",
    "Based on comprehensive analysis including geographic distribution patterns, the optimal strategy involves territory-specific method allocation rather than uniform application across all regions.\n",
    "\n",
    "## 5.2 Geographic Strategy Framework\n",
    "\n",
    "**High-Performance Regions (TRMNS > 180):**\n",
    "- Prioritize Email+Call methodology for maximum effectiveness\n",
    "- Allocate premium sales resources and experienced personnel\n",
    "- Implement advanced personalization strategies for customer engagement\n",
    "\n",
    "**Moderate-Performance Regions (TRMNS 100-180):**\n",
    "- Maintain balanced Email and Email+Call approach for flexibility\n",
    "- Monitor performance trends closely for optimization opportunities\n",
    "- Test and refine strategies based on regional characteristics\n",
    "\n",
    "**Developing Regions (TRMNS < 100):**\n",
    "- Focus on high-efficiency Email methodology for resource optimization\n",
    "- Minimize resource-intensive Call approaches to improve ROI\n",
    "- Establish baseline performance metrics for future improvement\n",
    "\n",
    "## 5.3 Implementation Timeline\n",
    "\n",
    "**Phase 1 (Weeks 1-4): Geographic Assessment**\n",
    "- Complete detailed state-level performance analysis and benchmarking\n",
    "- Identify top 20% performing territories for priority resource allocation\n",
    "- Establish regional performance benchmarks and success metrics\n",
    "\n",
    "**Phase 2 (Weeks 5-12): Gradual Optimization**\n",
    "- Implement territory-specific method allocation based on TRMNS analysis\n",
    "- Begin comprehensive performance monitoring and adjustment processes\n",
    "- Train regional teams on optimized approaches and best practices\n",
    "\n",
    "**Phase 3 (Weeks 13-24): Full Implementation**\n",
    "- Deploy complete geographic optimization strategy across all territories\n",
    "- Establish automated performance monitoring and alert systems\n",
    "- Implement continuous improvement processes and feedback loops\n",
    "\n",
    "## 5.4 Expected Financial Impact\n",
    "\n",
    "**Conservative Projections (Based on Geographic Optimization):**\n",
    "- Overall revenue increase: 28-35% through strategic geographic optimization\n",
    "- TRMNS improvement: 22-30% through targeted resource allocation\n",
    "- Customer engagement enhancement: 15-25% through method-region matching\n",
    "\n",
    "## 5.5 Success Metrics and Monitoring\n",
    "\n",
    "**Primary KPIs:**\n",
    "- Geographic TRMNS performance tracking by quarter\n",
    "- Regional revenue growth rates and trend analysis\n",
    "- Territory-specific customer engagement metrics and satisfaction scores\n",
    "- Sales team productivity measurements by region and methodology\n",
    "\n",
    "**Monitoring Framework:**\n",
    "- **Weekly:** Regional TRMNS tracking and automated performance alerts\n",
    "- **Monthly:** Comprehensive geographic performance reviews and adjustments\n",
    "- **Quarterly:** Strategic optimization assessments and strategic planning updates\n",
    "\n",
    "This comprehensive analysis provides a data-driven foundation for implementing geographic-specific sales optimization, combining efficiency metrics with territorial insights to maximize both resource utilization and revenue generation across diverse market conditions."
   ]
  }
 ],
 "metadata": {
  "kernelspec": {
   "display_name": "Python 3",
   "language": "python",
   "name": "python3"
  },
  "language_info": {
   "codemirror_mode": {
    "name": "ipython",
    "version": 3
   },
   "file_extension": ".py",
   "mimetype": "text/x-python",
   "name": "python",
   "nbconvert_exporter": "python",
   "pygments_lexer": "ipython3",
   "version": "3.8.5"
  }
 },
 "nbformat": 4,
 "nbformat_minor": 4
}
